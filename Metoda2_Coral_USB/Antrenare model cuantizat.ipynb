{
 "cells": [
  {
   "cell_type": "markdown",
   "metadata": {
    "id": "QUANWN3rpfC9"
   },
   "source": [
    "# 0. Setup Paths"
   ]
  },
  {
   "cell_type": "code",
   "execution_count": 1,
   "metadata": {
    "id": "146BB11JpfDA"
   },
   "outputs": [],
   "source": [
    "import os\n",
    "import numpy as np\n",
    "import re"
   ]
  },
  {
   "cell_type": "code",
   "execution_count": 2,
   "metadata": {
    "id": "42hJEdo_pfDB"
   },
   "outputs": [],
   "source": [
    "CUSTOM_MODEL_NAME = 'ssdlite_mobiledet_edgetpu_tuned2' \n",
    "PRETRAINED_MODEL_NAME = 'ssdlite_mobiledet_edgetpu_320x320_coco_2020_05_19'\n",
    "PRETRAINED_MODEL_URL = 'http://download.tensorflow.org/models/object_detection/ssdlite_mobiledet_edgetpu_320x320_coco_2020_05_19.tar.gz'\n",
    "TF_RECORD_SCRIPT_NAME = 'generate_tfrecord.py'\n",
    "LABEL_MAP_NAME = 'label_map.pbtxt'"
   ]
  },
  {
   "cell_type": "code",
   "execution_count": 3,
   "metadata": {
    "id": "hbPhYVy_pfDB"
   },
   "outputs": [],
   "source": [
    "paths = {\n",
    "    'WORKSPACE_PATH': os.path.join('Tensorflow', 'workspace'),\n",
    "    'SCRIPTS_PATH': os.path.join('Tensorflow','scripts'),\n",
    "    'APIMODEL_PATH': os.path.join('Tensorflow','models'),\n",
    "    'ANNOTATION_PATH': os.path.join('Tensorflow', 'workspace','annotations'),\n",
    "    'IMAGE_PATH': os.path.join('Tensorflow', 'workspace','images'),\n",
    "    'MODEL_PATH': os.path.join('Tensorflow', 'workspace','models'),\n",
    "    'PRETRAINED_MODEL_PATH': os.path.join('Tensorflow', 'workspace','pre-trained-models'),\n",
    "    'CHECKPOINT_PATH': os.path.join('Tensorflow', 'workspace','models',CUSTOM_MODEL_NAME), \n",
    "    'OUTPUT_PATH': os.path.join('Tensorflow', 'workspace','models',CUSTOM_MODEL_NAME, 'export'),\n",
    "    'TFLITE_PATH':os.path.join('Tensorflow', 'workspace','models',CUSTOM_MODEL_NAME, 'tfliteexport'), \n",
    "    'PROTOC_PATH':os.path.join('Tensorflow','protoc')\n",
    " }"
   ]
  },
  {
   "cell_type": "code",
   "execution_count": 4,
   "metadata": {
    "id": "LwhWZMI0pfDC"
   },
   "outputs": [],
   "source": [
    "files = {\n",
    "    'PIPELINE_CONFIG':os.path.join('Tensorflow', 'workspace','models', CUSTOM_MODEL_NAME, 'pipeline.config'),\n",
    "    'TF_RECORD_SCRIPT': os.path.join(paths['SCRIPTS_PATH'], TF_RECORD_SCRIPT_NAME), \n",
    "    'LABELMAP': os.path.join(paths['ANNOTATION_PATH'], LABEL_MAP_NAME)\n",
    "}"
   ]
  },
  {
   "cell_type": "code",
   "execution_count": 5,
   "metadata": {
    "id": "HR-TfDGrpfDC"
   },
   "outputs": [],
   "source": [
    "for path in paths.values():\n",
    "    if not os.path.exists(path):\n",
    "        if os.name == 'posix':\n",
    "            !mkdir -p {path}\n",
    "        if os.name == 'nt':\n",
    "            !mkdir {path}"
   ]
  },
  {
   "cell_type": "markdown",
   "metadata": {
    "id": "OLU-rs_ipfDE"
   },
   "source": [
    "# 1. Download TF Models Pretrained Models from Tensorflow Model Zoo and Install TFOD"
   ]
  },
  {
   "cell_type": "code",
   "execution_count": null,
   "metadata": {},
   "outputs": [],
   "source": [
    "# https://www.tensorflow.org/install/source_windows"
   ]
  },
  {
   "cell_type": "code",
   "execution_count": null,
   "metadata": {
    "id": "K-Cmz2edpfDE",
    "scrolled": true
   },
   "outputs": [],
   "source": [
    "if os.name=='nt':\n",
    "    !pip install wget\n",
    "import wget\n",
    "  "
   ]
  },
  {
   "cell_type": "code",
   "execution_count": null,
   "metadata": {
    "id": "iA1DIq5OpfDE"
   },
   "outputs": [],
   "source": [
    "if not os.path.exists(os.path.join(paths['APIMODEL_PATH'], 'research', 'object_detection')):\n",
    "    !git clone https://github.com/tensorflow/models {paths['APIMODEL_PATH']}"
   ]
  },
  {
   "cell_type": "code",
   "execution_count": null,
   "metadata": {
    "id": "rJjMHbnDs3Tv"
   },
   "outputs": [],
   "source": [
    "# Install Tensorflow Object Detection \n",
    "if os.name=='posix':  \n",
    "    !apt-get install protobuf-compiler\n",
    "    !cd Tensorflow/models/research && protoc object_detection/protos/*.proto --python_out=. && cp object_detection/packages/tf2/setup.py . && python -m pip install . \n",
    "    \n",
    "if os.name=='nt':\n",
    "    url=\"https://github.com/protocolbuffers/protobuf/releases/download/v3.15.6/protoc-3.15.6-win64.zip\"\n",
    "    wget.download(url)\n",
    "    !move protoc-3.15.6-win64.zip {paths['PROTOC_PATH']}\n",
    "    !cd {paths['PROTOC_PATH']} && tar -xf protoc-3.15.6-win64.zip\n",
    "    os.environ['PATH'] += os.pathsep + os.path.abspath(os.path.join(paths['PROTOC_PATH'], 'bin'))   \n",
    "    !cd Tensorflow/models/research && protoc object_detection/protos/*.proto --python_out=. && copy object_detection\\\\packages\\\\tf1\\\\setup.py setup.py && python setup.py build && python setup.py install\n",
    "    !cd Tensorflow/models/research/slim && pip install -e . "
   ]
  },
  {
   "cell_type": "code",
   "execution_count": null,
   "metadata": {},
   "outputs": [],
   "source": [
    "!pip install numpy"
   ]
  },
  {
   "cell_type": "code",
   "execution_count": null,
   "metadata": {},
   "outputs": [],
   "source": [
    "pip show tensorflow-gpu\n"
   ]
  },
  {
   "cell_type": "code",
   "execution_count": null,
   "metadata": {},
   "outputs": [],
   "source": [
    "!pip install tensorflow==1.15\n"
   ]
  },
  {
   "cell_type": "code",
   "execution_count": null,
   "metadata": {},
   "outputs": [],
   "source": [
    "pip install tensorflow-text==1.15.1"
   ]
  },
  {
   "cell_type": "code",
   "execution_count": 6,
   "metadata": {
    "scrolled": false
   },
   "outputs": [
    {
     "name": "stderr",
     "output_type": "stream",
     "text": [
      "2022-03-24 20:10:41.245146: I tensorflow/stream_executor/platform/default/dso_loader.cc:44] Successfully opened dynamic library cudart64_100.dll\n",
      "Running tests under Python 3.7.10: D:\\antrenare_cuant\\TFODCourse\\cuant\\Scripts\\python.exe\n",
      "[ RUN      ] ModelBuilderTF1Test.test_create_context_rcnn_from_config_with_params0 (True)\n",
      "D:\\antrenare_cuant\\TFODCourse\\cuant\\lib\\site-packages\\tensorflow_core\\python\\training\\tracking\\data_structures.py:669: DeprecationWarning: Using or importing the ABCs from 'collections' instead of from 'collections.abc' is deprecated since Python 3.3,and in 3.9 it will stop working\n",
      "  if not isinstance(wrapped_dict, collections.Mapping):\n",
      "[       OK ] ModelBuilderTF1Test.test_create_context_rcnn_from_config_with_params0 (True)\n",
      "[ RUN      ] ModelBuilderTF1Test.test_create_context_rcnn_from_config_with_params1 (False)\n",
      "[       OK ] ModelBuilderTF1Test.test_create_context_rcnn_from_config_with_params1 (False)\n",
      "[ RUN      ] ModelBuilderTF1Test.test_create_experimental_model\n",
      "[       OK ] ModelBuilderTF1Test.test_create_experimental_model\n",
      "[ RUN      ] ModelBuilderTF1Test.test_create_faster_rcnn_from_config_with_crop_feature0 (True)\n",
      "[       OK ] ModelBuilderTF1Test.test_create_faster_rcnn_from_config_with_crop_feature0 (True)\n",
      "[ RUN      ] ModelBuilderTF1Test.test_create_faster_rcnn_from_config_with_crop_feature1 (False)\n",
      "[       OK ] ModelBuilderTF1Test.test_create_faster_rcnn_from_config_with_crop_feature1 (False)\n",
      "[ RUN      ] ModelBuilderTF1Test.test_create_faster_rcnn_model_from_config_with_example_miner\n",
      "[       OK ] ModelBuilderTF1Test.test_create_faster_rcnn_model_from_config_with_example_miner\n",
      "[ RUN      ] ModelBuilderTF1Test.test_create_faster_rcnn_models_from_config_faster_rcnn_with_matmul\n",
      "[       OK ] ModelBuilderTF1Test.test_create_faster_rcnn_models_from_config_faster_rcnn_with_matmul\n",
      "[ RUN      ] ModelBuilderTF1Test.test_create_faster_rcnn_models_from_config_faster_rcnn_without_matmul\n",
      "[       OK ] ModelBuilderTF1Test.test_create_faster_rcnn_models_from_config_faster_rcnn_without_matmul\n",
      "[ RUN      ] ModelBuilderTF1Test.test_create_faster_rcnn_models_from_config_mask_rcnn_with_matmul\n",
      "[       OK ] ModelBuilderTF1Test.test_create_faster_rcnn_models_from_config_mask_rcnn_with_matmul\n",
      "[ RUN      ] ModelBuilderTF1Test.test_create_faster_rcnn_models_from_config_mask_rcnn_without_matmul\n",
      "[       OK ] ModelBuilderTF1Test.test_create_faster_rcnn_models_from_config_mask_rcnn_without_matmul\n",
      "[ RUN      ] ModelBuilderTF1Test.test_create_rfcn_model_from_config\n",
      "[       OK ] ModelBuilderTF1Test.test_create_rfcn_model_from_config\n",
      "[ RUN      ] ModelBuilderTF1Test.test_create_ssd_fpn_model_from_config\n",
      "[       OK ] ModelBuilderTF1Test.test_create_ssd_fpn_model_from_config\n",
      "[ RUN      ] ModelBuilderTF1Test.test_create_ssd_models_from_config\n",
      "[       OK ] ModelBuilderTF1Test.test_create_ssd_models_from_config\n",
      "[ RUN      ] ModelBuilderTF1Test.test_invalid_faster_rcnn_batchnorm_update\n",
      "[       OK ] ModelBuilderTF1Test.test_invalid_faster_rcnn_batchnorm_update\n",
      "[ RUN      ] ModelBuilderTF1Test.test_invalid_first_stage_nms_iou_threshold\n",
      "[       OK ] ModelBuilderTF1Test.test_invalid_first_stage_nms_iou_threshold\n",
      "[ RUN      ] ModelBuilderTF1Test.test_invalid_model_config_proto\n",
      "[       OK ] ModelBuilderTF1Test.test_invalid_model_config_proto\n",
      "[ RUN      ] ModelBuilderTF1Test.test_invalid_second_stage_batch_size\n",
      "[       OK ] ModelBuilderTF1Test.test_invalid_second_stage_batch_size\n",
      "[ RUN      ] ModelBuilderTF1Test.test_session\n",
      "[  SKIPPED ] ModelBuilderTF1Test.test_session\n",
      "[ RUN      ] ModelBuilderTF1Test.test_unknown_faster_rcnn_feature_extractor\n",
      "[       OK ] ModelBuilderTF1Test.test_unknown_faster_rcnn_feature_extractor\n",
      "[ RUN      ] ModelBuilderTF1Test.test_unknown_meta_architecture\n",
      "[       OK ] ModelBuilderTF1Test.test_unknown_meta_architecture\n",
      "[ RUN      ] ModelBuilderTF1Test.test_unknown_ssd_feature_extractor\n",
      "[       OK ] ModelBuilderTF1Test.test_unknown_ssd_feature_extractor\n",
      "----------------------------------------------------------------------\n",
      "Ran 21 tests in 0.659s\n",
      "\n",
      "OK (skipped=1)\n"
     ]
    }
   ],
   "source": [
    "VERIFICATION_SCRIPT = os.path.join(paths['APIMODEL_PATH'], 'research', 'object_detection', 'builders', 'model_builder_tf1_test.py')\n",
    "# Verify Installation\n",
    "!python {VERIFICATION_SCRIPT}"
   ]
  },
  {
   "cell_type": "code",
   "execution_count": null,
   "metadata": {},
   "outputs": [],
   "source": [
    "!pip show tensorflow-gpu"
   ]
  },
  {
   "cell_type": "code",
   "execution_count": null,
   "metadata": {},
   "outputs": [],
   "source": [
    "!pip uninstall kiwisolver\n"
   ]
  },
  {
   "cell_type": "code",
   "execution_count": null,
   "metadata": {},
   "outputs": [],
   "source": [
    "!pip uninstall protobuf matplotlib -y\n",
    "!pip install protobuf matplotlib==3.2"
   ]
  },
  {
   "cell_type": "code",
   "execution_count": null,
   "metadata": {},
   "outputs": [],
   "source": [
    "!pip install pillow"
   ]
  },
  {
   "cell_type": "code",
   "execution_count": null,
   "metadata": {},
   "outputs": [],
   "source": [
    "import object_detection"
   ]
  },
  {
   "cell_type": "code",
   "execution_count": null,
   "metadata": {
    "scrolled": true
   },
   "outputs": [],
   "source": [
    "!pip list"
   ]
  },
  {
   "cell_type": "code",
   "execution_count": null,
   "metadata": {
    "colab": {
     "base_uri": "https://localhost:8080/"
    },
    "id": "csofht2npfDE",
    "outputId": "ff5471b2-bed2-43f2-959c-327a706527b6"
   },
   "outputs": [],
   "source": [
    "if os.name =='posix':\n",
    "    !wget {PRETRAINED_MODEL_URL}\n",
    "    !mv {PRETRAINED_MODEL_NAME+'.tar.gz'} {paths['PRETRAINED_MODEL_PATH']}\n",
    "    !cd {paths['PRETRAINED_MODEL_PATH']} && tar -zxvf {PRETRAINED_MODEL_NAME+'.tar.gz'}\n",
    "if os.name == 'nt':\n",
    "    wget.download(PRETRAINED_MODEL_URL)\n",
    "    !move {PRETRAINED_MODEL_NAME+'.tar.gz'} {paths['PRETRAINED_MODEL_PATH']}\n",
    "    !cd {paths['PRETRAINED_MODEL_PATH']} && tar -zxvf {PRETRAINED_MODEL_NAME+'.tar.gz'}"
   ]
  },
  {
   "cell_type": "markdown",
   "metadata": {
    "id": "M5KJTnkfpfDC"
   },
   "source": [
    "# 2. Create Label Map"
   ]
  },
  {
   "cell_type": "code",
   "execution_count": 6,
   "metadata": {
    "id": "p1BVDWo7pfDC"
   },
   "outputs": [],
   "source": [
    "labels = [{'name':'stop', 'id':1}, {'name':'straight ahead', 'id':2}, {'name':'limit60km', 'id':3}, {'name':'turn right', 'id':4}]\n",
    "\n",
    "with open(files['LABELMAP'], 'w') as f:\n",
    "    for label in labels:\n",
    "        f.write('item { \\n')\n",
    "        f.write('\\tname:\\'{}\\'\\n'.format(label['name']))\n",
    "        f.write('\\tid:{}\\n'.format(label['id']))\n",
    "        f.write('}\\n')"
   ]
  },
  {
   "cell_type": "markdown",
   "metadata": {
    "id": "C88zyVELpfDC"
   },
   "source": [
    "# 3. Create TF records"
   ]
  },
  {
   "cell_type": "code",
   "execution_count": null,
   "metadata": {
    "colab": {
     "base_uri": "https://localhost:8080/"
    },
    "id": "kvf5WccwrFGq",
    "outputId": "49902aeb-0bd7-4298-e1a0-5b4a64eb2064"
   },
   "outputs": [],
   "source": [
    "# OPTIONAL IF RUNNING ON COLAB\n",
    "ARCHIVE_FILES = os.path.join(paths['IMAGE_PATH'], 'archive.tar.gz')\n",
    "if os.path.exists(ARCHIVE_FILES):\n",
    "  !tar -zxvf {ARCHIVE_FILES}"
   ]
  },
  {
   "cell_type": "code",
   "execution_count": 7,
   "metadata": {
    "colab": {
     "base_uri": "https://localhost:8080/"
    },
    "id": "KWpb_BVUpfDD",
    "outputId": "56ce2a3f-3933-4ee6-8a9d-d5ec65f7d73c"
   },
   "outputs": [],
   "source": [
    "if not os.path.exists(files['TF_RECORD_SCRIPT']):\n",
    "    !git clone https://github.com/nicknochnack/GenerateTFRecord {paths['SCRIPTS_PATH']}"
   ]
  },
  {
   "cell_type": "code",
   "execution_count": 8,
   "metadata": {
    "colab": {
     "base_uri": "https://localhost:8080/"
    },
    "id": "UPFToGZqpfDD",
    "outputId": "0ebb456f-aadc-4a1f-96e6-fbfec1923e1c"
   },
   "outputs": [
    {
     "name": "stdout",
     "output_type": "stream",
     "text": [
      "Successfully created the TFRecord file: Tensorflow\\workspace\\annotations\\train.record\n",
      "Successfully created the TFRecord file: Tensorflow\\workspace\\annotations\\test.record\n"
     ]
    }
   ],
   "source": [
    "!python {files['TF_RECORD_SCRIPT']} -x {os.path.join(paths['IMAGE_PATH'], 'train')} -l {files['LABELMAP']} -o {os.path.join(paths['ANNOTATION_PATH'], 'train.record')} \n",
    "!python {files['TF_RECORD_SCRIPT']} -x {os.path.join(paths['IMAGE_PATH'], 'test')} -l {files['LABELMAP']} -o {os.path.join(paths['ANNOTATION_PATH'], 'test.record')} "
   ]
  },
  {
   "cell_type": "code",
   "execution_count": null,
   "metadata": {},
   "outputs": [],
   "source": [
    "!cd"
   ]
  },
  {
   "cell_type": "markdown",
   "metadata": {
    "id": "qT4QU7pLpfDE"
   },
   "source": [
    "# 4. Copy Model Config to Training Folder"
   ]
  },
  {
   "cell_type": "code",
   "execution_count": 8,
   "metadata": {
    "id": "cOjuTFbwpfDF"
   },
   "outputs": [
    {
     "name": "stdout",
     "output_type": "stream",
     "text": [
      "        1 file(s) copied.\n"
     ]
    }
   ],
   "source": [
    "if os.name =='posix':\n",
    "    !cp {os.path.join(paths['PRETRAINED_MODEL_PATH'], PRETRAINED_MODEL_NAME,'fp32' ,'pipeline.config')} {os.path.join(paths['CHECKPOINT_PATH'])}\n",
    "if os.name == 'nt':\n",
    "    !copy {os.path.join(paths['PRETRAINED_MODEL_PATH'], PRETRAINED_MODEL_NAME,'fp32', 'pipeline.config')} {os.path.join(paths['CHECKPOINT_PATH'])}"
   ]
  },
  {
   "cell_type": "markdown",
   "metadata": {
    "id": "Ga8gpNslpfDF"
   },
   "source": [
    "# 5. Update Config For Transfer Learning"
   ]
  },
  {
   "cell_type": "code",
   "execution_count": 7,
   "metadata": {
    "id": "Z9hRrO_ppfDF"
   },
   "outputs": [],
   "source": [
    "import tensorflow as tf\n",
    "from object_detection.utils import config_util\n",
    "from object_detection.protos import pipeline_pb2\n",
    "from google.protobuf import text_format"
   ]
  },
  {
   "cell_type": "code",
   "execution_count": 22,
   "metadata": {
    "id": "c2A0mn4ipfDF"
   },
   "outputs": [],
   "source": [
    "config = config_util.get_configs_from_pipeline_file(files['PIPELINE_CONFIG'])"
   ]
  },
  {
   "cell_type": "code",
   "execution_count": 23,
   "metadata": {
    "colab": {
     "base_uri": "https://localhost:8080/"
    },
    "id": "uQA13-afpfDF",
    "outputId": "907496a4-a39d-4b13-8c2c-e5978ecb1f10"
   },
   "outputs": [
    {
     "data": {
      "text/plain": [
       "{'model': ssd {\n",
       "   num_classes: 90\n",
       "   image_resizer {\n",
       "     fixed_shape_resizer {\n",
       "       height: 320\n",
       "       width: 320\n",
       "     }\n",
       "   }\n",
       "   feature_extractor {\n",
       "     type: \"ssd_mobiledet_edgetpu\"\n",
       "     depth_multiplier: 1.0\n",
       "     min_depth: 16\n",
       "     conv_hyperparams {\n",
       "       regularizer {\n",
       "         l2_regularizer {\n",
       "           weight: 3.9999998989515007e-05\n",
       "         }\n",
       "       }\n",
       "       initializer {\n",
       "         truncated_normal_initializer {\n",
       "           mean: 0.0\n",
       "           stddev: 0.029999999329447746\n",
       "         }\n",
       "       }\n",
       "       activation: RELU_6\n",
       "       batch_norm {\n",
       "         decay: 0.9700000286102295\n",
       "         center: true\n",
       "         scale: true\n",
       "         epsilon: 0.0010000000474974513\n",
       "         train: true\n",
       "       }\n",
       "     }\n",
       "     use_depthwise: true\n",
       "     override_base_feature_extractor_hyperparams: false\n",
       "   }\n",
       "   box_coder {\n",
       "     faster_rcnn_box_coder {\n",
       "       y_scale: 10.0\n",
       "       x_scale: 10.0\n",
       "       height_scale: 5.0\n",
       "       width_scale: 5.0\n",
       "     }\n",
       "   }\n",
       "   matcher {\n",
       "     argmax_matcher {\n",
       "       matched_threshold: 0.5\n",
       "       unmatched_threshold: 0.5\n",
       "       ignore_thresholds: false\n",
       "       negatives_lower_than_unmatched: true\n",
       "       force_match_for_each_row: true\n",
       "       use_matmul_gather: true\n",
       "     }\n",
       "   }\n",
       "   similarity_calculator {\n",
       "     iou_similarity {\n",
       "     }\n",
       "   }\n",
       "   box_predictor {\n",
       "     convolutional_box_predictor {\n",
       "       conv_hyperparams {\n",
       "         regularizer {\n",
       "           l2_regularizer {\n",
       "             weight: 3.9999998989515007e-05\n",
       "           }\n",
       "         }\n",
       "         initializer {\n",
       "           random_normal_initializer {\n",
       "             mean: 0.0\n",
       "             stddev: 0.029999999329447746\n",
       "           }\n",
       "         }\n",
       "         activation: RELU_6\n",
       "         batch_norm {\n",
       "           decay: 0.9700000286102295\n",
       "           center: true\n",
       "           scale: true\n",
       "           epsilon: 0.0010000000474974513\n",
       "           train: true\n",
       "         }\n",
       "       }\n",
       "       min_depth: 0\n",
       "       max_depth: 0\n",
       "       num_layers_before_predictor: 0\n",
       "       use_dropout: false\n",
       "       dropout_keep_probability: 0.800000011920929\n",
       "       kernel_size: 3\n",
       "       box_code_size: 4\n",
       "       apply_sigmoid_to_scores: false\n",
       "       class_prediction_bias_init: -4.599999904632568\n",
       "       use_depthwise: true\n",
       "     }\n",
       "   }\n",
       "   anchor_generator {\n",
       "     ssd_anchor_generator {\n",
       "       num_layers: 6\n",
       "       min_scale: 0.20000000298023224\n",
       "       max_scale: 0.949999988079071\n",
       "       aspect_ratios: 1.0\n",
       "       aspect_ratios: 2.0\n",
       "       aspect_ratios: 0.5\n",
       "       aspect_ratios: 3.0\n",
       "       aspect_ratios: 0.33329999446868896\n",
       "     }\n",
       "   }\n",
       "   post_processing {\n",
       "     batch_non_max_suppression {\n",
       "       score_threshold: 9.99999993922529e-09\n",
       "       iou_threshold: 0.6000000238418579\n",
       "       max_detections_per_class: 100\n",
       "       max_total_detections: 100\n",
       "       use_static_shapes: true\n",
       "     }\n",
       "     score_converter: SIGMOID\n",
       "   }\n",
       "   normalize_loss_by_num_matches: true\n",
       "   loss {\n",
       "     localization_loss {\n",
       "       weighted_smooth_l1 {\n",
       "         delta: 1.0\n",
       "       }\n",
       "     }\n",
       "     classification_loss {\n",
       "       weighted_sigmoid_focal {\n",
       "         gamma: 2.0\n",
       "         alpha: 0.75\n",
       "       }\n",
       "     }\n",
       "     classification_weight: 1.0\n",
       "     localization_weight: 1.0\n",
       "   }\n",
       "   encode_background_as_zeros: true\n",
       "   normalize_loc_loss_by_codesize: true\n",
       "   inplace_batchnorm_update: true\n",
       "   freeze_batchnorm: false\n",
       " },\n",
       " 'train_config': batch_size: 512\n",
       " data_augmentation_options {\n",
       "   random_horizontal_flip {\n",
       "   }\n",
       " }\n",
       " data_augmentation_options {\n",
       "   ssd_random_crop {\n",
       "   }\n",
       " }\n",
       " sync_replicas: true\n",
       " optimizer {\n",
       "   momentum_optimizer {\n",
       "     learning_rate {\n",
       "       cosine_decay_learning_rate {\n",
       "         learning_rate_base: 0.800000011920929\n",
       "         total_steps: 400000\n",
       "         warmup_learning_rate: 0.13333000242710114\n",
       "         warmup_steps: 2000\n",
       "       }\n",
       "     }\n",
       "     momentum_optimizer_value: 0.8999999761581421\n",
       "   }\n",
       "   use_moving_average: false\n",
       " }\n",
       " num_steps: 400000\n",
       " startup_delay_steps: 0.0\n",
       " replicas_to_aggregate: 32\n",
       " max_number_of_boxes: 100\n",
       " unpad_groundtruth_tensors: false,\n",
       " 'train_input_config': label_map_path: \"PATH_TO_BE_CONFIGURED/mscoco_label_map.pbtxt\"\n",
       " tf_record_input_reader {\n",
       "   input_path: \"PATH_TO_BE_CONFIGURED/mscoco_train.record-?????-of-00100\"\n",
       " },\n",
       " 'eval_config': num_examples: 8000\n",
       " metrics_set: \"coco_detection_metrics\"\n",
       " use_moving_averages: false,\n",
       " 'eval_input_configs': [label_map_path: \"PATH_TO_BE_CONFIGURED/mscoco_label_map.pbtxt\"\n",
       " shuffle: false\n",
       " num_epochs: 1\n",
       " tf_record_input_reader {\n",
       "   input_path: \"PATH_TO_BE_CONFIGURED/mscoco_val.record-?????-of-00010\"\n",
       " }\n",
       " ],\n",
       " 'eval_input_config': label_map_path: \"PATH_TO_BE_CONFIGURED/mscoco_label_map.pbtxt\"\n",
       " shuffle: false\n",
       " num_epochs: 1\n",
       " tf_record_input_reader {\n",
       "   input_path: \"PATH_TO_BE_CONFIGURED/mscoco_val.record-?????-of-00010\"\n",
       " }}"
      ]
     },
     "execution_count": 23,
     "metadata": {},
     "output_type": "execute_result"
    }
   ],
   "source": [
    "config"
   ]
  },
  {
   "cell_type": "code",
   "execution_count": 24,
   "metadata": {
    "id": "9vK5lotDpfDF"
   },
   "outputs": [],
   "source": [
    "pipeline_config = pipeline_pb2.TrainEvalPipelineConfig()\n",
    "with tf.io.gfile.GFile(files['PIPELINE_CONFIG'], \"r\") as f:                                                                                                                                                                                                                     \n",
    "    proto_str = f.read()                                                                                                                                                                                                                                          \n",
    "    text_format.Merge(proto_str, pipeline_config)  "
   ]
  },
  {
   "cell_type": "code",
   "execution_count": 25,
   "metadata": {
    "id": "rP43Ph0JpfDG"
   },
   "outputs": [],
   "source": [
    "pipeline_config.model.ssd.num_classes = len(labels)\n",
    "pipeline_config.train_config.batch_size = 4\n",
    "pipeline_config.train_config.num_steps = 20000\n",
    "pipeline_config.train_config.fine_tune_checkpoint = os.path.join(paths['PRETRAINED_MODEL_PATH'], PRETRAINED_MODEL_NAME,'uint8', 'checkpoint', 'model.ckpt-400000')\n",
    "pipeline_config.train_config.fine_tune_checkpoint_type = \"detection\"\n",
    "pipeline_config.train_input_reader.label_map_path= files['LABELMAP']\n",
    "pipeline_config.train_input_reader.tf_record_input_reader.input_path[:] = [os.path.join(paths['ANNOTATION_PATH'], 'train.record')]\n",
    "pipeline_config.eval_input_reader[0].label_map_path = files['LABELMAP']\n",
    "pipeline_config.eval_input_reader[0].tf_record_input_reader.input_path[:] = [os.path.join(paths['ANNOTATION_PATH'], 'test.record')]\n",
    "# Enable ssdlite, this should already be enabled in the config we downloaded, but this is just to make sure.\n",
    "pipeline_config.model.ssd.box_predictor.convolutional_box_predictor.kernel_size = 3\n",
    "pipeline_config.model.ssd.box_predictor.convolutional_box_predictor.use_depthwise = True\n",
    "pipeline_config.model.ssd.feature_extractor.use_depthwise = True\n",
    "# Quantization Aware Training\n",
    "pipeline_config.graph_rewriter.quantization.delay = 0\n",
    "pipeline_config.graph_rewriter.quantization.weight_bits = 8\n",
    "pipeline_config.graph_rewriter.quantization.activation_bits = 8"
   ]
  },
  {
   "cell_type": "code",
   "execution_count": 26,
   "metadata": {
    "id": "oJvfgwWqpfDG"
   },
   "outputs": [],
   "source": [
    "config_text = text_format.MessageToString(pipeline_config)                                                                                                                                                                                                        \n",
    "with tf.io.gfile.GFile(files['PIPELINE_CONFIG'], \"wb\") as f:                                                                                                                                                                                                                     \n",
    "    f.write(config_text)   "
   ]
  },
  {
   "cell_type": "markdown",
   "metadata": {},
   "source": [
    "# 5.1. Evaluate\n"
   ]
  },
  {
   "cell_type": "code",
   "execution_count": 29,
   "metadata": {},
   "outputs": [
    {
     "name": "stdout",
     "output_type": "stream",
     "text": [
      "100% [........................................................................] 13832437 / 13832437"
     ]
    },
    {
     "name": "stderr",
     "output_type": "stream",
     "text": [
      "x ngrok\n"
     ]
    }
   ],
   "source": [
    "#%cd {paths['CHECKPOINT_PATH']}\n",
    "import wget\n",
    "import unzip\n",
    "\n",
    "url=\"https://bin.equinox.io/c/4VmDzA7iaHb/ngrok-stable-linux-amd64.zip\"\n",
    "wget.download(url) \n",
    "!tar -zxvf ngrok-stable-linux-amd64.zip"
   ]
  },
  {
   "cell_type": "code",
   "execution_count": 27,
   "metadata": {},
   "outputs": [],
   "source": [
    "TRAINING_FOLDER = os.path.join(paths['CHECKPOINT_PATH'], 'train')"
   ]
  },
  {
   "cell_type": "code",
   "execution_count": 24,
   "metadata": {},
   "outputs": [],
   "source": [
    "# Starts tensorboard, so we can monitor the training process.\n",
    "get_ipython().system_raw(\n",
    "    'tensorboard --logdir {} --host 0.0.0.0 --port 6006 &'\n",
    "    .format(paths['CHECKPOINT_PATH'])\n",
    ")"
   ]
  },
  {
   "cell_type": "code",
   "execution_count": 25,
   "metadata": {},
   "outputs": [
    {
     "name": "stdout",
     "output_type": "stream",
     "text": [
      "Click this link to view training progress in TensorBoard:\n"
     ]
    }
   ],
   "source": [
    "get_ipython().system_raw('./ngrok http 6006 &')\n",
    "print('Click this link to view training progress in TensorBoard:')"
   ]
  },
  {
   "cell_type": "code",
   "execution_count": 26,
   "metadata": {},
   "outputs": [
    {
     "name": "stderr",
     "output_type": "stream",
     "text": [
      "Traceback (most recent call last):\n",
      "  File \"<string>\", line 1, in <module>\n",
      "  File \"C:\\ProgramData\\Anaconda3\\lib\\json\\__init__.py\", line 296, in load\n",
      "    parse_constant=parse_constant, object_pairs_hook=object_pairs_hook, **kw)\n",
      "  File \"C:\\ProgramData\\Anaconda3\\lib\\json\\__init__.py\", line 348, in loads\n",
      "    return _default_decoder.decode(s)\n",
      "  File \"C:\\ProgramData\\Anaconda3\\lib\\json\\decoder.py\", line 337, in decode\n",
      "    obj, end = self.raw_decode(s, idx=_w(s, 0).end())\n",
      "  File \"C:\\ProgramData\\Anaconda3\\lib\\json\\decoder.py\", line 355, in raw_decode\n",
      "    raise JSONDecodeError(\"Expecting value\", s, err.value) from None\n",
      "json.decoder.JSONDecodeError: Expecting value: line 1 column 1 (char 0)\n"
     ]
    }
   ],
   "source": [
    "import time\n",
    "time.sleep(1)\n",
    "!curl -s http://localhost:4040/api/tunnels | python -c \\\n",
    "    \"import sys, json; print(json.load(sys.stdin)['tunnels'][0]['public_url'])\""
   ]
  },
  {
   "cell_type": "markdown",
   "metadata": {
    "id": "Zr3ON7xMpfDG"
   },
   "source": [
    "# 6. Train the model"
   ]
  },
  {
   "cell_type": "code",
   "execution_count": 9,
   "metadata": {
    "id": "B-Y2UQmQpfDG"
   },
   "outputs": [],
   "source": [
    "TRAINING_SCRIPT = os.path.join(paths['APIMODEL_PATH'], 'research', 'object_detection', 'model_main.py')"
   ]
  },
  {
   "cell_type": "code",
   "execution_count": 9,
   "metadata": {},
   "outputs": [
    {
     "name": "stdout",
     "output_type": "stream",
     "text": [
      "1 Physical GPUs, 1 Logical GPU\n"
     ]
    }
   ],
   "source": [
    "gpus = tf.compat.v1.config.experimental.list_physical_devices('GPU')\n",
    "if gpus:\n",
    "  # Restrict TensorFlow to only use the first GPU\n",
    "  try:\n",
    "    tf.compat.v1.config.experimental.set_visible_devices(gpus[0], 'GPU')\n",
    "    logical_gpus = tf.compat.v1.config.experimental.list_logical_devices('GPU')\n",
    "    print(len(gpus), \"Physical GPUs,\", len(logical_gpus), \"Logical GPU\")\n",
    "  except RuntimeError as e:\n",
    "    # Visible devices must be set before GPUs have been initialized\n",
    "    print(e)"
   ]
  },
  {
   "cell_type": "code",
   "execution_count": 10,
   "metadata": {},
   "outputs": [
    {
     "name": "stdout",
     "output_type": "stream",
     "text": [
      "Physical devices cannot be modified after being initialized\n"
     ]
    }
   ],
   "source": [
    "if gpus:\n",
    "  try:\n",
    "    # Currently, memory growth needs to be the same across GPUs\n",
    "    for gpu in gpus:\n",
    "      tf.compat.v1.config.experimental.set_memory_growth(gpu, True)\n",
    "    logical_gpus = tf.config.list_logical_devices('GPU')\n",
    "    print(len(gpus), \"Physical GPUs,\", len(logical_gpus), \"Logical GPUs\")\n",
    "  except RuntimeError as e:\n",
    "    # Memory growth must be set before GPUs have been initialized\n",
    "    print(e)"
   ]
  },
  {
   "cell_type": "code",
   "execution_count": 11,
   "metadata": {},
   "outputs": [],
   "source": [
    "from tensorflow.compat.v1 import ConfigProto\n",
    "from tensorflow.compat.v1 import InteractiveSession\n",
    "\n",
    "config = ConfigProto()\n",
    "config.gpu_options.allow_growth = True\n",
    "session = InteractiveSession(config=config)"
   ]
  },
  {
   "cell_type": "code",
   "execution_count": 12,
   "metadata": {
    "id": "jMP2XDfQpfDH"
   },
   "outputs": [],
   "source": [
    "command = \"python {} \\\n",
    "--model_dir={} \\\n",
    "--pipeline_config_path={} \\\n",
    "--logtostderr=true \".format(TRAINING_SCRIPT, paths['CHECKPOINT_PATH'],files['PIPELINE_CONFIG'])"
   ]
  },
  {
   "cell_type": "code",
   "execution_count": 13,
   "metadata": {
    "colab": {
     "base_uri": "https://localhost:8080/"
    },
    "id": "A4OXXi-ApfDH",
    "outputId": "117a0e83-012b-466e-b7a6-ccaa349ac5ab"
   },
   "outputs": [
    {
     "name": "stdout",
     "output_type": "stream",
     "text": [
      "python Tensorflow\\models\\research\\object_detection\\model_main.py --model_dir=Tensorflow\\workspace\\models\\ssdlite_mobiledet_edgetpu_tuned2 --pipeline_config_path=Tensorflow\\workspace\\models\\ssdlite_mobiledet_edgetpu_tuned2\\pipeline.config --logtostderr=true \n"
     ]
    }
   ],
   "source": [
    "print(command)"
   ]
  },
  {
   "cell_type": "code",
   "execution_count": null,
   "metadata": {
    "colab": {
     "base_uri": "https://localhost:8080/"
    },
    "id": "i3ZsJR-qpfDH",
    "outputId": "cabec5e1-45e6-4f2f-d9cf-297d9c1d0225"
   },
   "outputs": [],
   "source": [
    "!{command}"
   ]
  },
  {
   "cell_type": "markdown",
   "metadata": {
    "id": "4_YRZu7npfDH"
   },
   "source": [
    "# 7. Evaluate the Model"
   ]
  },
  {
   "cell_type": "code",
   "execution_count": 10,
   "metadata": {
    "id": "80L7-fdPpfDH"
   },
   "outputs": [],
   "source": [
    "command = \"python {} --model_dir={} --pipeline_config_path={} --checkpoint_dir={}\".format(TRAINING_SCRIPT, paths['CHECKPOINT_PATH'],files['PIPELINE_CONFIG'], paths['CHECKPOINT_PATH'])"
   ]
  },
  {
   "cell_type": "code",
   "execution_count": 11,
   "metadata": {
    "colab": {
     "base_uri": "https://localhost:8080/"
    },
    "id": "lYsgEPx9pfDH",
    "outputId": "8632d48b-91d2-45d9-bcb8-c1b172bf6eed"
   },
   "outputs": [
    {
     "name": "stdout",
     "output_type": "stream",
     "text": [
      "python Tensorflow\\models\\research\\object_detection\\model_main.py --model_dir=Tensorflow\\workspace\\models\\ssdlite_mobiledet_edgetpu_tuned2 --pipeline_config_path=Tensorflow\\workspace\\models\\ssdlite_mobiledet_edgetpu_tuned2\\pipeline.config --checkpoint_dir=Tensorflow\\workspace\\models\\ssdlite_mobiledet_edgetpu_tuned2\n"
     ]
    }
   ],
   "source": [
    "print(command)"
   ]
  },
  {
   "cell_type": "code",
   "execution_count": null,
   "metadata": {
    "id": "lqTV2jGBpfDH"
   },
   "outputs": [],
   "source": [
    "!{command}"
   ]
  },
  {
   "cell_type": "markdown",
   "metadata": {
    "id": "orvRk02UpfDI"
   },
   "source": [
    "# 8. Load Train Model From Checkpoint"
   ]
  },
  {
   "cell_type": "code",
   "execution_count": 12,
   "metadata": {
    "id": "8TYk4_oIpfDI"
   },
   "outputs": [],
   "source": [
    "import os\n",
    "import tensorflow as tf\n",
    "from object_detection.utils import label_map_util\n",
    "from object_detection.utils import visualization_utils as viz_utils\n",
    "from object_detection.builders import model_builder\n",
    "from object_detection.utils import config_util"
   ]
  },
  {
   "cell_type": "code",
   "execution_count": 13,
   "metadata": {},
   "outputs": [
    {
     "name": "stdout",
     "output_type": "stream",
     "text": [
      "Tensorflow\\workspace\\models\\ssdlite_mobiledet_edgetpu_tuned2\\model.ckpt-20000\n"
     ]
    }
   ],
   "source": [
    "#gaseste ultimul ckp\n",
    "lst = os.listdir(paths['CHECKPOINT_PATH'])\n",
    "# find the last model checkpoint file, i.e. model.ckpt-2000.meta\n",
    "lst = [l for l in lst if 'model.ckpt-' in l and '.meta' in l]\n",
    "steps=np.array([int(re.findall('\\d+', l)[0]) for l in lst])\n",
    "last_model = lst[steps.argmax()].replace('.meta', '')\n",
    "\n",
    "last_model_path = os.path.join(paths['CHECKPOINT_PATH'], last_model)\n",
    "print(last_model_path)\n"
   ]
  },
  {
   "cell_type": "code",
   "execution_count": 14,
   "metadata": {
    "id": "tDnQg-cYpfDI"
   },
   "outputs": [
    {
     "name": "stdout",
     "output_type": "stream",
     "text": [
      "WARNING:tensorflow:From D:\\antrenare_cuant\\TFODCourse\\cuant\\lib\\site-packages\\tensorflow_core\\python\\training\\tracking\\util.py:1249: NameBasedSaverStatus.__init__ (from tensorflow.python.training.tracking.util) is deprecated and will be removed in a future version.\n",
      "Instructions for updating:\n",
      "Restoring a name-based tf.train.Saver checkpoint using the object-based restore API. This mode uses global names to match variables, and so is somewhat fragile. It also adds new restore ops to the graph each time it is called when graph building. Prefer re-encoding training checkpoints in the object-based format: run save() on the object-based saver (the same one this message is coming from) and use that checkpoint in the future.\n",
      "WARNING:tensorflow:From D:\\antrenare_cuant\\TFODCourse\\cuant\\lib\\site-packages\\tensorflow_core\\python\\ops\\resource_variable_ops.py:1630: calling BaseResourceVariable.__init__ (from tensorflow.python.ops.resource_variable_ops) with constraint is deprecated and will be removed in a future version.\n",
      "Instructions for updating:\n",
      "If using Keras pass *_constraint arguments to layers.\n"
     ]
    }
   ],
   "source": [
    "# Load pipeline config and build a detection model\n",
    "configs = config_util.get_configs_from_pipeline_file(files['PIPELINE_CONFIG'])\n",
    "detection_model = model_builder.build(model_config=configs['model'], is_training=False)\n",
    "\n",
    "# Restore checkpoint\n",
    "ckpt = tf.compat.v1.train.Checkpoint(model=detection_model)\n",
    "ckpt.restore(last_model_path).expect_partial()\n",
    "\n",
    "@tf.function\n",
    "def detect_fn(image):\n",
    "    image, shapes = detection_model.preprocess(image)\n",
    "    prediction_dict = detection_model.predict(image, shapes)\n",
    "    detections = detection_model.postprocess(prediction_dict, shapes)\n",
    "    return detections"
   ]
  },
  {
   "cell_type": "markdown",
   "metadata": {
    "id": "rzlM4jt0pfDJ"
   },
   "source": [
    "# 9. Freezing the Graph"
   ]
  },
  {
   "cell_type": "code",
   "execution_count": 15,
   "metadata": {
    "id": "n4olHB2npfDJ"
   },
   "outputs": [],
   "source": [
    "FREEZE_SCRIPT = os.path.join(paths['APIMODEL_PATH'], 'research', 'object_detection', 'export_inference_graph.py ')\n",
    "CKP=os.path.join(paths['CHECKPOINT_PATH'], last_model)"
   ]
  },
  {
   "cell_type": "code",
   "execution_count": 16,
   "metadata": {
    "id": "0AjO93QDpfDJ"
   },
   "outputs": [],
   "source": [
    "command = \"python {} \\\n",
    "--input_type=image_tensor \\\n",
    "--pipeline_config_path={} \\\n",
    "--output_directory={} \\\n",
    "--trained_checkpoint_prefix={}\".format(FREEZE_SCRIPT ,files['PIPELINE_CONFIG'], paths['OUTPUT_PATH'], CKP)"
   ]
  },
  {
   "cell_type": "code",
   "execution_count": 17,
   "metadata": {
    "colab": {
     "base_uri": "https://localhost:8080/"
    },
    "id": "F6Lsp3tCpfDJ",
    "outputId": "c3828529-bf06-4df5-d7f3-145890ec3edd"
   },
   "outputs": [
    {
     "name": "stdout",
     "output_type": "stream",
     "text": [
      "python Tensorflow\\models\\research\\object_detection\\export_inference_graph.py  --input_type=image_tensor --pipeline_config_path=Tensorflow\\workspace\\models\\ssdlite_mobiledet_edgetpu_tuned2\\pipeline.config --output_directory=Tensorflow\\workspace\\models\\ssdlite_mobiledet_edgetpu_tuned2\\export --trained_checkpoint_prefix=Tensorflow\\workspace\\models\\ssdlite_mobiledet_edgetpu_tuned2\\model.ckpt-20000\n"
     ]
    }
   ],
   "source": [
    "print(command)"
   ]
  },
  {
   "cell_type": "code",
   "execution_count": 18,
   "metadata": {
    "colab": {
     "base_uri": "https://localhost:8080/"
    },
    "id": "1Sw1ULgHpfDJ",
    "outputId": "6fd441e1-9fc9-4889-d072-3395c21e40b6"
   },
   "outputs": [
    {
     "name": "stdout",
     "output_type": "stream",
     "text": [
      "Parsing Inputs...\n",
      "\n",
      "=========================Options=============================\n",
      "-max_depth                  10000\n",
      "-min_bytes                  0\n",
      "-min_peak_bytes             0\n",
      "-min_residual_bytes         0\n",
      "-min_output_bytes           0\n",
      "-min_micros                 0\n",
      "-min_accelerator_micros     0\n"
     ]
    },
    {
     "name": "stderr",
     "output_type": "stream",
     "text": [
      "2022-03-24 22:41:23.967619: I tensorflow/stream_executor/platform/default/dso_loader.cc:44] Successfully opened dynamic library cudart64_100.dll\n",
      "WARNING:tensorflow:From D:\\antrenare_cuant\\TFODCourse\\cuant\\lib\\site-packages\\tf_slim\\layers\\layers.py:1089: Layer.apply (from tensorflow.python.keras.engine.base_layer) is deprecated and will be removed in a future version.\n",
      "Instructions for updating:\n",
      "Please use `layer.__call__` method instead.\n",
      "W0324 22:41:26.957442   508 deprecation.py:323] From D:\\antrenare_cuant\\TFODCourse\\cuant\\lib\\site-packages\\tf_slim\\layers\\layers.py:1089: Layer.apply (from tensorflow.python.keras.engine.base_layer) is deprecated and will be removed in a future version.\n",
      "Instructions for updating:\n",
      "Please use `layer.__call__` method instead.\n",
      "INFO:tensorflow:depth of additional conv before box predictor: 0\n",
      "I0324 22:41:28.763342   508 convolutional_box_predictor.py:156] depth of additional conv before box predictor: 0\n",
      "INFO:tensorflow:depth of additional conv before box predictor: 0\n",
      "I0324 22:41:28.825827   508 convolutional_box_predictor.py:156] depth of additional conv before box predictor: 0\n",
      "INFO:tensorflow:depth of additional conv before box predictor: 0\n",
      "I0324 22:41:28.903934   508 convolutional_box_predictor.py:156] depth of additional conv before box predictor: 0\n",
      "INFO:tensorflow:depth of additional conv before box predictor: 0\n",
      "I0324 22:41:28.982041   508 convolutional_box_predictor.py:156] depth of additional conv before box predictor: 0\n",
      "INFO:tensorflow:depth of additional conv before box predictor: 0\n",
      "I0324 22:41:29.044525   508 convolutional_box_predictor.py:156] depth of additional conv before box predictor: 0\n",
      "INFO:tensorflow:depth of additional conv before box predictor: 0\n"
     ]
    },
    {
     "name": "stdout",
     "output_type": "stream",
     "text": [
      "-min_cpu_micros             0\n",
      "-min_params                 0\n",
      "-min_float_ops              0\n",
      "-min_occurrence             0\n",
      "-step                       -1\n",
      "-order_by                   name\n",
      "-account_type_regexes       _trainable_variables\n",
      "-start_name_regexes         .*\n",
      "-trim_name_regexes          .*BatchNorm.*\n",
      "-show_name_regexes          .*\n",
      "-hide_name_regexes          \n",
      "-account_displayed_op_only  true\n",
      "-select                     params\n",
      "-output                     stdout:\n",
      "\n",
      "==================Model Analysis Report======================\n",
      "\n",
      "Doc:\n",
      "scope: The nodes in the model graph are organized by their names, which is hierarchical like filesystem.\n",
      "param: Number of parameters (in the Variable).\n",
      "\n",
      "Profile:\n",
      "node name | # parameters\n",
      "_TFProfRoot (--/3.28m params)\n",
      "  BoxPredictor_0 (--/4.35k params)\n",
      "    BoxPredictor_0/BoxEncodingPredictor (--/1.16k params)\n",
      "      BoxPredictor_0/BoxEncodingPredictor/biases (12, 12/12 params)\n",
      "      BoxPredictor_0/BoxEncodingPredictor/weights (1x1x96x12, 1.15k/1.15k params)\n",
      "    BoxPredictor_0/BoxEncodingPredictor_depthwise (--/864 params)\n",
      "      BoxPredictor_0/BoxEncodingPredictor_depthwise/BatchNorm (--/0 params)\n",
      "      BoxPredictor_0/BoxEncodingPredictor_depthwise/depthwise_weights (3x3x96x1, 864/864 params)\n",
      "    BoxPredictor_0/ClassPredictor (--/1.46k params)\n",
      "      BoxPredictor_0/ClassPredictor/biases (15, 15/15 params)\n",
      "      BoxPredictor_0/ClassPredictor/weights (1x1x96x15, 1.44k/1.44k params)\n",
      "    BoxPredictor_0/ClassPredictor_depthwise (--/864 params)\n",
      "      BoxPredictor_0/ClassPredictor_depthwise/BatchNorm (--/0 params)\n",
      "      BoxPredictor_0/ClassPredictor_depthwise/depthwise_weights (3x3x96x1, 864/864 params)\n",
      "  BoxPredictor_1 (--/27.70k params)\n"
     ]
    },
    {
     "name": "stderr",
     "output_type": "stream",
     "text": [
      "I0324 22:41:29.122632   508 convolutional_box_predictor.py:156] depth of additional conv before box predictor: 0\n",
      "WARNING:tensorflow:From D:\\antrenare_cuant\\TFODCourse\\cuant\\lib\\site-packages\\object_detection-0.1-py3.7.egg\\object_detection\\core\\post_processing.py:1157: where (from tensorflow.python.ops.array_ops) is deprecated and will be removed in a future version.\n",
      "Instructions for updating:\n",
      "Use tf.where in 2.0, which has the same broadcast rule as np.where\n",
      "W0324 22:41:29.325708   508 deprecation.py:323] From D:\\antrenare_cuant\\TFODCourse\\cuant\\lib\\site-packages\\object_detection-0.1-py3.7.egg\\object_detection\\core\\post_processing.py:1157: where (from tensorflow.python.ops.array_ops) is deprecated and will be removed in a future version.\n",
      "Instructions for updating:\n",
      "Use tf.where in 2.0, which has the same broadcast rule as np.where\n",
      "WARNING:tensorflow:From D:\\antrenare_cuant\\TFODCourse\\cuant\\lib\\site-packages\\object_detection-0.1-py3.7.egg\\object_detection\\exporter.py:474: get_or_create_global_step (from tf_slim.ops.variables) is deprecated and will be removed in a future version.\n",
      "Instructions for updating:\n",
      "Please switch to tf.train.get_or_create_global_step\n",
      "W0324 22:41:29.513164   508 deprecation.py:323] From D:\\antrenare_cuant\\TFODCourse\\cuant\\lib\\site-packages\\object_detection-0.1-py3.7.egg\\object_detection\\exporter.py:474: get_or_create_global_step (from tf_slim.ops.variables) is deprecated and will be removed in a future version.\n",
      "Instructions for updating:\n",
      "Please switch to tf.train.get_or_create_global_step\n",
      "INFO:tensorflow:Skipping quant after FeatureExtractor/MobileDetEdgeTPU/Conv/add_fold\n",
      "I0324 22:41:31.184643   508 quantize.py:299] Skipping quant after FeatureExtractor/MobileDetEdgeTPU/Conv/add_fold\n",
      "INFO:tensorflow:Skipping quant after FeatureExtractor/MobileDetEdgeTPU/TuckerConv/Conv/add_fold\n",
      "I0324 22:41:31.184643   508 quantize.py:299] Skipping quant after FeatureExtractor/MobileDetEdgeTPU/TuckerConv/Conv/add_fold\n",
      "INFO:tensorflow:Skipping quant after FeatureExtractor/MobileDetEdgeTPU/TuckerConv/Conv_1/add_fold\n",
      "I0324 22:41:31.184643   508 quantize.py:299] Skipping quant after FeatureExtractor/MobileDetEdgeTPU/TuckerConv/Conv_1/add_fold\n",
      "INFO:tensorflow:Skipping quant after FeatureExtractor/MobileDetEdgeTPU/FusedConv/Conv/add_fold\n",
      "I0324 22:41:31.184643   508 quantize.py:299] Skipping quant after FeatureExtractor/MobileDetEdgeTPU/FusedConv/Conv/add_fold\n",
      "INFO:tensorflow:Skipping quant after FeatureExtractor/MobileDetEdgeTPU/FusedConv_1/Conv/add_fold\n",
      "I0324 22:41:31.184643   508 quantize.py:299] Skipping quant after FeatureExtractor/MobileDetEdgeTPU/FusedConv_1/Conv/add_fold\n",
      "INFO:tensorflow:Skipping quant after FeatureExtractor/MobileDetEdgeTPU/FusedConv_2/Conv/add_fold\n",
      "I0324 22:41:31.184643   508 quantize.py:299] Skipping quant after FeatureExtractor/MobileDetEdgeTPU/FusedConv_2/Conv/add_fold\n",
      "INFO:tensorflow:Skipping quant after FeatureExtractor/MobileDetEdgeTPU/FusedConv_3/Conv/add_fold\n",
      "I0324 22:41:31.184643   508 quantize.py:299] Skipping quant after FeatureExtractor/MobileDetEdgeTPU/FusedConv_3/Conv/add_fold\n",
      "INFO:tensorflow:Skipping quant after FeatureExtractor/MobileDetEdgeTPU/FusedConv_4/Conv/add_fold\n",
      "I0324 22:41:31.184643   508 quantize.py:299] Skipping quant after FeatureExtractor/MobileDetEdgeTPU/FusedConv_4/Conv/add_fold\n"
     ]
    },
    {
     "name": "stdout",
     "output_type": "stream",
     "text": [
      "    BoxPredictor_1/BoxEncodingPredictor (--/9.24k params)\n",
      "      BoxPredictor_1/BoxEncodingPredictor/biases (24, 24/24 params)\n",
      "      BoxPredictor_1/BoxEncodingPredictor/weights (1x1x384x24, 9.22k/9.22k params)\n",
      "    BoxPredictor_1/BoxEncodingPredictor_depthwise (--/3.46k params)\n",
      "      BoxPredictor_1/BoxEncodingPredictor_depthwise/BatchNorm (--/0 params)\n",
      "      BoxPredictor_1/BoxEncodingPredictor_depthwise/depthwise_weights (3x3x384x1, 3.46k/3.46k params)\n",
      "    BoxPredictor_1/ClassPredictor (--/11.55k params)\n",
      "      BoxPredictor_1/ClassPredictor/biases (30, 30/30 params)\n",
      "      BoxPredictor_1/ClassPredictor/weights (1x1x384x30, 11.52k/11.52k params)\n",
      "    BoxPredictor_1/ClassPredictor_depthwise (--/3.46k params)\n",
      "      BoxPredictor_1/ClassPredictor_depthwise/BatchNorm (--/0 params)\n",
      "      BoxPredictor_1/ClassPredictor_depthwise/depthwise_weights (3x3x384x1, 3.46k/3.46k params)\n",
      "  BoxPredictor_2 (--/36.92k params)\n",
      "    BoxPredictor_2/BoxEncodingPredictor (--/12.31k params)\n",
      "      BoxPredictor_2/BoxEncodingPredictor/biases (24, 24/24 params)\n",
      "      BoxPredictor_2/BoxEncodingPredictor/weights (1x1x512x24, 12.29k/12.29k params)\n",
      "    BoxPredictor_2/BoxEncodingPredictor_depthwise (--/4.61k params)\n",
      "      BoxPredictor_2/BoxEncodingPredictor_depthwise/BatchNorm (--/0 params)\n",
      "      BoxPredictor_2/BoxEncodingPredictor_depthwise/depthwise_weights (3x3x512x1, 4.61k/4.61k params)\n",
      "    BoxPredictor_2/ClassPredictor (--/15.39k params)\n",
      "      BoxPredictor_2/ClassPredictor/biases (30, 30/30 params)\n",
      "      BoxPredictor_2/ClassPredictor/weights (1x1x512x30, 15.36k/15.36k params)\n",
      "    BoxPredictor_2/ClassPredictor_depthwise (--/4.61k params)\n",
      "      BoxPredictor_2/ClassPredictor_depthwise/BatchNorm (--/0 params)\n",
      "      BoxPredictor_2/ClassPredictor_depthwise/depthwise_weights (3x3x512x1, 4.61k/4.61k params)\n",
      "  BoxPredictor_3 (--/18.49k params)\n",
      "    BoxPredictor_3/BoxEncodingPredictor (--/6.17k params)\n",
      "      BoxPredictor_3/BoxEncodingPredictor/biases (24, 24/24 params)\n",
      "      BoxPredictor_3/BoxEncodingPredictor/weights (1x1x256x24, 6.14k/6.14k params)\n",
      "    BoxPredictor_3/BoxEncodingPredictor_depthwise (--/2.30k params)\n",
      "      BoxPredictor_3/BoxEncodingPredictor_depthwise/BatchNorm (--/0 params)\n",
      "      BoxPredictor_3/BoxEncodingPredictor_depthwise/depthwise_weights (3x3x256x1, 2.30k/2.30k params)\n",
      "    BoxPredictor_3/ClassPredictor (--/7.71k params)\n",
      "      BoxPredictor_3/ClassPredictor/biases (30, 30/30 params)\n",
      "      BoxPredictor_3/ClassPredictor/weights (1x1x256x30, 7.68k/7.68k params)\n",
      "    BoxPredictor_3/ClassPredictor_depthwise (--/2.30k params)\n",
      "      BoxPredictor_3/ClassPredictor_depthwise/BatchNorm (--/0 params)\n",
      "      BoxPredictor_3/ClassPredictor_depthwise/depthwise_weights (3x3x256x1, 2.30k/2.30k params)\n",
      "  BoxPredictor_4 (--/18.49k params)\n",
      "    BoxPredictor_4/BoxEncodingPredictor (--/6.17k params)\n",
      "      BoxPredictor_4/BoxEncodingPredictor/biases (24, 24/24 params)\n",
      "      BoxPredictor_4/BoxEncodingPredictor/weights (1x1x256x24, 6.14k/6.14k params)\n",
      "    BoxPredictor_4/BoxEncodingPredictor_depthwise (--/2.30k params)\n",
      "      BoxPredictor_4/BoxEncodingPredictor_depthwise/BatchNorm (--/0 params)\n",
      "      BoxPredictor_4/BoxEncodingPredictor_depthwise/depthwise_weights (3x3x256x1, 2.30k/2.30k params)\n",
      "    BoxPredictor_4/ClassPredictor (--/7.71k params)\n",
      "      BoxPredictor_4/ClassPredictor/biases (30, 30/30 params)\n",
      "      BoxPredictor_4/ClassPredictor/weights (1x1x256x30, 7.68k/7.68k params)\n",
      "    BoxPredictor_4/ClassPredictor_depthwise (--/2.30k params)\n",
      "      BoxPredictor_4/ClassPredictor_depthwise/BatchNorm (--/0 params)\n",
      "      BoxPredictor_4/ClassPredictor_depthwise/depthwise_weights (3x3x256x1, 2.30k/2.30k params)\n",
      "  BoxPredictor_5 (--/9.27k params)\n",
      "    BoxPredictor_5/BoxEncodingPredictor (--/3.10k params)\n",
      "      BoxPredictor_5/BoxEncodingPredictor/biases (24, 24/24 params)\n",
      "      BoxPredictor_5/BoxEncodingPredictor/weights (1x1x128x24, 3.07k/3.07k params)\n",
      "    BoxPredictor_5/BoxEncodingPredictor_depthwise (--/1.15k params)\n",
      "      BoxPredictor_5/BoxEncodingPredictor_depthwise/BatchNorm (--/0 params)\n",
      "      BoxPredictor_5/BoxEncodingPredictor_depthwise/depthwise_weights (3x3x128x1, 1.15k/1.15k params)\n",
      "    BoxPredictor_5/ClassPredictor (--/3.87k params)\n",
      "      BoxPredictor_5/ClassPredictor/biases (30, 30/30 params)\n",
      "      BoxPredictor_5/ClassPredictor/weights (1x1x128x30, 3.84k/3.84k params)\n",
      "    BoxPredictor_5/ClassPredictor_depthwise (--/1.15k params)\n",
      "      BoxPredictor_5/ClassPredictor_depthwise/BatchNorm (--/0 params)\n",
      "      BoxPredictor_5/ClassPredictor_depthwise/depthwise_weights (3x3x128x1, 1.15k/1.15k params)\n",
      "  FeatureExtractor (--/3.16m params)\n",
      "    FeatureExtractor/MobileDetEdgeTPU (--/3.16m params)\n",
      "      FeatureExtractor/MobileDetEdgeTPU/C5_1_Conv2d_2_1x1_256 (--/98.30k params)\n",
      "        FeatureExtractor/MobileDetEdgeTPU/C5_1_Conv2d_2_1x1_256/BatchNorm (--/0 params)\n",
      "        FeatureExtractor/MobileDetEdgeTPU/C5_1_Conv2d_2_1x1_256/weights (1x1x384x256, 98.30k/98.30k params)\n",
      "      FeatureExtractor/MobileDetEdgeTPU/C5_1_Conv2d_3_1x1_128 (--/65.54k params)\n",
      "        FeatureExtractor/MobileDetEdgeTPU/C5_1_Conv2d_3_1x1_128/BatchNorm (--/0 params)\n",
      "        FeatureExtractor/MobileDetEdgeTPU/C5_1_Conv2d_3_1x1_128/weights (1x1x512x128, 65.54k/65.54k params)\n",
      "      FeatureExtractor/MobileDetEdgeTPU/C5_1_Conv2d_4_1x1_128 (--/32.77k params)\n",
      "        FeatureExtractor/MobileDetEdgeTPU/C5_1_Conv2d_4_1x1_128/BatchNorm (--/0 params)\n",
      "        FeatureExtractor/MobileDetEdgeTPU/C5_1_Conv2d_4_1x1_128/weights (1x1x256x128, 32.77k/32.77k params)\n",
      "      FeatureExtractor/MobileDetEdgeTPU/C5_1_Conv2d_5_1x1_64 (--/16.38k params)\n",
      "        FeatureExtractor/MobileDetEdgeTPU/C5_1_Conv2d_5_1x1_64/BatchNorm (--/0 params)\n",
      "        FeatureExtractor/MobileDetEdgeTPU/C5_1_Conv2d_5_1x1_64/weights (1x1x256x64, 16.38k/16.38k params)\n",
      "      FeatureExtractor/MobileDetEdgeTPU/C5_2_Conv2d_2_3x3_s2_512 (--/131.07k params)\n",
      "        FeatureExtractor/MobileDetEdgeTPU/C5_2_Conv2d_2_3x3_s2_512/BatchNorm (--/0 params)\n",
      "        FeatureExtractor/MobileDetEdgeTPU/C5_2_Conv2d_2_3x3_s2_512/weights (1x1x256x512, 131.07k/131.07k params)\n",
      "      FeatureExtractor/MobileDetEdgeTPU/C5_2_Conv2d_2_3x3_s2_512_depthwise (--/2.30k params)\n",
      "        FeatureExtractor/MobileDetEdgeTPU/C5_2_Conv2d_2_3x3_s2_512_depthwise/BatchNorm (--/0 params)\n",
      "        FeatureExtractor/MobileDetEdgeTPU/C5_2_Conv2d_2_3x3_s2_512_depthwise/depthwise_weights (3x3x256x1, 2.30k/2.30k params)\n",
      "      FeatureExtractor/MobileDetEdgeTPU/C5_2_Conv2d_3_3x3_s2_256 (--/32.77k params)\n",
      "        FeatureExtractor/MobileDetEdgeTPU/C5_2_Conv2d_3_3x3_s2_256/BatchNorm (--/0 params)\n",
      "        FeatureExtractor/MobileDetEdgeTPU/C5_2_Conv2d_3_3x3_s2_256/weights (1x1x128x256, 32.77k/32.77k params)\n",
      "      FeatureExtractor/MobileDetEdgeTPU/C5_2_Conv2d_3_3x3_s2_256_depthwise (--/1.15k params)\n",
      "        FeatureExtractor/MobileDetEdgeTPU/C5_2_Conv2d_3_3x3_s2_256_depthwise/BatchNorm (--/0 params)\n",
      "        FeatureExtractor/MobileDetEdgeTPU/C5_2_Conv2d_3_3x3_s2_256_depthwise/depthwise_weights (3x3x128x1, 1.15k/1.15k params)\n",
      "      FeatureExtractor/MobileDetEdgeTPU/C5_2_Conv2d_4_3x3_s2_256 (--/32.77k params)\n",
      "        FeatureExtractor/MobileDetEdgeTPU/C5_2_Conv2d_4_3x3_s2_256/BatchNorm (--/0 params)\n",
      "        FeatureExtractor/MobileDetEdgeTPU/C5_2_Conv2d_4_3x3_s2_256/weights (1x1x128x256, 32.77k/32.77k params)\n",
      "      FeatureExtractor/MobileDetEdgeTPU/C5_2_Conv2d_4_3x3_s2_256_depthwise (--/1.15k params)\n",
      "        FeatureExtractor/MobileDetEdgeTPU/C5_2_Conv2d_4_3x3_s2_256_depthwise/BatchNorm (--/0 params)\n",
      "        FeatureExtractor/MobileDetEdgeTPU/C5_2_Conv2d_4_3x3_s2_256_depthwise/depthwise_weights (3x3x128x1, 1.15k/1.15k params)\n",
      "      FeatureExtractor/MobileDetEdgeTPU/C5_2_Conv2d_5_3x3_s2_128 (--/8.19k params)\n",
      "        FeatureExtractor/MobileDetEdgeTPU/C5_2_Conv2d_5_3x3_s2_128/BatchNorm (--/0 params)\n",
      "        FeatureExtractor/MobileDetEdgeTPU/C5_2_Conv2d_5_3x3_s2_128/weights (1x1x64x128, 8.19k/8.19k params)\n",
      "      FeatureExtractor/MobileDetEdgeTPU/C5_2_Conv2d_5_3x3_s2_128_depthwise (--/576 params)\n",
      "        FeatureExtractor/MobileDetEdgeTPU/C5_2_Conv2d_5_3x3_s2_128_depthwise/BatchNorm (--/0 params)\n",
      "        FeatureExtractor/MobileDetEdgeTPU/C5_2_Conv2d_5_3x3_s2_128_depthwise/depthwise_weights (3x3x64x1, 576/576 params)\n",
      "      FeatureExtractor/MobileDetEdgeTPU/Conv (--/864 params)\n",
      "        FeatureExtractor/MobileDetEdgeTPU/Conv/BatchNorm (--/0 params)\n",
      "        FeatureExtractor/MobileDetEdgeTPU/Conv/weights (3x3x3x32, 864/864 params)\n",
      "      FeatureExtractor/MobileDetEdgeTPU/FusedConv (--/20.48k params)\n",
      "        FeatureExtractor/MobileDetEdgeTPU/FusedConv/Conv (--/18.43k params)\n",
      "          FeatureExtractor/MobileDetEdgeTPU/FusedConv/Conv/BatchNorm (--/0 params)\n",
      "          FeatureExtractor/MobileDetEdgeTPU/FusedConv/Conv/weights (3x3x16x128, 18.43k/18.43k params)\n",
      "        FeatureExtractor/MobileDetEdgeTPU/FusedConv/Conv_1 (--/2.05k params)\n",
      "          FeatureExtractor/MobileDetEdgeTPU/FusedConv/Conv_1/BatchNorm (--/0 params)\n",
      "          FeatureExtractor/MobileDetEdgeTPU/FusedConv/Conv_1/weights (1x1x128x16, 2.05k/2.05k params)\n",
      "      FeatureExtractor/MobileDetEdgeTPU/FusedConv_1 (--/10.24k params)\n",
      "        FeatureExtractor/MobileDetEdgeTPU/FusedConv_1/Conv (--/9.22k params)\n",
      "          FeatureExtractor/MobileDetEdgeTPU/FusedConv_1/Conv/BatchNorm (--/0 params)\n",
      "          FeatureExtractor/MobileDetEdgeTPU/FusedConv_1/Conv/weights (3x3x16x64, 9.22k/9.22k params)\n",
      "        FeatureExtractor/MobileDetEdgeTPU/FusedConv_1/Conv_1 (--/1.02k params)\n",
      "          FeatureExtractor/MobileDetEdgeTPU/FusedConv_1/Conv_1/BatchNorm (--/0 params)\n",
      "          FeatureExtractor/MobileDetEdgeTPU/FusedConv_1/Conv_1/weights (1x1x64x16, 1.02k/1.02k params)\n",
      "      FeatureExtractor/MobileDetEdgeTPU/FusedConv_2 (--/20.48k params)\n",
      "        FeatureExtractor/MobileDetEdgeTPU/FusedConv_2/Conv (--/18.43k params)\n",
      "          FeatureExtractor/MobileDetEdgeTPU/FusedConv_2/Conv/BatchNorm (--/0 params)\n",
      "          FeatureExtractor/MobileDetEdgeTPU/FusedConv_2/Conv/weights (3x3x16x128, 18.43k/18.43k params)\n",
      "        FeatureExtractor/MobileDetEdgeTPU/FusedConv_2/Conv_1 (--/2.05k params)\n",
      "          FeatureExtractor/MobileDetEdgeTPU/FusedConv_2/Conv_1/BatchNorm (--/0 params)\n",
      "          FeatureExtractor/MobileDetEdgeTPU/FusedConv_2/Conv_1/weights (1x1x128x16, 2.05k/2.05k params)\n",
      "      FeatureExtractor/MobileDetEdgeTPU/FusedConv_3 (--/10.24k params)\n",
      "        FeatureExtractor/MobileDetEdgeTPU/FusedConv_3/Conv (--/9.22k params)\n",
      "          FeatureExtractor/MobileDetEdgeTPU/FusedConv_3/Conv/BatchNorm (--/0 params)\n",
      "          FeatureExtractor/MobileDetEdgeTPU/FusedConv_3/Conv/weights (3x3x16x64, 9.22k/9.22k params)\n",
      "        FeatureExtractor/MobileDetEdgeTPU/FusedConv_3/Conv_1 (--/1.02k params)\n",
      "          FeatureExtractor/MobileDetEdgeTPU/FusedConv_3/Conv_1/BatchNorm (--/0 params)\n",
      "          FeatureExtractor/MobileDetEdgeTPU/FusedConv_3/Conv_1/weights (1x1x64x16, 1.02k/1.02k params)\n",
      "      FeatureExtractor/MobileDetEdgeTPU/FusedConv_4 (--/56.32k params)\n",
      "        FeatureExtractor/MobileDetEdgeTPU/FusedConv_4/Conv (--/51.20k params)\n",
      "          FeatureExtractor/MobileDetEdgeTPU/FusedConv_4/Conv/BatchNorm (--/0 params)\n",
      "          FeatureExtractor/MobileDetEdgeTPU/FusedConv_4/Conv/weights (5x5x16x128, 51.20k/51.20k params)\n",
      "        FeatureExtractor/MobileDetEdgeTPU/FusedConv_4/Conv_1 (--/5.12k params)\n",
      "          FeatureExtractor/MobileDetEdgeTPU/FusedConv_4/Conv_1/BatchNorm (--/0 params)\n",
      "          FeatureExtractor/MobileDetEdgeTPU/FusedConv_4/Conv_1/weights (1x1x128x40, 5.12k/5.12k params)\n",
      "      FeatureExtractor/MobileDetEdgeTPU/FusedConv_5 (--/64.00k params)\n",
      "        FeatureExtractor/MobileDetEdgeTPU/FusedConv_5/Conv (--/57.60k params)\n",
      "          FeatureExtractor/MobileDetEdgeTPU/FusedConv_5/Conv/BatchNorm (--/0 params)\n",
      "          FeatureExtractor/MobileDetEdgeTPU/FusedConv_5/Conv/weights (3x3x40x160, 57.60k/57.60k params)\n",
      "        FeatureExtractor/MobileDetEdgeTPU/FusedConv_5/Conv_1 (--/6.40k params)\n",
      "          FeatureExtractor/MobileDetEdgeTPU/FusedConv_5/Conv_1/BatchNorm (--/0 params)\n",
      "          FeatureExtractor/MobileDetEdgeTPU/FusedConv_5/Conv_1/weights (1x1x160x40, 6.40k/6.40k params)\n",
      "      FeatureExtractor/MobileDetEdgeTPU/FusedConv_6 (--/64.00k params)\n",
      "        FeatureExtractor/MobileDetEdgeTPU/FusedConv_6/Conv (--/57.60k params)\n",
      "          FeatureExtractor/MobileDetEdgeTPU/FusedConv_6/Conv/BatchNorm (--/0 params)\n",
      "          FeatureExtractor/MobileDetEdgeTPU/FusedConv_6/Conv/weights (3x3x40x160, 57.60k/57.60k params)\n",
      "        FeatureExtractor/MobileDetEdgeTPU/FusedConv_6/Conv_1 (--/6.40k params)\n",
      "          FeatureExtractor/MobileDetEdgeTPU/FusedConv_6/Conv_1/BatchNorm (--/0 params)\n",
      "          FeatureExtractor/MobileDetEdgeTPU/FusedConv_6/Conv_1/weights (1x1x160x40, 6.40k/6.40k params)\n",
      "      FeatureExtractor/MobileDetEdgeTPU/FusedConv_7 (--/64.00k params)\n",
      "        FeatureExtractor/MobileDetEdgeTPU/FusedConv_7/Conv (--/57.60k params)\n",
      "          FeatureExtractor/MobileDetEdgeTPU/FusedConv_7/Conv/BatchNorm (--/0 params)\n",
      "          FeatureExtractor/MobileDetEdgeTPU/FusedConv_7/Conv/weights (3x3x40x160, 57.60k/57.60k params)\n",
      "        FeatureExtractor/MobileDetEdgeTPU/FusedConv_7/Conv_1 (--/6.40k params)\n",
      "          FeatureExtractor/MobileDetEdgeTPU/FusedConv_7/Conv_1/BatchNorm (--/0 params)\n",
      "          FeatureExtractor/MobileDetEdgeTPU/FusedConv_7/Conv_1/weights (1x1x160x40, 6.40k/6.40k params)\n",
      "      FeatureExtractor/MobileDetEdgeTPU/FusedConv_8 (--/207.36k params)\n",
      "        FeatureExtractor/MobileDetEdgeTPU/FusedConv_8/Conv (--/186.62k params)\n",
      "          FeatureExtractor/MobileDetEdgeTPU/FusedConv_8/Conv/BatchNorm (--/0 params)\n",
      "          FeatureExtractor/MobileDetEdgeTPU/FusedConv_8/Conv/weights (3x3x72x288, 186.62k/186.62k params)\n",
      "        FeatureExtractor/MobileDetEdgeTPU/FusedConv_8/Conv_1 (--/20.74k params)\n",
      "          FeatureExtractor/MobileDetEdgeTPU/FusedConv_8/Conv_1/BatchNorm (--/0 params)\n",
      "          FeatureExtractor/MobileDetEdgeTPU/FusedConv_8/Conv_1/weights (1x1x288x72, 20.74k/20.74k params)\n",
      "      FeatureExtractor/MobileDetEdgeTPU/FusedConv_9 (--/207.36k params)\n",
      "        FeatureExtractor/MobileDetEdgeTPU/FusedConv_9/Conv (--/186.62k params)\n",
      "          FeatureExtractor/MobileDetEdgeTPU/FusedConv_9/Conv/BatchNorm (--/0 params)\n",
      "          FeatureExtractor/MobileDetEdgeTPU/FusedConv_9/Conv/weights (3x3x72x288, 186.62k/186.62k params)\n",
      "        FeatureExtractor/MobileDetEdgeTPU/FusedConv_9/Conv_1 (--/20.74k params)\n",
      "          FeatureExtractor/MobileDetEdgeTPU/FusedConv_9/Conv_1/BatchNorm (--/0 params)\n",
      "          FeatureExtractor/MobileDetEdgeTPU/FusedConv_9/Conv_1/weights (1x1x288x72, 20.74k/20.74k params)\n",
      "      FeatureExtractor/MobileDetEdgeTPU/IBN (--/38.72k params)\n",
      "        FeatureExtractor/MobileDetEdgeTPU/IBN/Conv (--/12.80k params)\n",
      "          FeatureExtractor/MobileDetEdgeTPU/IBN/Conv/BatchNorm (--/0 params)\n",
      "          FeatureExtractor/MobileDetEdgeTPU/IBN/Conv/weights (1x1x40x320, 12.80k/12.80k params)\n",
      "        FeatureExtractor/MobileDetEdgeTPU/IBN/Conv_1 (--/23.04k params)\n",
      "          FeatureExtractor/MobileDetEdgeTPU/IBN/Conv_1/BatchNorm (--/0 params)\n",
      "          FeatureExtractor/MobileDetEdgeTPU/IBN/Conv_1/weights (1x1x320x72, 23.04k/23.04k params)\n",
      "        FeatureExtractor/MobileDetEdgeTPU/IBN/SeparableConv2d (--/2.88k params)\n",
      "          FeatureExtractor/MobileDetEdgeTPU/IBN/SeparableConv2d/BatchNorm (--/0 params)\n",
      "          FeatureExtractor/MobileDetEdgeTPU/IBN/SeparableConv2d/depthwise_weights (3x3x320x1, 2.88k/2.88k params)\n",
      "      FeatureExtractor/MobileDetEdgeTPU/IBN_1 (--/88.13k params)\n",
      "        FeatureExtractor/MobileDetEdgeTPU/IBN_1/Conv (--/41.47k params)\n",
      "          FeatureExtractor/MobileDetEdgeTPU/IBN_1/Conv/BatchNorm (--/0 params)\n",
      "          FeatureExtractor/MobileDetEdgeTPU/IBN_1/Conv/weights (1x1x72x576, 41.47k/41.47k params)\n",
      "        FeatureExtractor/MobileDetEdgeTPU/IBN_1/Conv_1 (--/41.47k params)\n",
      "          FeatureExtractor/MobileDetEdgeTPU/IBN_1/Conv_1/BatchNorm (--/0 params)\n",
      "          FeatureExtractor/MobileDetEdgeTPU/IBN_1/Conv_1/weights (1x1x576x72, 41.47k/41.47k params)\n",
      "        FeatureExtractor/MobileDetEdgeTPU/IBN_1/SeparableConv2d (--/5.18k params)\n",
      "          FeatureExtractor/MobileDetEdgeTPU/IBN_1/SeparableConv2d/BatchNorm (--/0 params)\n",
      "          FeatureExtractor/MobileDetEdgeTPU/IBN_1/SeparableConv2d/depthwise_weights (3x3x576x1, 5.18k/5.18k params)\n",
      "      FeatureExtractor/MobileDetEdgeTPU/IBN_10 (--/507.84k params)\n",
      "        FeatureExtractor/MobileDetEdgeTPU/IBN_10/Conv (--/115.20k params)\n",
      "          FeatureExtractor/MobileDetEdgeTPU/IBN_10/Conv/BatchNorm (--/0 params)\n",
      "          FeatureExtractor/MobileDetEdgeTPU/IBN_10/Conv/weights (1x1x120x960, 115.20k/115.20k params)\n",
      "        FeatureExtractor/MobileDetEdgeTPU/IBN_10/Conv_1 (--/368.64k params)\n",
      "          FeatureExtractor/MobileDetEdgeTPU/IBN_10/Conv_1/BatchNorm (--/0 params)\n",
      "          FeatureExtractor/MobileDetEdgeTPU/IBN_10/Conv_1/weights (1x1x960x384, 368.64k/368.64k params)\n",
      "        FeatureExtractor/MobileDetEdgeTPU/IBN_10/SeparableConv2d (--/24.00k params)\n",
      "          FeatureExtractor/MobileDetEdgeTPU/IBN_10/SeparableConv2d/BatchNorm (--/0 params)\n",
      "          FeatureExtractor/MobileDetEdgeTPU/IBN_10/SeparableConv2d/depthwise_weights (5x5x960x1, 24.00k/24.00k params)\n",
      "      FeatureExtractor/MobileDetEdgeTPU/IBN_2 (--/111.17k params)\n",
      "        FeatureExtractor/MobileDetEdgeTPU/IBN_2/Conv (--/41.47k params)\n",
      "          FeatureExtractor/MobileDetEdgeTPU/IBN_2/Conv/BatchNorm (--/0 params)\n",
      "          FeatureExtractor/MobileDetEdgeTPU/IBN_2/Conv/weights (1x1x72x576, 41.47k/41.47k params)\n",
      "        FeatureExtractor/MobileDetEdgeTPU/IBN_2/Conv_1 (--/55.30k params)\n",
      "          FeatureExtractor/MobileDetEdgeTPU/IBN_2/Conv_1/BatchNorm (--/0 params)\n",
      "          FeatureExtractor/MobileDetEdgeTPU/IBN_2/Conv_1/weights (1x1x576x96, 55.30k/55.30k params)\n",
      "        FeatureExtractor/MobileDetEdgeTPU/IBN_2/SeparableConv2d (--/14.40k params)\n",
      "          FeatureExtractor/MobileDetEdgeTPU/IBN_2/SeparableConv2d/BatchNorm (--/0 params)\n",
      "          FeatureExtractor/MobileDetEdgeTPU/IBN_2/SeparableConv2d/depthwise_weights (5x5x576x1, 14.40k/14.40k params)\n",
      "      FeatureExtractor/MobileDetEdgeTPU/IBN_3 (--/166.66k params)\n",
      "        FeatureExtractor/MobileDetEdgeTPU/IBN_3/Conv (--/73.73k params)\n",
      "          FeatureExtractor/MobileDetEdgeTPU/IBN_3/Conv/BatchNorm (--/0 params)\n",
      "          FeatureExtractor/MobileDetEdgeTPU/IBN_3/Conv/weights (1x1x96x768, 73.73k/73.73k params)\n",
      "        FeatureExtractor/MobileDetEdgeTPU/IBN_3/Conv_1 (--/73.73k params)\n",
      "          FeatureExtractor/MobileDetEdgeTPU/IBN_3/Conv_1/BatchNorm (--/0 params)\n",
      "          FeatureExtractor/MobileDetEdgeTPU/IBN_3/Conv_1/weights (1x1x768x96, 73.73k/73.73k params)\n",
      "        FeatureExtractor/MobileDetEdgeTPU/IBN_3/SeparableConv2d (--/19.20k params)\n",
      "          FeatureExtractor/MobileDetEdgeTPU/IBN_3/SeparableConv2d/BatchNorm (--/0 params)\n",
      "          FeatureExtractor/MobileDetEdgeTPU/IBN_3/SeparableConv2d/depthwise_weights (5x5x768x1, 19.20k/19.20k params)\n",
      "      FeatureExtractor/MobileDetEdgeTPU/IBN_4 (--/154.37k params)\n",
      "        FeatureExtractor/MobileDetEdgeTPU/IBN_4/Conv (--/73.73k params)\n",
      "          FeatureExtractor/MobileDetEdgeTPU/IBN_4/Conv/BatchNorm (--/0 params)\n",
      "          FeatureExtractor/MobileDetEdgeTPU/IBN_4/Conv/weights (1x1x96x768, 73.73k/73.73k params)\n",
      "        FeatureExtractor/MobileDetEdgeTPU/IBN_4/Conv_1 (--/73.73k params)\n",
      "          FeatureExtractor/MobileDetEdgeTPU/IBN_4/Conv_1/BatchNorm (--/0 params)\n",
      "          FeatureExtractor/MobileDetEdgeTPU/IBN_4/Conv_1/weights (1x1x768x96, 73.73k/73.73k params)\n",
      "        FeatureExtractor/MobileDetEdgeTPU/IBN_4/SeparableConv2d (--/6.91k params)\n",
      "          FeatureExtractor/MobileDetEdgeTPU/IBN_4/SeparableConv2d/BatchNorm (--/0 params)\n",
      "          FeatureExtractor/MobileDetEdgeTPU/IBN_4/SeparableConv2d/depthwise_weights (3x3x768x1, 6.91k/6.91k params)\n",
      "      FeatureExtractor/MobileDetEdgeTPU/IBN_5 (--/154.37k params)\n",
      "        FeatureExtractor/MobileDetEdgeTPU/IBN_5/Conv (--/73.73k params)\n",
      "          FeatureExtractor/MobileDetEdgeTPU/IBN_5/Conv/BatchNorm (--/0 params)\n",
      "          FeatureExtractor/MobileDetEdgeTPU/IBN_5/Conv/weights (1x1x96x768, 73.73k/73.73k params)\n",
      "        FeatureExtractor/MobileDetEdgeTPU/IBN_5/Conv_1 (--/73.73k params)\n",
      "          FeatureExtractor/MobileDetEdgeTPU/IBN_5/Conv_1/BatchNorm (--/0 params)\n",
      "          FeatureExtractor/MobileDetEdgeTPU/IBN_5/Conv_1/weights (1x1x768x96, 73.73k/73.73k params)\n",
      "        FeatureExtractor/MobileDetEdgeTPU/IBN_5/SeparableConv2d (--/6.91k params)\n",
      "          FeatureExtractor/MobileDetEdgeTPU/IBN_5/SeparableConv2d/BatchNorm (--/0 params)\n",
      "          FeatureExtractor/MobileDetEdgeTPU/IBN_5/SeparableConv2d/depthwise_weights (3x3x768x1, 6.91k/6.91k params)\n",
      "      FeatureExtractor/MobileDetEdgeTPU/IBN_6 (--/185.09k params)\n",
      "        FeatureExtractor/MobileDetEdgeTPU/IBN_6/Conv (--/73.73k params)\n",
      "          FeatureExtractor/MobileDetEdgeTPU/IBN_6/Conv/BatchNorm (--/0 params)\n",
      "          FeatureExtractor/MobileDetEdgeTPU/IBN_6/Conv/weights (1x1x96x768, 73.73k/73.73k params)\n",
      "        FeatureExtractor/MobileDetEdgeTPU/IBN_6/Conv_1 (--/92.16k params)\n",
      "          FeatureExtractor/MobileDetEdgeTPU/IBN_6/Conv_1/BatchNorm (--/0 params)\n",
      "          FeatureExtractor/MobileDetEdgeTPU/IBN_6/Conv_1/weights (1x1x768x120, 92.16k/92.16k params)\n",
      "        FeatureExtractor/MobileDetEdgeTPU/IBN_6/SeparableConv2d (--/19.20k params)\n",
      "          FeatureExtractor/MobileDetEdgeTPU/IBN_6/SeparableConv2d/BatchNorm (--/0 params)\n",
      "          FeatureExtractor/MobileDetEdgeTPU/IBN_6/SeparableConv2d/depthwise_weights (5x5x768x1, 19.20k/19.20k params)\n",
      "      FeatureExtractor/MobileDetEdgeTPU/IBN_7 (--/239.04k params)\n",
      "        FeatureExtractor/MobileDetEdgeTPU/IBN_7/Conv (--/115.20k params)\n",
      "          FeatureExtractor/MobileDetEdgeTPU/IBN_7/Conv/BatchNorm (--/0 params)\n",
      "          FeatureExtractor/MobileDetEdgeTPU/IBN_7/Conv/weights (1x1x120x960, 115.20k/115.20k params)\n",
      "        FeatureExtractor/MobileDetEdgeTPU/IBN_7/Conv_1 (--/115.20k params)\n",
      "          FeatureExtractor/MobileDetEdgeTPU/IBN_7/Conv_1/BatchNorm (--/0 params)\n",
      "          FeatureExtractor/MobileDetEdgeTPU/IBN_7/Conv_1/weights (1x1x960x120, 115.20k/115.20k params)\n",
      "        FeatureExtractor/MobileDetEdgeTPU/IBN_7/SeparableConv2d (--/8.64k params)\n",
      "          FeatureExtractor/MobileDetEdgeTPU/IBN_7/SeparableConv2d/BatchNorm (--/0 params)\n",
      "          FeatureExtractor/MobileDetEdgeTPU/IBN_7/SeparableConv2d/depthwise_weights (3x3x960x1, 8.64k/8.64k params)\n",
      "      FeatureExtractor/MobileDetEdgeTPU/IBN_8 (--/127.20k params)\n",
      "        FeatureExtractor/MobileDetEdgeTPU/IBN_8/Conv (--/57.60k params)\n",
      "          FeatureExtractor/MobileDetEdgeTPU/IBN_8/Conv/BatchNorm (--/0 params)\n",
      "          FeatureExtractor/MobileDetEdgeTPU/IBN_8/Conv/weights (1x1x120x480, 57.60k/57.60k params)\n",
      "        FeatureExtractor/MobileDetEdgeTPU/IBN_8/Conv_1 (--/57.60k params)\n",
      "          FeatureExtractor/MobileDetEdgeTPU/IBN_8/Conv_1/BatchNorm (--/0 params)\n",
      "          FeatureExtractor/MobileDetEdgeTPU/IBN_8/Conv_1/weights (1x1x480x120, 57.60k/57.60k params)\n",
      "        FeatureExtractor/MobileDetEdgeTPU/IBN_8/SeparableConv2d (--/12.00k params)\n",
      "          FeatureExtractor/MobileDetEdgeTPU/IBN_8/SeparableConv2d/BatchNorm (--/0 params)\n",
      "          FeatureExtractor/MobileDetEdgeTPU/IBN_8/SeparableConv2d/depthwise_weights (5x5x480x1, 12.00k/12.00k params)\n",
      "      FeatureExtractor/MobileDetEdgeTPU/IBN_9 (--/239.04k params)\n",
      "        FeatureExtractor/MobileDetEdgeTPU/IBN_9/Conv (--/115.20k params)\n",
      "          FeatureExtractor/MobileDetEdgeTPU/IBN_9/Conv/BatchNorm (--/0 params)\n",
      "          FeatureExtractor/MobileDetEdgeTPU/IBN_9/Conv/weights (1x1x120x960, 115.20k/115.20k params)\n",
      "        FeatureExtractor/MobileDetEdgeTPU/IBN_9/Conv_1 (--/115.20k params)\n",
      "          FeatureExtractor/MobileDetEdgeTPU/IBN_9/Conv_1/BatchNorm (--/0 params)\n",
      "          FeatureExtractor/MobileDetEdgeTPU/IBN_9/Conv_1/weights (1x1x960x120, 115.20k/115.20k params)\n",
      "        FeatureExtractor/MobileDetEdgeTPU/IBN_9/SeparableConv2d (--/8.64k params)\n",
      "          FeatureExtractor/MobileDetEdgeTPU/IBN_9/SeparableConv2d/BatchNorm (--/0 params)\n",
      "          FeatureExtractor/MobileDetEdgeTPU/IBN_9/SeparableConv2d/depthwise_weights (3x3x960x1, 8.64k/8.64k params)\n",
      "      FeatureExtractor/MobileDetEdgeTPU/TuckerConv (--/1.66k params)\n",
      "        FeatureExtractor/MobileDetEdgeTPU/TuckerConv/Conv (--/256 params)\n",
      "          FeatureExtractor/MobileDetEdgeTPU/TuckerConv/Conv/BatchNorm (--/0 params)\n",
      "          FeatureExtractor/MobileDetEdgeTPU/TuckerConv/Conv/weights (1x1x32x8, 256/256 params)\n",
      "        FeatureExtractor/MobileDetEdgeTPU/TuckerConv/Conv_1 (--/1.15k params)\n",
      "          FeatureExtractor/MobileDetEdgeTPU/TuckerConv/Conv_1/BatchNorm (--/0 params)\n",
      "          FeatureExtractor/MobileDetEdgeTPU/TuckerConv/Conv_1/weights (3x3x8x16, 1.15k/1.15k params)\n",
      "        FeatureExtractor/MobileDetEdgeTPU/TuckerConv/Conv_2 (--/256 params)\n",
      "          FeatureExtractor/MobileDetEdgeTPU/TuckerConv/Conv_2/BatchNorm (--/0 params)\n",
      "          FeatureExtractor/MobileDetEdgeTPU/TuckerConv/Conv_2/weights (1x1x16x16, 256/256 params)\n",
      "\n",
      "======================End of Report==========================\n",
      "Parsing Inputs...\n",
      "\n",
      "=========================Options=============================\n",
      "-max_depth                  10000\n",
      "-min_bytes                  0\n",
      "-min_peak_bytes             0\n",
      "-min_residual_bytes         0\n",
      "-min_output_bytes           0\n",
      "-min_micros                 0\n",
      "-min_accelerator_micros     0\n",
      "-min_cpu_micros             0\n",
      "-min_params                 0\n",
      "-min_float_ops              1\n",
      "-min_occurrence             0\n",
      "-step                       -1\n",
      "-order_by                   float_ops\n",
      "-account_type_regexes       .*\n",
      "-start_name_regexes         .*\n",
      "-trim_name_regexes          .*BatchNorm.*,.*Initializer.*,.*Regularizer.*,.*BiasAdd.*\n",
      "-show_name_regexes          .*\n",
      "-hide_name_regexes          \n",
      "-account_displayed_op_only  true\n",
      "-select                     float_ops\n",
      "-output                     stdout:\n",
      "\n",
      "==================Model Analysis Report======================\n",
      "\n",
      "Doc:\n",
      "scope: The nodes in the model graph are organized by their names, which is hierarchical like filesystem.\n",
      "flops: Number of float operations. Note: Please read the implementation for the math behind it.\n",
      "\n",
      "Profile:\n",
      "node name | # float_ops\n",
      "_TFProfRoot (--/3.22m flops)\n",
      "  FeatureExtractor/MobileDetEdgeTPU/IBN_10/Conv_1/mul_fold (368.64k/368.64k flops)\n",
      "  FeatureExtractor/MobileDetEdgeTPU/FusedConv_8/Conv/mul_fold (186.62k/186.62k flops)\n",
      "  FeatureExtractor/MobileDetEdgeTPU/FusedConv_9/Conv/mul_fold (186.62k/186.62k flops)\n",
      "  FeatureExtractor/MobileDetEdgeTPU/C5_2_Conv2d_2_3x3_s2_512/mul_fold (131.07k/131.07k flops)\n",
      "  FeatureExtractor/MobileDetEdgeTPU/IBN_9/Conv/mul_fold (115.20k/115.20k flops)\n",
      "  FeatureExtractor/MobileDetEdgeTPU/IBN_9/Conv_1/mul_fold (115.20k/115.20k flops)\n",
      "  FeatureExtractor/MobileDetEdgeTPU/IBN_7/Conv_1/mul_fold (115.20k/115.20k flops)\n",
      "  FeatureExtractor/MobileDetEdgeTPU/IBN_7/Conv/mul_fold (115.20k/115.20k flops)\n",
      "  FeatureExtractor/MobileDetEdgeTPU/IBN_10/Conv/mul_fold (115.20k/115.20k flops)\n",
      "  FeatureExtractor/MobileDetEdgeTPU/C5_1_Conv2d_2_1x1_256/mul_fold (98.30k/98.30k flops)\n",
      "  FeatureExtractor/MobileDetEdgeTPU/IBN_6/Conv_1/mul_fold (92.16k/92.16k flops)\n",
      "  FeatureExtractor/MobileDetEdgeTPU/IBN_5/Conv_1/mul_fold (73.73k/73.73k flops)\n",
      "  FeatureExtractor/MobileDetEdgeTPU/IBN_5/Conv/mul_fold (73.73k/73.73k flops)\n",
      "  FeatureExtractor/MobileDetEdgeTPU/IBN_4/Conv_1/mul_fold (73.73k/73.73k flops)\n",
      "  FeatureExtractor/MobileDetEdgeTPU/IBN_4/Conv/mul_fold (73.73k/73.73k flops)\n",
      "  FeatureExtractor/MobileDetEdgeTPU/IBN_3/Conv_1/mul_fold (73.73k/73.73k flops)\n",
      "  FeatureExtractor/MobileDetEdgeTPU/IBN_3/Conv/mul_fold (73.73k/73.73k flops)\n",
      "  FeatureExtractor/MobileDetEdgeTPU/IBN_6/Conv/mul_fold (73.73k/73.73k flops)\n",
      "  FeatureExtractor/MobileDetEdgeTPU/C5_1_Conv2d_3_1x1_128/mul_fold (65.54k/65.54k flops)\n",
      "  FeatureExtractor/MobileDetEdgeTPU/IBN_8/Conv/mul_fold (57.60k/57.60k flops)\n",
      "  FeatureExtractor/MobileDetEdgeTPU/FusedConv_7/Conv/mul_fold (57.60k/57.60k flops)\n",
      "  FeatureExtractor/MobileDetEdgeTPU/FusedConv_5/Conv/mul_fold (57.60k/57.60k flops)\n",
      "  FeatureExtractor/MobileDetEdgeTPU/FusedConv_6/Conv/mul_fold (57.60k/57.60k flops)\n",
      "  FeatureExtractor/MobileDetEdgeTPU/IBN_8/Conv_1/mul_fold (57.60k/57.60k flops)\n",
      "  FeatureExtractor/MobileDetEdgeTPU/IBN_2/Conv_1/mul_fold (55.30k/55.30k flops)\n",
      "  FeatureExtractor/MobileDetEdgeTPU/FusedConv_4/Conv/mul_fold (51.20k/51.20k flops)\n",
      "  FeatureExtractor/MobileDetEdgeTPU/IBN_1/Conv/mul_fold (41.47k/41.47k flops)\n",
      "  FeatureExtractor/MobileDetEdgeTPU/IBN_1/Conv_1/mul_fold (41.47k/41.47k flops)\n",
      "  FeatureExtractor/MobileDetEdgeTPU/IBN_2/Conv/mul_fold (41.47k/41.47k flops)\n",
      "  FeatureExtractor/MobileDetEdgeTPU/C5_2_Conv2d_3_3x3_s2_256/mul_fold (32.77k/32.77k flops)\n",
      "  FeatureExtractor/MobileDetEdgeTPU/C5_1_Conv2d_4_1x1_128/mul_fold (32.77k/32.77k flops)\n",
      "  FeatureExtractor/MobileDetEdgeTPU/C5_2_Conv2d_4_3x3_s2_256/mul_fold (32.77k/32.77k flops)\n",
      "  FeatureExtractor/MobileDetEdgeTPU/IBN_10/SeparableConv2d/mul_fold (24.00k/24.00k flops)\n",
      "  FeatureExtractor/MobileDetEdgeTPU/IBN/Conv_1/mul_fold (23.04k/23.04k flops)\n",
      "  FeatureExtractor/MobileDetEdgeTPU/FusedConv_9/Conv_1/mul_fold (20.74k/20.74k flops)\n",
      "  FeatureExtractor/MobileDetEdgeTPU/FusedConv_8/Conv_1/mul_fold (20.74k/20.74k flops)\n",
      "  FeatureExtractor/MobileDetEdgeTPU/IBN_3/SeparableConv2d/mul_fold (19.20k/19.20k flops)\n",
      "  FeatureExtractor/MobileDetEdgeTPU/IBN_6/SeparableConv2d/mul_fold (19.20k/19.20k flops)\n",
      "  FeatureExtractor/MobileDetEdgeTPU/FusedConv/Conv/mul_fold (18.43k/18.43k flops)\n",
      "  FeatureExtractor/MobileDetEdgeTPU/FusedConv_2/Conv/mul_fold (18.43k/18.43k flops)\n",
      "  FeatureExtractor/MobileDetEdgeTPU/C5_1_Conv2d_5_1x1_64/mul_fold (16.38k/16.38k flops)\n",
      "  FeatureExtractor/MobileDetEdgeTPU/IBN_2/SeparableConv2d/mul_fold (14.40k/14.40k flops)\n",
      "  FeatureExtractor/MobileDetEdgeTPU/IBN/Conv/mul_fold (12.80k/12.80k flops)\n",
      "  FeatureExtractor/MobileDetEdgeTPU/IBN_8/SeparableConv2d/mul_fold (12.00k/12.00k flops)\n",
      "  FeatureExtractor/MobileDetEdgeTPU/FusedConv_3/Conv/mul_fold (9.22k/9.22k flops)\n",
      "  FeatureExtractor/MobileDetEdgeTPU/FusedConv_1/Conv/mul_fold (9.22k/9.22k flops)\n",
      "  FeatureExtractor/MobileDetEdgeTPU/IBN_9/SeparableConv2d/mul_fold (8.64k/8.64k flops)\n",
      "  FeatureExtractor/MobileDetEdgeTPU/IBN_7/SeparableConv2d/mul_fold (8.64k/8.64k flops)\n",
      "  FeatureExtractor/MobileDetEdgeTPU/C5_2_Conv2d_5_3x3_s2_128/mul_fold (8.19k/8.19k flops)\n",
      "  FeatureExtractor/MobileDetEdgeTPU/IBN_4/SeparableConv2d/mul_fold (6.91k/6.91k flops)\n",
      "  FeatureExtractor/MobileDetEdgeTPU/IBN_5/SeparableConv2d/mul_fold (6.91k/6.91k flops)\n",
      "  FeatureExtractor/MobileDetEdgeTPU/FusedConv_5/Conv_1/mul_fold (6.40k/6.40k flops)\n",
      "  FeatureExtractor/MobileDetEdgeTPU/FusedConv_6/Conv_1/mul_fold (6.40k/6.40k flops)\n",
      "  FeatureExtractor/MobileDetEdgeTPU/FusedConv_7/Conv_1/mul_fold (6.40k/6.40k flops)\n",
      "  FeatureExtractor/MobileDetEdgeTPU/IBN_1/SeparableConv2d/mul_fold (5.18k/5.18k flops)\n",
      "  FeatureExtractor/MobileDetEdgeTPU/FusedConv_4/Conv_1/mul_fold (5.12k/5.12k flops)\n",
      "  BoxPredictor_2/BoxEncodingPredictor_depthwise/mul_fold (4.61k/4.61k flops)\n",
      "  BoxPredictor_2/ClassPredictor_depthwise/mul_fold (4.61k/4.61k flops)\n",
      "  BoxPredictor_1/BoxEncodingPredictor_depthwise/mul_fold (3.46k/3.46k flops)\n",
      "  BoxPredictor_1/ClassPredictor_depthwise/mul_fold (3.46k/3.46k flops)\n",
      "  FeatureExtractor/MobileDetEdgeTPU/IBN/SeparableConv2d/mul_fold (2.88k/2.88k flops)\n",
      "  MultipleGridAnchorGenerator/mul_20 (2.40k/2.40k flops)\n",
      "  MultipleGridAnchorGenerator/sub (2.40k/2.40k flops)\n",
      "  MultipleGridAnchorGenerator/mul_19 (2.40k/2.40k flops)\n",
      "  BoxPredictor_3/BoxEncodingPredictor_depthwise/mul_fold (2.30k/2.30k flops)\n",
      "  BoxPredictor_3/ClassPredictor_depthwise/mul_fold (2.30k/2.30k flops)\n",
      "  BoxPredictor_4/BoxEncodingPredictor_depthwise/mul_fold (2.30k/2.30k flops)\n",
      "  FeatureExtractor/MobileDetEdgeTPU/C5_2_Conv2d_2_3x3_s2_512_depthwise/mul_fold (2.30k/2.30k flops)\n",
      "  BoxPredictor_4/ClassPredictor_depthwise/mul_fold (2.30k/2.30k flops)\n",
      "  FeatureExtractor/MobileDetEdgeTPU/FusedConv/Conv_1/mul_fold (2.05k/2.05k flops)\n",
      "  FeatureExtractor/MobileDetEdgeTPU/FusedConv_2/Conv_1/mul_fold (2.05k/2.05k flops)\n",
      "  Postprocessor/BatchMultiClassNonMaxSuppression/map/while/MultiClassNonMaxSuppression/ChangeCoordinateFrame/sub_2 (1.60k/1.60k flops)\n",
      "  MultipleGridAnchorGenerator/sub_1 (1.20k/1.20k flops)\n",
      "  MultipleGridAnchorGenerator/mul_21 (1.20k/1.20k flops)\n",
      "  MultipleGridAnchorGenerator/mul_27 (1.20k/1.20k flops)\n",
      "  MultipleGridAnchorGenerator/mul_28 (1.20k/1.20k flops)\n",
      "  FeatureExtractor/MobileDetEdgeTPU/C5_2_Conv2d_4_3x3_s2_256_depthwise/mul_fold (1.15k/1.15k flops)\n",
      "  FeatureExtractor/MobileDetEdgeTPU/C5_2_Conv2d_3_3x3_s2_256_depthwise/mul_fold (1.15k/1.15k flops)\n",
      "  BoxPredictor_5/ClassPredictor_depthwise/mul_fold (1.15k/1.15k flops)\n",
      "  BoxPredictor_5/BoxEncodingPredictor_depthwise/mul_fold (1.15k/1.15k flops)\n",
      "  FeatureExtractor/MobileDetEdgeTPU/TuckerConv/Conv_1/mul_fold (1.15k/1.15k flops)\n",
      "  FeatureExtractor/MobileDetEdgeTPU/FusedConv_1/Conv_1/mul_fold (1.02k/1.02k flops)\n",
      "  FeatureExtractor/MobileDetEdgeTPU/FusedConv_3/Conv_1/mul_fold (1.02k/1.02k flops)\n",
      "  BoxPredictor_0/BoxEncodingPredictor_depthwise/mul_fold (864/864 flops)\n",
      "  FeatureExtractor/MobileDetEdgeTPU/Conv/mul_fold (864/864 flops)\n",
      "  BoxPredictor_0/ClassPredictor_depthwise/mul_fold (864/864 flops)\n",
      "  MultipleGridAnchorGenerator/mul_29 (600/600 flops)\n",
      "  FeatureExtractor/MobileDetEdgeTPU/C5_2_Conv2d_5_3x3_s2_128_depthwise/mul_fold (576/576 flops)\n",
      "  Postprocessor/BatchMultiClassNonMaxSuppression/map/while/MultiClassNonMaxSuppression/Area/sub_1 (400/400 flops)\n",
      "  Postprocessor/BatchMultiClassNonMaxSuppression/map/while/MultiClassNonMaxSuppression/Area/sub (400/400 flops)\n",
      "  Postprocessor/BatchMultiClassNonMaxSuppression/map/while/MultiClassNonMaxSuppression/Area/mul (400/400 flops)\n",
      "  Postprocessor/BatchMultiClassNonMaxSuppression/map/while/MultiClassNonMaxSuppression/ChangeCoordinateFrame/Scale/mul_1 (400/400 flops)\n",
      "  Postprocessor/BatchMultiClassNonMaxSuppression/map/while/MultiClassNonMaxSuppression/ChangeCoordinateFrame/Scale/mul_2 (400/400 flops)\n",
      "  Postprocessor/BatchMultiClassNonMaxSuppression/map/while/MultiClassNonMaxSuppression/ChangeCoordinateFrame/Scale/mul_3 (400/400 flops)\n",
      "  Postprocessor/BatchMultiClassNonMaxSuppression/map/while/MultiClassNonMaxSuppression/ChangeCoordinateFrame/Scale/mul (400/400 flops)\n",
      "  Postprocessor/BatchMultiClassNonMaxSuppression/map/while/MultiClassNonMaxSuppression/ClipToWindow/Maximum (400/400 flops)\n",
      "  Postprocessor/BatchMultiClassNonMaxSuppression/map/while/MultiClassNonMaxSuppression/ClipToWindow/Maximum_1 (400/400 flops)\n",
      "  Postprocessor/BatchMultiClassNonMaxSuppression/map/while/MultiClassNonMaxSuppression/ClipToWindow/Maximum_2 (400/400 flops)\n",
      "  Postprocessor/BatchMultiClassNonMaxSuppression/map/while/MultiClassNonMaxSuppression/ClipToWindow/Maximum_3 (400/400 flops)\n",
      "  Postprocessor/BatchMultiClassNonMaxSuppression/map/while/MultiClassNonMaxSuppression/ClipToWindow/Minimum (400/400 flops)\n",
      "  Postprocessor/BatchMultiClassNonMaxSuppression/map/while/MultiClassNonMaxSuppression/ClipToWindow/Minimum_1 (400/400 flops)\n",
      "  Postprocessor/BatchMultiClassNonMaxSuppression/map/while/MultiClassNonMaxSuppression/ClipToWindow/Minimum_2 (400/400 flops)\n",
      "  Postprocessor/BatchMultiClassNonMaxSuppression/map/while/MultiClassNonMaxSuppression/ClipToWindow/Minimum_3 (400/400 flops)\n",
      "  Postprocessor/BatchMultiClassNonMaxSuppression/map/while/MultiClassNonMaxSuppression/GreaterEqual (400/400 flops)\n",
      "  Postprocessor/BatchMultiClassNonMaxSuppression/map/while/MultiClassNonMaxSuppression/mul_4 (400/400 flops)\n",
      "  Postprocessor/BatchMultiClassNonMaxSuppression/map/while/MultiClassNonMaxSuppression/Sum (399/399 flops)\n",
      "  MultipleGridAnchorGenerator/sub_2 (300/300 flops)\n",
      "  MultipleGridAnchorGenerator/mul_36 (300/300 flops)\n",
      "  MultipleGridAnchorGenerator/mul_35 (300/300 flops)\n",
      "  FeatureExtractor/MobileDetEdgeTPU/TuckerConv/Conv_2/mul_fold (256/256 flops)\n",
      "  FeatureExtractor/MobileDetEdgeTPU/TuckerConv/Conv/mul_fold (256/256 flops)\n",
      "  MultipleGridAnchorGenerator/mul_37 (150/150 flops)\n",
      "  MultipleGridAnchorGenerator/sub_3 (108/108 flops)\n",
      "  MultipleGridAnchorGenerator/mul_44 (108/108 flops)\n",
      "  MultipleGridAnchorGenerator/mul_43 (108/108 flops)\n",
      "  Postprocessor/BatchMultiClassNonMaxSuppression/map/while/MultiClassNonMaxSuppression/Less (100/100 flops)\n",
      "  Postprocessor/BatchMultiClassNonMaxSuppression/map/while/MultiClassNonMaxSuppression/Less_1 (100/100 flops)\n",
      "  Postprocessor/BatchMultiClassNonMaxSuppression/map/while/MultiClassNonMaxSuppression/Less_2 (100/100 flops)\n",
      "  Postprocessor/BatchMultiClassNonMaxSuppression/map/while/MultiClassNonMaxSuppression/Less_3 (100/100 flops)\n",
      "  Postprocessor/BatchMultiClassNonMaxSuppression/map/while/MultiClassNonMaxSuppression/mul (100/100 flops)\n",
      "  Postprocessor/BatchMultiClassNonMaxSuppression/map/while/MultiClassNonMaxSuppression/mul_1 (100/100 flops)\n",
      "  Postprocessor/BatchMultiClassNonMaxSuppression/map/while/MultiClassNonMaxSuppression/mul_2 (100/100 flops)\n",
      "  Postprocessor/BatchMultiClassNonMaxSuppression/map/while/MultiClassNonMaxSuppression/mul_3 (100/100 flops)\n",
      "  MultipleGridAnchorGenerator/mul_45 (54/54 flops)\n",
      "  MultipleGridAnchorGenerator/mul_51 (48/48 flops)\n",
      "  MultipleGridAnchorGenerator/sub_4 (48/48 flops)\n",
      "  MultipleGridAnchorGenerator/mul_52 (48/48 flops)\n",
      "  MultipleGridAnchorGenerator/mul_53 (24/24 flops)\n",
      "  MultipleGridAnchorGenerator/mul_18 (20/20 flops)\n",
      "  MultipleGridAnchorGenerator/mul_17 (20/20 flops)\n",
      "  MultipleGridAnchorGenerator/sub_5 (12/12 flops)\n",
      "  MultipleGridAnchorGenerator/mul_59 (12/12 flops)\n",
      "  MultipleGridAnchorGenerator/mul_60 (12/12 flops)\n",
      "  MultipleGridAnchorGenerator/mul_25 (10/10 flops)\n",
      "  MultipleGridAnchorGenerator/mul_26 (10/10 flops)\n",
      "  MultipleGridAnchorGenerator/mul_30 (6/6 flops)\n",
      "  MultipleGridAnchorGenerator/truediv_18 (6/6 flops)\n",
      "  MultipleGridAnchorGenerator/mul_54 (6/6 flops)\n",
      "  MultipleGridAnchorGenerator/mul_55 (6/6 flops)\n",
      "  MultipleGridAnchorGenerator/mul_56 (6/6 flops)\n",
      "  MultipleGridAnchorGenerator/truediv_19 (6/6 flops)\n",
      "  MultipleGridAnchorGenerator/mul_47 (6/6 flops)\n",
      "  MultipleGridAnchorGenerator/mul_61 (6/6 flops)\n",
      "  MultipleGridAnchorGenerator/truediv_15 (6/6 flops)\n",
      "  MultipleGridAnchorGenerator/truediv_16 (6/6 flops)\n",
      "  MultipleGridAnchorGenerator/truediv_17 (6/6 flops)\n",
      "  MultipleGridAnchorGenerator/mul_48 (6/6 flops)\n",
      "  MultipleGridAnchorGenerator/mul_31 (6/6 flops)\n",
      "  MultipleGridAnchorGenerator/mul_32 (6/6 flops)\n",
      "  MultipleGridAnchorGenerator/mul_24 (6/6 flops)\n",
      "  MultipleGridAnchorGenerator/mul_38 (6/6 flops)\n",
      "  MultipleGridAnchorGenerator/mul_39 (6/6 flops)\n",
      "  MultipleGridAnchorGenerator/mul_40 (6/6 flops)\n",
      "  MultipleGridAnchorGenerator/mul_23 (6/6 flops)\n",
      "  MultipleGridAnchorGenerator/mul_22 (6/6 flops)\n",
      "  MultipleGridAnchorGenerator/mul_46 (6/6 flops)\n",
      "  MultipleGridAnchorGenerator/mul_33 (5/5 flops)\n",
      "  MultipleGridAnchorGenerator/mul_34 (5/5 flops)\n",
      "  MultipleGridAnchorGenerator/truediv_14 (3/3 flops)\n",
      "  MultipleGridAnchorGenerator/mul_41 (3/3 flops)\n",
      "  MultipleGridAnchorGenerator/mul_42 (3/3 flops)\n",
      "  MultipleGridAnchorGenerator/mul_15 (3/3 flops)\n",
      "  MultipleGridAnchorGenerator/mul_16 (3/3 flops)\n",
      "  MultipleGridAnchorGenerator/mul_14 (3/3 flops)\n",
      "  MultipleGridAnchorGenerator/mul_50 (2/2 flops)\n",
      "  MultipleGridAnchorGenerator/mul_49 (2/2 flops)\n",
      "  MultipleGridAnchorGenerator/truediv_6 (1/1 flops)\n",
      "  MultipleGridAnchorGenerator/truediv_7 (1/1 flops)\n",
      "  MultipleGridAnchorGenerator/truediv_8 (1/1 flops)\n",
      "  MultipleGridAnchorGenerator/truediv_9 (1/1 flops)\n",
      "  Postprocessor/BatchMultiClassNonMaxSuppression/map/while/Less (1/1 flops)\n",
      "  Postprocessor/BatchMultiClassNonMaxSuppression/map/while/Less_1 (1/1 flops)\n",
      "  MultipleGridAnchorGenerator/mul_11 (1/1 flops)\n",
      "  MultipleGridAnchorGenerator/mul_10 (1/1 flops)\n",
      "  MultipleGridAnchorGenerator/mul_1 (1/1 flops)\n",
      "  MultipleGridAnchorGenerator/mul (1/1 flops)\n",
      "  MultipleGridAnchorGenerator/Minimum (1/1 flops)\n",
      "  MultipleGridAnchorGenerator/mul_3 (1/1 flops)\n",
      "  MultipleGridAnchorGenerator/mul_57 (1/1 flops)\n",
      "  Postprocessor/BatchMultiClassNonMaxSuppression/map/while/MultiClassNonMaxSuppression/ChangeCoordinateFrame/sub (1/1 flops)\n",
      "  Postprocessor/BatchMultiClassNonMaxSuppression/map/while/MultiClassNonMaxSuppression/ChangeCoordinateFrame/sub_1 (1/1 flops)\n",
      "  MultipleGridAnchorGenerator/mul_58 (1/1 flops)\n",
      "  Postprocessor/BatchMultiClassNonMaxSuppression/map/while/MultiClassNonMaxSuppression/ChangeCoordinateFrame/truediv (1/1 flops)\n",
      "  Postprocessor/BatchMultiClassNonMaxSuppression/map/while/MultiClassNonMaxSuppression/ChangeCoordinateFrame/truediv_1 (1/1 flops)\n",
      "  MultipleGridAnchorGenerator/mul_6 (1/1 flops)\n",
      "  MultipleGridAnchorGenerator/mul_7 (1/1 flops)\n",
      "  MultipleGridAnchorGenerator/mul_8 (1/1 flops)\n",
      "  MultipleGridAnchorGenerator/mul_9 (1/1 flops)\n",
      "  MultipleGridAnchorGenerator/mul_13 (1/1 flops)\n",
      "  MultipleGridAnchorGenerator/mul_12 (1/1 flops)\n",
      "  MultipleGridAnchorGenerator/truediv (1/1 flops)\n",
      "  MultipleGridAnchorGenerator/mul_4 (1/1 flops)\n",
      "  Postprocessor/BatchMultiClassNonMaxSuppression/map/while/MultiClassNonMaxSuppression/Greater (1/1 flops)\n",
      "  MultipleGridAnchorGenerator/truediv_1 (1/1 flops)\n",
      "  MultipleGridAnchorGenerator/truediv_10 (1/1 flops)\n",
      "  MultipleGridAnchorGenerator/truediv_11 (1/1 flops)\n",
      "  MultipleGridAnchorGenerator/truediv_12 (1/1 flops)\n",
      "  MultipleGridAnchorGenerator/truediv_13 (1/1 flops)\n",
      "  Postprocessor/BatchMultiClassNonMaxSuppression/map/while/MultiClassNonMaxSuppression/Minimum (1/1 flops)\n",
      "  Postprocessor/BatchMultiClassNonMaxSuppression/map/while/MultiClassNonMaxSuppression/SortByField/Equal (1/1 flops)\n",
      "  Postprocessor/BatchMultiClassNonMaxSuppression/map/while/MultiClassNonMaxSuppression/SortByField_1/Equal (1/1 flops)\n",
      "  MultipleGridAnchorGenerator/mul_2 (1/1 flops)\n",
      "  MultipleGridAnchorGenerator/truediv_2 (1/1 flops)\n",
      "  MultipleGridAnchorGenerator/truediv_3 (1/1 flops)\n",
      "  MultipleGridAnchorGenerator/truediv_4 (1/1 flops)\n",
      "  MultipleGridAnchorGenerator/truediv_5 (1/1 flops)\n",
      "  MultipleGridAnchorGenerator/mul_5 (1/1 flops)\n",
      "  Postprocessor/BatchMultiClassNonMaxSuppression/ones/Less (1/1 flops)\n",
      "  Preprocessor/map/while/Less (1/1 flops)\n",
      "  Preprocessor/map/while/Less_1 (1/1 flops)\n",
      "\n",
      "======================End of Report==========================\n"
     ]
    },
    {
     "name": "stderr",
     "output_type": "stream",
     "text": [
      "INFO:tensorflow:Skipping quant after FeatureExtractor/MobileDetEdgeTPU/FusedConv_5/Conv/add_fold\n",
      "I0324 22:41:31.184643   508 quantize.py:299] Skipping quant after FeatureExtractor/MobileDetEdgeTPU/FusedConv_5/Conv/add_fold\n",
      "INFO:tensorflow:Skipping quant after FeatureExtractor/MobileDetEdgeTPU/FusedConv_6/Conv/add_fold\n",
      "I0324 22:41:31.184643   508 quantize.py:299] Skipping quant after FeatureExtractor/MobileDetEdgeTPU/FusedConv_6/Conv/add_fold\n",
      "INFO:tensorflow:Skipping quant after FeatureExtractor/MobileDetEdgeTPU/FusedConv_7/Conv/add_fold\n",
      "I0324 22:41:31.184643   508 quantize.py:299] Skipping quant after FeatureExtractor/MobileDetEdgeTPU/FusedConv_7/Conv/add_fold\n",
      "INFO:tensorflow:Skipping quant after FeatureExtractor/MobileDetEdgeTPU/IBN/Conv/add_fold\n",
      "I0324 22:41:31.184643   508 quantize.py:299] Skipping quant after FeatureExtractor/MobileDetEdgeTPU/IBN/Conv/add_fold\n",
      "INFO:tensorflow:Skipping quant after FeatureExtractor/MobileDetEdgeTPU/IBN/SeparableConv2d/add_fold\n",
      "I0324 22:41:31.184643   508 quantize.py:299] Skipping quant after FeatureExtractor/MobileDetEdgeTPU/IBN/SeparableConv2d/add_fold\n",
      "INFO:tensorflow:Skipping quant after FeatureExtractor/MobileDetEdgeTPU/IBN_1/Conv/add_fold\n",
      "I0324 22:41:31.184643   508 quantize.py:299] Skipping quant after FeatureExtractor/MobileDetEdgeTPU/IBN_1/Conv/add_fold\n",
      "INFO:tensorflow:Skipping quant after FeatureExtractor/MobileDetEdgeTPU/IBN_1/SeparableConv2d/add_fold\n",
      "I0324 22:41:31.184643   508 quantize.py:299] Skipping quant after FeatureExtractor/MobileDetEdgeTPU/IBN_1/SeparableConv2d/add_fold\n",
      "INFO:tensorflow:Skipping quant after FeatureExtractor/MobileDetEdgeTPU/FusedConv_8/Conv/add_fold\n",
      "I0324 22:41:31.184643   508 quantize.py:299] Skipping quant after FeatureExtractor/MobileDetEdgeTPU/FusedConv_8/Conv/add_fold\n",
      "INFO:tensorflow:Skipping quant after FeatureExtractor/MobileDetEdgeTPU/FusedConv_9/Conv/add_fold\n",
      "I0324 22:41:31.184643   508 quantize.py:299] Skipping quant after FeatureExtractor/MobileDetEdgeTPU/FusedConv_9/Conv/add_fold\n",
      "INFO:tensorflow:Skipping quant after FeatureExtractor/MobileDetEdgeTPU/IBN_2/Conv/add_fold\n",
      "I0324 22:41:31.184643   508 quantize.py:299] Skipping quant after FeatureExtractor/MobileDetEdgeTPU/IBN_2/Conv/add_fold\n",
      "INFO:tensorflow:Skipping quant after FeatureExtractor/MobileDetEdgeTPU/IBN_2/SeparableConv2d/add_fold\n",
      "I0324 22:41:31.184643   508 quantize.py:299] Skipping quant after FeatureExtractor/MobileDetEdgeTPU/IBN_2/SeparableConv2d/add_fold\n",
      "INFO:tensorflow:Skipping quant after FeatureExtractor/MobileDetEdgeTPU/IBN_3/Conv/add_fold\n",
      "I0324 22:41:31.184643   508 quantize.py:299] Skipping quant after FeatureExtractor/MobileDetEdgeTPU/IBN_3/Conv/add_fold\n",
      "INFO:tensorflow:Skipping quant after FeatureExtractor/MobileDetEdgeTPU/IBN_3/SeparableConv2d/add_fold\n",
      "I0324 22:41:31.184643   508 quantize.py:299] Skipping quant after FeatureExtractor/MobileDetEdgeTPU/IBN_3/SeparableConv2d/add_fold\n",
      "INFO:tensorflow:Skipping quant after FeatureExtractor/MobileDetEdgeTPU/IBN_4/Conv/add_fold\n",
      "I0324 22:41:31.184643   508 quantize.py:299] Skipping quant after FeatureExtractor/MobileDetEdgeTPU/IBN_4/Conv/add_fold\n",
      "INFO:tensorflow:Skipping quant after FeatureExtractor/MobileDetEdgeTPU/IBN_4/SeparableConv2d/add_fold\n",
      "I0324 22:41:31.184643   508 quantize.py:299] Skipping quant after FeatureExtractor/MobileDetEdgeTPU/IBN_4/SeparableConv2d/add_fold\n",
      "INFO:tensorflow:Skipping quant after FeatureExtractor/MobileDetEdgeTPU/IBN_5/Conv/add_fold\n",
      "I0324 22:41:31.184643   508 quantize.py:299] Skipping quant after FeatureExtractor/MobileDetEdgeTPU/IBN_5/Conv/add_fold\n",
      "INFO:tensorflow:Skipping quant after FeatureExtractor/MobileDetEdgeTPU/IBN_5/SeparableConv2d/add_fold\n",
      "I0324 22:41:31.184643   508 quantize.py:299] Skipping quant after FeatureExtractor/MobileDetEdgeTPU/IBN_5/SeparableConv2d/add_fold\n",
      "INFO:tensorflow:Skipping quant after FeatureExtractor/MobileDetEdgeTPU/IBN_6/Conv/add_fold\n",
      "I0324 22:41:31.184643   508 quantize.py:299] Skipping quant after FeatureExtractor/MobileDetEdgeTPU/IBN_6/Conv/add_fold\n",
      "INFO:tensorflow:Skipping quant after FeatureExtractor/MobileDetEdgeTPU/IBN_6/SeparableConv2d/add_fold\n",
      "I0324 22:41:31.184643   508 quantize.py:299] Skipping quant after FeatureExtractor/MobileDetEdgeTPU/IBN_6/SeparableConv2d/add_fold\n",
      "INFO:tensorflow:Skipping quant after FeatureExtractor/MobileDetEdgeTPU/IBN_7/Conv/add_fold\n",
      "I0324 22:41:31.184643   508 quantize.py:299] Skipping quant after FeatureExtractor/MobileDetEdgeTPU/IBN_7/Conv/add_fold\n",
      "INFO:tensorflow:Skipping quant after FeatureExtractor/MobileDetEdgeTPU/IBN_7/SeparableConv2d/add_fold\n",
      "I0324 22:41:31.184643   508 quantize.py:299] Skipping quant after FeatureExtractor/MobileDetEdgeTPU/IBN_7/SeparableConv2d/add_fold\n",
      "INFO:tensorflow:Skipping quant after FeatureExtractor/MobileDetEdgeTPU/IBN_8/Conv/add_fold\n",
      "I0324 22:41:31.184643   508 quantize.py:299] Skipping quant after FeatureExtractor/MobileDetEdgeTPU/IBN_8/Conv/add_fold\n",
      "INFO:tensorflow:Skipping quant after FeatureExtractor/MobileDetEdgeTPU/IBN_8/SeparableConv2d/add_fold\n",
      "I0324 22:41:31.184643   508 quantize.py:299] Skipping quant after FeatureExtractor/MobileDetEdgeTPU/IBN_8/SeparableConv2d/add_fold\n",
      "INFO:tensorflow:Skipping quant after FeatureExtractor/MobileDetEdgeTPU/IBN_9/Conv/add_fold\n",
      "I0324 22:41:31.184643   508 quantize.py:299] Skipping quant after FeatureExtractor/MobileDetEdgeTPU/IBN_9/Conv/add_fold\n",
      "INFO:tensorflow:Skipping quant after FeatureExtractor/MobileDetEdgeTPU/IBN_9/SeparableConv2d/add_fold\n",
      "I0324 22:41:31.184643   508 quantize.py:299] Skipping quant after FeatureExtractor/MobileDetEdgeTPU/IBN_9/SeparableConv2d/add_fold\n",
      "INFO:tensorflow:Skipping quant after FeatureExtractor/MobileDetEdgeTPU/IBN_10/Conv/add_fold\n",
      "I0324 22:41:31.184643   508 quantize.py:299] Skipping quant after FeatureExtractor/MobileDetEdgeTPU/IBN_10/Conv/add_fold\n",
      "INFO:tensorflow:Skipping quant after FeatureExtractor/MobileDetEdgeTPU/IBN_10/SeparableConv2d/add_fold\n",
      "I0324 22:41:31.184643   508 quantize.py:299] Skipping quant after FeatureExtractor/MobileDetEdgeTPU/IBN_10/SeparableConv2d/add_fold\n",
      "INFO:tensorflow:Skipping quant after FeatureExtractor/MobileDetEdgeTPU/C5_1_Conv2d_2_1x1_256/add_fold\n",
      "I0324 22:41:31.184643   508 quantize.py:299] Skipping quant after FeatureExtractor/MobileDetEdgeTPU/C5_1_Conv2d_2_1x1_256/add_fold\n",
      "INFO:tensorflow:Skipping quant after FeatureExtractor/MobileDetEdgeTPU/C5_2_Conv2d_2_3x3_s2_512_depthwise/add_fold\n",
      "I0324 22:41:31.184643   508 quantize.py:299] Skipping quant after FeatureExtractor/MobileDetEdgeTPU/C5_2_Conv2d_2_3x3_s2_512_depthwise/add_fold\n",
      "INFO:tensorflow:Skipping quant after FeatureExtractor/MobileDetEdgeTPU/C5_2_Conv2d_2_3x3_s2_512/add_fold\n",
      "I0324 22:41:31.184643   508 quantize.py:299] Skipping quant after FeatureExtractor/MobileDetEdgeTPU/C5_2_Conv2d_2_3x3_s2_512/add_fold\n",
      "INFO:tensorflow:Skipping quant after FeatureExtractor/MobileDetEdgeTPU/C5_1_Conv2d_3_1x1_128/add_fold\n",
      "I0324 22:41:31.200264   508 quantize.py:299] Skipping quant after FeatureExtractor/MobileDetEdgeTPU/C5_1_Conv2d_3_1x1_128/add_fold\n",
      "INFO:tensorflow:Skipping quant after FeatureExtractor/MobileDetEdgeTPU/C5_2_Conv2d_3_3x3_s2_256_depthwise/add_fold\n",
      "I0324 22:41:31.200264   508 quantize.py:299] Skipping quant after FeatureExtractor/MobileDetEdgeTPU/C5_2_Conv2d_3_3x3_s2_256_depthwise/add_fold\n",
      "INFO:tensorflow:Skipping quant after FeatureExtractor/MobileDetEdgeTPU/C5_2_Conv2d_3_3x3_s2_256/add_fold\n",
      "I0324 22:41:31.200264   508 quantize.py:299] Skipping quant after FeatureExtractor/MobileDetEdgeTPU/C5_2_Conv2d_3_3x3_s2_256/add_fold\n",
      "INFO:tensorflow:Skipping quant after FeatureExtractor/MobileDetEdgeTPU/C5_1_Conv2d_4_1x1_128/add_fold\n",
      "I0324 22:41:31.200264   508 quantize.py:299] Skipping quant after FeatureExtractor/MobileDetEdgeTPU/C5_1_Conv2d_4_1x1_128/add_fold\n",
      "INFO:tensorflow:Skipping quant after FeatureExtractor/MobileDetEdgeTPU/C5_2_Conv2d_4_3x3_s2_256_depthwise/add_fold\n",
      "I0324 22:41:31.200264   508 quantize.py:299] Skipping quant after FeatureExtractor/MobileDetEdgeTPU/C5_2_Conv2d_4_3x3_s2_256_depthwise/add_fold\n",
      "INFO:tensorflow:Skipping quant after FeatureExtractor/MobileDetEdgeTPU/C5_2_Conv2d_4_3x3_s2_256/add_fold\n",
      "I0324 22:41:31.200264   508 quantize.py:299] Skipping quant after FeatureExtractor/MobileDetEdgeTPU/C5_2_Conv2d_4_3x3_s2_256/add_fold\n",
      "INFO:tensorflow:Skipping quant after FeatureExtractor/MobileDetEdgeTPU/C5_1_Conv2d_5_1x1_64/add_fold\n",
      "I0324 22:41:31.200264   508 quantize.py:299] Skipping quant after FeatureExtractor/MobileDetEdgeTPU/C5_1_Conv2d_5_1x1_64/add_fold\n",
      "INFO:tensorflow:Skipping quant after FeatureExtractor/MobileDetEdgeTPU/C5_2_Conv2d_5_3x3_s2_128_depthwise/add_fold\n",
      "I0324 22:41:31.200264   508 quantize.py:299] Skipping quant after FeatureExtractor/MobileDetEdgeTPU/C5_2_Conv2d_5_3x3_s2_128_depthwise/add_fold\n",
      "INFO:tensorflow:Skipping quant after FeatureExtractor/MobileDetEdgeTPU/C5_2_Conv2d_5_3x3_s2_128/add_fold\n",
      "I0324 22:41:31.200264   508 quantize.py:299] Skipping quant after FeatureExtractor/MobileDetEdgeTPU/C5_2_Conv2d_5_3x3_s2_128/add_fold\n",
      "INFO:tensorflow:Skipping quant after BoxPredictor_0/BoxEncodingPredictor_depthwise/add_fold\n",
      "I0324 22:41:31.200264   508 quantize.py:299] Skipping quant after BoxPredictor_0/BoxEncodingPredictor_depthwise/add_fold\n",
      "INFO:tensorflow:Skipping quant after BoxPredictor_0/ClassPredictor_depthwise/add_fold\n",
      "I0324 22:41:31.200264   508 quantize.py:299] Skipping quant after BoxPredictor_0/ClassPredictor_depthwise/add_fold\n",
      "INFO:tensorflow:Skipping quant after BoxPredictor_1/BoxEncodingPredictor_depthwise/add_fold\n",
      "I0324 22:41:31.200264   508 quantize.py:299] Skipping quant after BoxPredictor_1/BoxEncodingPredictor_depthwise/add_fold\n",
      "INFO:tensorflow:Skipping quant after BoxPredictor_1/ClassPredictor_depthwise/add_fold\n",
      "I0324 22:41:31.200264   508 quantize.py:299] Skipping quant after BoxPredictor_1/ClassPredictor_depthwise/add_fold\n",
      "INFO:tensorflow:Skipping quant after BoxPredictor_2/BoxEncodingPredictor_depthwise/add_fold\n",
      "I0324 22:41:31.200264   508 quantize.py:299] Skipping quant after BoxPredictor_2/BoxEncodingPredictor_depthwise/add_fold\n",
      "INFO:tensorflow:Skipping quant after BoxPredictor_2/ClassPredictor_depthwise/add_fold\n",
      "I0324 22:41:31.200264   508 quantize.py:299] Skipping quant after BoxPredictor_2/ClassPredictor_depthwise/add_fold\n",
      "INFO:tensorflow:Skipping quant after BoxPredictor_3/BoxEncodingPredictor_depthwise/add_fold\n",
      "I0324 22:41:31.200264   508 quantize.py:299] Skipping quant after BoxPredictor_3/BoxEncodingPredictor_depthwise/add_fold\n",
      "INFO:tensorflow:Skipping quant after BoxPredictor_3/ClassPredictor_depthwise/add_fold\n",
      "I0324 22:41:31.200264   508 quantize.py:299] Skipping quant after BoxPredictor_3/ClassPredictor_depthwise/add_fold\n",
      "INFO:tensorflow:Skipping quant after BoxPredictor_4/BoxEncodingPredictor_depthwise/add_fold\n",
      "I0324 22:41:31.200264   508 quantize.py:299] Skipping quant after BoxPredictor_4/BoxEncodingPredictor_depthwise/add_fold\n",
      "INFO:tensorflow:Skipping quant after BoxPredictor_4/ClassPredictor_depthwise/add_fold\n",
      "I0324 22:41:31.200264   508 quantize.py:299] Skipping quant after BoxPredictor_4/ClassPredictor_depthwise/add_fold\n",
      "INFO:tensorflow:Skipping quant after BoxPredictor_5/BoxEncodingPredictor_depthwise/add_fold\n",
      "I0324 22:41:31.200264   508 quantize.py:299] Skipping quant after BoxPredictor_5/BoxEncodingPredictor_depthwise/add_fold\n",
      "INFO:tensorflow:Skipping quant after BoxPredictor_5/ClassPredictor_depthwise/add_fold\n",
      "I0324 22:41:31.200264   508 quantize.py:299] Skipping quant after BoxPredictor_5/ClassPredictor_depthwise/add_fold\n",
      "WARNING:tensorflow:From D:\\antrenare_cuant\\TFODCourse\\cuant\\lib\\site-packages\\object_detection-0.1-py3.7.egg\\object_detection\\exporter.py:653: print_model_analysis (from tensorflow.contrib.tfprof.model_analyzer) is deprecated and will be removed after 2018-01-01.\n",
      "Instructions for updating:\n",
      "Use `tf.profiler.profile(graph, run_meta, op_log, cmd, options)`. Build `options` with `tf.profiler.ProfileOptionBuilder`. See README.md for details\n",
      "W0324 22:41:31.200264   508 deprecation.py:323] From D:\\antrenare_cuant\\TFODCourse\\cuant\\lib\\site-packages\\object_detection-0.1-py3.7.egg\\object_detection\\exporter.py:653: print_model_analysis (from tensorflow.contrib.tfprof.model_analyzer) is deprecated and will be removed after 2018-01-01.\n",
      "Instructions for updating:\n",
      "Use `tf.profiler.profile(graph, run_meta, op_log, cmd, options)`. Build `options` with `tf.profiler.ProfileOptionBuilder`. See README.md for details\n",
      "WARNING:tensorflow:From D:\\antrenare_cuant\\TFODCourse\\cuant\\lib\\site-packages\\tensorflow_core\\python\\profiler\\internal\\flops_registry.py:142: tensor_shape_from_node_def_name (from tensorflow.python.framework.graph_util_impl) is deprecated and will be removed in a future version.\n",
      "Instructions for updating:\n",
      "Use `tf.compat.v1.graph_util.tensor_shape_from_node_def_name`\n",
      "W0324 22:41:31.200264   508 deprecation.py:323] From D:\\antrenare_cuant\\TFODCourse\\cuant\\lib\\site-packages\\tensorflow_core\\python\\profiler\\internal\\flops_registry.py:142: tensor_shape_from_node_def_name (from tensorflow.python.framework.graph_util_impl) is deprecated and will be removed in a future version.\n",
      "Instructions for updating:\n",
      "Use `tf.compat.v1.graph_util.tensor_shape_from_node_def_name`\n",
      "Incomplete shape.\n",
      "Incomplete shape.\n",
      "Incomplete shape.\n",
      "Incomplete shape.\n",
      "2022-03-24 22:41:34.958761: I tensorflow/stream_executor/platform/default/dso_loader.cc:44] Successfully opened dynamic library nvcuda.dll\n",
      "2022-03-24 22:41:35.272551: I tensorflow/core/common_runtime/gpu/gpu_device.cc:1618] Found device 0 with properties: \n",
      "name: GeForce GTX 1050 major: 6 minor: 1 memoryClockRate(GHz): 1.493\n",
      "pciBusID: 0000:01:00.0\n",
      "2022-03-24 22:41:35.272578: I tensorflow/stream_executor/platform/default/dso_loader.cc:44] Successfully opened dynamic library cudart64_100.dll\n",
      "2022-03-24 22:41:35.276719: I tensorflow/stream_executor/platform/default/dso_loader.cc:44] Successfully opened dynamic library cublas64_100.dll\n",
      "2022-03-24 22:41:35.279518: I tensorflow/stream_executor/platform/default/dso_loader.cc:44] Successfully opened dynamic library cufft64_100.dll\n",
      "2022-03-24 22:41:35.280557: I tensorflow/stream_executor/platform/default/dso_loader.cc:44] Successfully opened dynamic library curand64_100.dll\n",
      "2022-03-24 22:41:35.284429: I tensorflow/stream_executor/platform/default/dso_loader.cc:44] Successfully opened dynamic library cusolver64_100.dll\n",
      "2022-03-24 22:41:35.287077: I tensorflow/stream_executor/platform/default/dso_loader.cc:44] Successfully opened dynamic library cusparse64_100.dll\n",
      "2022-03-24 22:41:35.299041: I tensorflow/stream_executor/platform/default/dso_loader.cc:44] Successfully opened dynamic library cudnn64_7.dll\n",
      "2022-03-24 22:41:35.299124: I tensorflow/core/common_runtime/gpu/gpu_device.cc:1746] Adding visible gpu devices: 0\n",
      "2022-03-24 22:41:35.299338: I tensorflow/core/platform/cpu_feature_guard.cc:142] Your CPU supports instructions that this TensorFlow binary was not compiled to use: AVX2\n",
      "2022-03-24 22:41:35.301892: I tensorflow/core/common_runtime/gpu/gpu_device.cc:1618] Found device 0 with properties: \n",
      "name: GeForce GTX 1050 major: 6 minor: 1 memoryClockRate(GHz): 1.493\n",
      "pciBusID: 0000:01:00.0\n",
      "2022-03-24 22:41:35.301908: I tensorflow/stream_executor/platform/default/dso_loader.cc:44] Successfully opened dynamic library cudart64_100.dll\n",
      "2022-03-24 22:41:35.301915: I tensorflow/stream_executor/platform/default/dso_loader.cc:44] Successfully opened dynamic library cublas64_100.dll\n",
      "2022-03-24 22:41:35.301920: I tensorflow/stream_executor/platform/default/dso_loader.cc:44] Successfully opened dynamic library cufft64_100.dll\n",
      "2022-03-24 22:41:35.301925: I tensorflow/stream_executor/platform/default/dso_loader.cc:44] Successfully opened dynamic library curand64_100.dll\n",
      "2022-03-24 22:41:35.301931: I tensorflow/stream_executor/platform/default/dso_loader.cc:44] Successfully opened dynamic library cusolver64_100.dll\n",
      "2022-03-24 22:41:35.301936: I tensorflow/stream_executor/platform/default/dso_loader.cc:44] Successfully opened dynamic library cusparse64_100.dll\n",
      "2022-03-24 22:41:35.301941: I tensorflow/stream_executor/platform/default/dso_loader.cc:44] Successfully opened dynamic library cudnn64_7.dll\n",
      "2022-03-24 22:41:35.301981: I tensorflow/core/common_runtime/gpu/gpu_device.cc:1746] Adding visible gpu devices: 0\n",
      "2022-03-24 22:41:35.767988: I tensorflow/core/common_runtime/gpu/gpu_device.cc:1159] Device interconnect StreamExecutor with strength 1 edge matrix:\n",
      "2022-03-24 22:41:35.768005: I tensorflow/core/common_runtime/gpu/gpu_device.cc:1165]      0 \n",
      "2022-03-24 22:41:35.768010: I tensorflow/core/common_runtime/gpu/gpu_device.cc:1178] 0:   N \n",
      "2022-03-24 22:41:35.768156: I tensorflow/core/common_runtime/gpu/gpu_device.cc:1304] Created TensorFlow device (/job:localhost/replica:0/task:0/device:GPU:0 with 1343 MB memory) -> physical GPU (device: 0, name: GeForce GTX 1050, pci bus id: 0000:01:00.0, compute capability: 6.1)\n",
      "292 ops no flops stats due to incomplete shapes.\n",
      "292 ops no flops stats due to incomplete shapes.\n",
      "INFO:tensorflow:Restoring parameters from Tensorflow\\workspace\\models\\ssdlite_mobiledet_edgetpu_tuned2\\model.ckpt-20000\n",
      "I0324 22:41:35.773587   508 saver.py:1284] Restoring parameters from Tensorflow\\workspace\\models\\ssdlite_mobiledet_edgetpu_tuned2\\model.ckpt-20000\n",
      "WARNING:tensorflow:From D:\\antrenare_cuant\\TFODCourse\\cuant\\lib\\site-packages\\tensorflow_core\\python\\tools\\freeze_graph.py:127: checkpoint_exists (from tensorflow.python.training.checkpoint_management) is deprecated and will be removed in a future version.\n",
      "Instructions for updating:\n",
      "Use standard file APIs to check for files with this prefix.\n",
      "W0324 22:41:38.226132   508 deprecation.py:323] From D:\\antrenare_cuant\\TFODCourse\\cuant\\lib\\site-packages\\tensorflow_core\\python\\tools\\freeze_graph.py:127: checkpoint_exists (from tensorflow.python.training.checkpoint_management) is deprecated and will be removed in a future version.\n",
      "Instructions for updating:\n",
      "Use standard file APIs to check for files with this prefix.\n",
      "2022-03-24 22:41:39.113351: I tensorflow/core/common_runtime/gpu/gpu_device.cc:1618] Found device 0 with properties: \n",
      "name: GeForce GTX 1050 major: 6 minor: 1 memoryClockRate(GHz): 1.493\n",
      "pciBusID: 0000:01:00.0\n",
      "2022-03-24 22:41:39.113375: I tensorflow/stream_executor/platform/default/dso_loader.cc:44] Successfully opened dynamic library cudart64_100.dll\n",
      "2022-03-24 22:41:39.113383: I tensorflow/stream_executor/platform/default/dso_loader.cc:44] Successfully opened dynamic library cublas64_100.dll\n",
      "2022-03-24 22:41:39.113416: I tensorflow/stream_executor/platform/default/dso_loader.cc:44] Successfully opened dynamic library cufft64_100.dll\n",
      "2022-03-24 22:41:39.113422: I tensorflow/stream_executor/platform/default/dso_loader.cc:44] Successfully opened dynamic library curand64_100.dll\n",
      "2022-03-24 22:41:39.113442: I tensorflow/stream_executor/platform/default/dso_loader.cc:44] Successfully opened dynamic library cusolver64_100.dll\n",
      "2022-03-24 22:41:39.113468: I tensorflow/stream_executor/platform/default/dso_loader.cc:44] Successfully opened dynamic library cusparse64_100.dll\n",
      "2022-03-24 22:41:39.113474: I tensorflow/stream_executor/platform/default/dso_loader.cc:44] Successfully opened dynamic library cudnn64_7.dll\n",
      "2022-03-24 22:41:39.113557: I tensorflow/core/common_runtime/gpu/gpu_device.cc:1746] Adding visible gpu devices: 0\n",
      "2022-03-24 22:41:39.113599: I tensorflow/core/common_runtime/gpu/gpu_device.cc:1159] Device interconnect StreamExecutor with strength 1 edge matrix:\n",
      "2022-03-24 22:41:39.113631: I tensorflow/core/common_runtime/gpu/gpu_device.cc:1165]      0 \n",
      "2022-03-24 22:41:39.113635: I tensorflow/core/common_runtime/gpu/gpu_device.cc:1178] 0:   N \n",
      "2022-03-24 22:41:39.113737: I tensorflow/core/common_runtime/gpu/gpu_device.cc:1304] Created TensorFlow device (/job:localhost/replica:0/task:0/device:GPU:0 with 1343 MB memory) -> physical GPU (device: 0, name: GeForce GTX 1050, pci bus id: 0000:01:00.0, compute capability: 6.1)\n",
      "INFO:tensorflow:Restoring parameters from Tensorflow\\workspace\\models\\ssdlite_mobiledet_edgetpu_tuned2\\model.ckpt-20000\n",
      "I0324 22:41:39.115434   508 saver.py:1284] Restoring parameters from Tensorflow\\workspace\\models\\ssdlite_mobiledet_edgetpu_tuned2\\model.ckpt-20000\n",
      "WARNING:tensorflow:From D:\\antrenare_cuant\\TFODCourse\\cuant\\lib\\site-packages\\tensorflow_core\\python\\tools\\freeze_graph.py:233: convert_variables_to_constants (from tensorflow.python.framework.graph_util_impl) is deprecated and will be removed in a future version.\n",
      "Instructions for updating:\n",
      "Use `tf.compat.v1.graph_util.convert_variables_to_constants`\n",
      "W0324 22:41:40.369569   508 deprecation.py:323] From D:\\antrenare_cuant\\TFODCourse\\cuant\\lib\\site-packages\\tensorflow_core\\python\\tools\\freeze_graph.py:233: convert_variables_to_constants (from tensorflow.python.framework.graph_util_impl) is deprecated and will be removed in a future version.\n",
      "Instructions for updating:\n",
      "Use `tf.compat.v1.graph_util.convert_variables_to_constants`\n",
      "WARNING:tensorflow:From D:\\antrenare_cuant\\TFODCourse\\cuant\\lib\\site-packages\\tensorflow_core\\python\\framework\\graph_util_impl.py:277: extract_sub_graph (from tensorflow.python.framework.graph_util_impl) is deprecated and will be removed in a future version.\n",
      "Instructions for updating:\n",
      "Use `tf.compat.v1.graph_util.extract_sub_graph`\n",
      "W0324 22:41:40.370568   508 deprecation.py:323] From D:\\antrenare_cuant\\TFODCourse\\cuant\\lib\\site-packages\\tensorflow_core\\python\\framework\\graph_util_impl.py:277: extract_sub_graph (from tensorflow.python.framework.graph_util_impl) is deprecated and will be removed in a future version.\n",
      "Instructions for updating:\n",
      "Use `tf.compat.v1.graph_util.extract_sub_graph`\n",
      "INFO:tensorflow:Froze 831 variables.\n",
      "I0324 22:41:41.265192   508 graph_util_impl.py:334] Froze 831 variables.\n",
      "INFO:tensorflow:Converted 831 variables to const ops.\n",
      "I0324 22:41:41.401829   508 graph_util_impl.py:394] Converted 831 variables to const ops.\n",
      "2022-03-24 22:41:41.880702: I tensorflow/core/common_runtime/gpu/gpu_device.cc:1618] Found device 0 with properties: \n",
      "name: GeForce GTX 1050 major: 6 minor: 1 memoryClockRate(GHz): 1.493\n",
      "pciBusID: 0000:01:00.0\n",
      "2022-03-24 22:41:41.880725: I tensorflow/stream_executor/platform/default/dso_loader.cc:44] Successfully opened dynamic library cudart64_100.dll\n",
      "2022-03-24 22:41:41.880733: I tensorflow/stream_executor/platform/default/dso_loader.cc:44] Successfully opened dynamic library cublas64_100.dll\n",
      "2022-03-24 22:41:41.880738: I tensorflow/stream_executor/platform/default/dso_loader.cc:44] Successfully opened dynamic library cufft64_100.dll\n",
      "2022-03-24 22:41:41.880744: I tensorflow/stream_executor/platform/default/dso_loader.cc:44] Successfully opened dynamic library curand64_100.dll\n",
      "2022-03-24 22:41:41.880750: I tensorflow/stream_executor/platform/default/dso_loader.cc:44] Successfully opened dynamic library cusolver64_100.dll\n",
      "2022-03-24 22:41:41.880755: I tensorflow/stream_executor/platform/default/dso_loader.cc:44] Successfully opened dynamic library cusparse64_100.dll\n",
      "2022-03-24 22:41:41.880760: I tensorflow/stream_executor/platform/default/dso_loader.cc:44] Successfully opened dynamic library cudnn64_7.dll\n",
      "2022-03-24 22:41:41.880792: I tensorflow/core/common_runtime/gpu/gpu_device.cc:1746] Adding visible gpu devices: 0\n",
      "2022-03-24 22:41:41.880831: I tensorflow/core/common_runtime/gpu/gpu_device.cc:1159] Device interconnect StreamExecutor with strength 1 edge matrix:\n",
      "2022-03-24 22:41:41.880836: I tensorflow/core/common_runtime/gpu/gpu_device.cc:1165]      0 \n",
      "2022-03-24 22:41:41.880840: I tensorflow/core/common_runtime/gpu/gpu_device.cc:1178] 0:   N \n",
      "2022-03-24 22:41:41.880892: I tensorflow/core/common_runtime/gpu/gpu_device.cc:1304] Created TensorFlow device (/job:localhost/replica:0/task:0/device:GPU:0 with 1343 MB memory) -> physical GPU (device: 0, name: GeForce GTX 1050, pci bus id: 0000:01:00.0, compute capability: 6.1)\n",
      "WARNING:tensorflow:From D:\\antrenare_cuant\\TFODCourse\\cuant\\lib\\site-packages\\object_detection-0.1-py3.7.egg\\object_detection\\exporter.py:384: build_tensor_info (from tensorflow.python.saved_model.utils_impl) is deprecated and will be removed in a future version.\n",
      "Instructions for updating:\n",
      "This function will only be available through the v1 compatibility library as tf.compat.v1.saved_model.utils.build_tensor_info or tf.compat.v1.saved_model.build_tensor_info.\n",
      "W0324 22:41:42.670690   508 deprecation.py:323] From D:\\antrenare_cuant\\TFODCourse\\cuant\\lib\\site-packages\\object_detection-0.1-py3.7.egg\\object_detection\\exporter.py:384: build_tensor_info (from tensorflow.python.saved_model.utils_impl) is deprecated and will be removed in a future version.\n",
      "Instructions for updating:\n",
      "This function will only be available through the v1 compatibility library as tf.compat.v1.saved_model.utils.build_tensor_info or tf.compat.v1.saved_model.build_tensor_info.\n",
      "INFO:tensorflow:No assets to save.\n",
      "I0324 22:41:42.670690   508 builder_impl.py:640] No assets to save.\n",
      "INFO:tensorflow:No assets to write.\n",
      "I0324 22:41:42.670690   508 builder_impl.py:460] No assets to write.\n",
      "INFO:tensorflow:SavedModel written to: Tensorflow\\workspace\\models\\ssdlite_mobiledet_edgetpu_tuned2\\export\\saved_model\\saved_model.pb\n",
      "I0324 22:41:43.308243   508 builder_impl.py:425] SavedModel written to: Tensorflow\\workspace\\models\\ssdlite_mobiledet_edgetpu_tuned2\\export\\saved_model\\saved_model.pb\n",
      "INFO:tensorflow:Writing pipeline config file to Tensorflow\\workspace\\models\\ssdlite_mobiledet_edgetpu_tuned2\\export\\pipeline.config\n",
      "I0324 22:41:43.384474   508 config_util.py:254] Writing pipeline config file to Tensorflow\\workspace\\models\\ssdlite_mobiledet_edgetpu_tuned2\\export\\pipeline.config\n"
     ]
    }
   ],
   "source": [
    "!{command}"
   ]
  },
  {
   "cell_type": "markdown",
   "metadata": {},
   "source": [
    "# Real Time Detections from your Webcam"
   ]
  },
  {
   "cell_type": "code",
   "execution_count": null,
   "metadata": {},
   "outputs": [],
   "source": [
    "!pip uninstall opencv-python-headless -y"
   ]
  },
  {
   "cell_type": "code",
   "execution_count": null,
   "metadata": {
    "id": "o_grs6OGpfDJ"
   },
   "outputs": [],
   "source": [
    "cap = cv2.VideoCapture(0)\n",
    "width = int(cap.get(cv2.CAP_PROP_FRAME_WIDTH))\n",
    "height = int(cap.get(cv2.CAP_PROP_FRAME_HEIGHT))\n",
    "\n",
    "while cap.isOpened(): \n",
    "    ret, frame = cap.read()\n",
    "    image_np = np.array(frame)\n",
    "    \n",
    "    input_tensor = tf.convert_to_tensor(np.expand_dims(image_np, 0), dtype=tf.float32)\n",
    "    detections = detect_fn(input_tensor)\n",
    "    \n",
    "    num_detections = int(detections.pop('num_detections'))\n",
    "    detections = {key: value[0, :num_detections].numpy()\n",
    "                  for key, value in detections.items()}\n",
    "    detections['num_detections'] = num_detections\n",
    "\n",
    "    # detection_classes should be ints.\n",
    "    detections['detection_classes'] = detections['detection_classes'].astype(np.int64)\n",
    "\n",
    "    label_id_offset = 1\n",
    "    image_np_with_detections = image_np.copy()\n",
    "\n",
    "    viz_utils.visualize_boxes_and_labels_on_image_array(\n",
    "                image_np_with_detections,\n",
    "                detections['detection_boxes'],\n",
    "                detections['detection_classes']+label_id_offset,\n",
    "                detections['detection_scores'],\n",
    "                category_index,\n",
    "                use_normalized_coordinates=True,\n",
    "                max_boxes_to_draw=5,\n",
    "                min_score_thresh=.8,\n",
    "                agnostic_mode=False)\n",
    "\n",
    "    cv2.imshow('object detection',  cv2.resize(image_np_with_detections, (800, 600)))\n",
    "    \n",
    "    if cv2.waitKey(10) & 0xFF == ord('q'):\n",
    "        cap.release()\n",
    "        cv2.destroyAllWindows()\n",
    "        break"
   ]
  },
  {
   "cell_type": "markdown",
   "metadata": {
    "id": "0EmsmbBZpfDI"
   },
   "source": [
    "# 10. Detect from an Image"
   ]
  },
  {
   "cell_type": "code",
   "execution_count": 19,
   "metadata": {},
   "outputs": [],
   "source": [
    "import numpy as np\n",
    "import os\n",
    "import sys\n",
    "import tensorflow as tf\n",
    "\n",
    "from collections import defaultdict\n",
    "from matplotlib import pyplot as plt\n",
    "from PIL import Image\n",
    "\n",
    "from object_detection.utils import ops as utils_ops\n",
    "from object_detection.utils import label_map_util\n",
    "from object_detection.utils import visualization_utils as vis_util\n",
    "%matplotlib inline"
   ]
  },
  {
   "cell_type": "code",
   "execution_count": 20,
   "metadata": {},
   "outputs": [
    {
     "name": "stdout",
     "output_type": "stream",
     "text": [
      "WARNING:tensorflow:From C:\\Users\\adria\\AppData\\Local\\Temp\\ipykernel_2988\\169983224.py:5: The name tf.GraphDef is deprecated. Please use tf.compat.v1.GraphDef instead.\n",
      "\n",
      "WARNING:tensorflow:From C:\\Users\\adria\\AppData\\Local\\Temp\\ipykernel_2988\\169983224.py:6: The name tf.gfile.GFile is deprecated. Please use tf.io.gfile.GFile instead.\n",
      "\n"
     ]
    }
   ],
   "source": [
    "# Initialize tf.Graph()\n",
    "GRAPH=TRAINING_SCRIPT = os.path.join(paths['CHECKPOINT_PATH'], 'export','frozen_inference_graph.pb')\n",
    "detection_graph = tf.Graph()\n",
    "with detection_graph.as_default():\n",
    "  od_graph_def = tf.GraphDef()\n",
    "  with tf.gfile.GFile(GRAPH, 'rb') as fid:\n",
    "    serialized_graph = fid.read()\n",
    "    od_graph_def.ParseFromString(serialized_graph)\n",
    "    tf.import_graph_def(od_graph_def, name='')\n"
   ]
  },
  {
   "cell_type": "code",
   "execution_count": 21,
   "metadata": {},
   "outputs": [],
   "source": [
    "# Loads labels\n",
    "LABEL_MAP=os.path.join(paths['ANNOTATION_PATH'],'label_map.pbtxt')\n",
    "label_map = label_map_util.load_labelmap(LABEL_MAP)\n",
    "categories = label_map_util.convert_label_map_to_categories(label_map, max_num_classes=4, use_display_name=True)\n",
    "category_index = label_map_util.create_category_index(categories)"
   ]
  },
  {
   "cell_type": "code",
   "execution_count": 22,
   "metadata": {},
   "outputs": [],
   "source": [
    "# Run Inference and populates results in a dict.\n",
    "def run_inference(graph, image):\n",
    "  with graph.as_default():\n",
    "    with tf.Session() as sess:\n",
    "      ops = tf.get_default_graph().get_operations()\n",
    "      all_tensor_names = [output.name for op in ops for output in op.outputs]\n",
    "      tensor_dict = {}\n",
    "      tensor_keys = ['num_detections', 'detection_boxes', 'detection_scores', 'detection_classes']\n",
    "      for key in tensor_keys:\n",
    "        tensor_name = key + ':0'\n",
    "        if tensor_name in all_tensor_names:\n",
    "          tensor_dict[key] = tf.get_default_graph().get_tensor_by_name(tensor_name)\n",
    "      \n",
    "      # Actual inference.\n",
    "      image_tensor = tf.get_default_graph().get_tensor_by_name('image_tensor:0')\n",
    "      output_dict = sess.run(tensor_dict, feed_dict={image_tensor: np.expand_dims(image, 0)})\n",
    "\n",
    "      output_dict['num_detections'] = int(output_dict['num_detections'][0])\n",
    "      output_dict['detection_classes'] = output_dict['detection_classes'][0].astype(np.uint8)\n",
    "      output_dict['detection_boxes'] = output_dict['detection_boxes'][0]\n",
    "      output_dict['detection_scores'] = output_dict['detection_scores'][0]\n",
    "  return output_dict"
   ]
  },
  {
   "cell_type": "code",
   "execution_count": 33,
   "metadata": {},
   "outputs": [
    {
     "name": "stdout",
     "output_type": "stream",
     "text": [
      "Evaluating: Tensorflow\\workspace\\images\\test\\traffic-sign-arrow-right-turn-only-taxis-excepted-DE57FB.png\n"
     ]
    },
    {
     "data": {
      "text/plain": [
       "<matplotlib.image.AxesImage at 0x158a50b2ec8>"
      ]
     },
     "execution_count": 33,
     "metadata": {},
     "output_type": "execute_result"
    },
    {
     "data": {
      "image/png": "[encoded data removed]",
      "text/plain": [
       "<Figure size 864x576 with 1 Axes>"
      ]
     },
     "metadata": {
      "needs_background": "light"
     },
     "output_type": "display_data"
    }
   ],
   "source": [
    "image_path = os.path.join(paths['IMAGE_PATH'], 'test','traffic-sign-arrow-right-turn-only-taxis-excepted-DE57FB.png')\n",
    "print('Evaluating:', image_path)\n",
    "image = Image.open(image_path)\n",
    "img_width, img_height = image.size\n",
    "image_np = np.array(image.getdata()).reshape((img_height, img_width, 3)).astype(np.uint8)\n",
    "# Run inference.\n",
    "output_dict = run_inference(detection_graph, image_np)\n",
    "# Visualization of the results of a detection.\n",
    "vis_util.visualize_boxes_and_labels_on_image_array(\n",
    "  image_np,\n",
    "  output_dict['detection_boxes'],\n",
    "  output_dict['detection_classes'],\n",
    "  output_dict['detection_scores'],\n",
    "  category_index,\n",
    "  use_normalized_coordinates=True,\n",
    "  line_thickness=8)\n",
    "plt.figure(figsize=(12, 8))\n",
    "plt.imshow(image_np)"
   ]
  },
  {
   "cell_type": "markdown",
   "metadata": {
    "id": "VtUw73FHpfDK"
   },
   "source": [
    "# 12. Conversion to TFLite"
   ]
  },
  {
   "cell_type": "code",
   "execution_count": 34,
   "metadata": {
    "id": "XviMtewLpfDK"
   },
   "outputs": [],
   "source": [
    "TFLITE_SCRIPT = os.path.join(paths['APIMODEL_PATH'], 'research', 'object_detection', 'export_tflite_ssd_graph.py')\n",
    "#CKP=os.path.join(paths['CHECKPOINT_PATH'],'')"
   ]
  },
  {
   "cell_type": "code",
   "execution_count": 35,
   "metadata": {
    "id": "us86cjC4pfDL"
   },
   "outputs": [],
   "source": [
    "command = \"python {} \\\n",
    "--pipeline_config_path={} \\\n",
    "--trained_checkpoint_prefix={} \\\n",
    "--output_directory={} \\\n",
    "--add_postprocessing_op=true\".format(TFLITE_SCRIPT ,files['PIPELINE_CONFIG'], last_model_path, paths['TFLITE_PATH'])"
   ]
  },
  {
   "cell_type": "code",
   "execution_count": 36,
   "metadata": {
    "colab": {
     "base_uri": "https://localhost:8080/"
    },
    "id": "n1r5YO3rpfDL",
    "outputId": "5fcdf7a4-eee2-4365-f1ca-1751968379ea"
   },
   "outputs": [
    {
     "name": "stdout",
     "output_type": "stream",
     "text": [
      "python Tensorflow\\models\\research\\object_detection\\export_tflite_ssd_graph.py --pipeline_config_path=Tensorflow\\workspace\\models\\ssdlite_mobiledet_edgetpu_tuned2\\pipeline.config --trained_checkpoint_prefix=Tensorflow\\workspace\\models\\ssdlite_mobiledet_edgetpu_tuned2\\model.ckpt-20000 --output_directory=Tensorflow\\workspace\\models\\ssdlite_mobiledet_edgetpu_tuned2\\tfliteexport --add_postprocessing_op=true\n"
     ]
    }
   ],
   "source": [
    "print(command)"
   ]
  },
  {
   "cell_type": "code",
   "execution_count": 37,
   "metadata": {
    "colab": {
     "base_uri": "https://localhost:8080/"
    },
    "id": "I-xWpHN8pfDL",
    "outputId": "7f6bacd8-d077-43b5-c131-5b081fba24a4"
   },
   "outputs": [
    {
     "name": "stderr",
     "output_type": "stream",
     "text": [
      "2022-03-24 23:02:17.747870: I tensorflow/stream_executor/platform/default/dso_loader.cc:44] Successfully opened dynamic library cudart64_100.dll\n",
      "WARNING:tensorflow:From D:\\antrenare_cuant\\TFODCourse\\cuant\\lib\\site-packages\\tf_slim\\layers\\layers.py:1089: Layer.apply (from tensorflow.python.keras.engine.base_layer) is deprecated and will be removed in a future version.\n",
      "Instructions for updating:\n",
      "Please use `layer.__call__` method instead.\n",
      "W0324 23:02:47.167524 16240 deprecation.py:323] From D:\\antrenare_cuant\\TFODCourse\\cuant\\lib\\site-packages\\tf_slim\\layers\\layers.py:1089: Layer.apply (from tensorflow.python.keras.engine.base_layer) is deprecated and will be removed in a future version.\n",
      "Instructions for updating:\n",
      "Please use `layer.__call__` method instead.\n",
      "INFO:tensorflow:depth of additional conv before box predictor: 0\n",
      "I0324 23:02:49.108762 16240 convolutional_box_predictor.py:156] depth of additional conv before box predictor: 0\n",
      "INFO:tensorflow:depth of additional conv before box predictor: 0\n",
      "I0324 23:02:49.169918 16240 convolutional_box_predictor.py:156] depth of additional conv before box predictor: 0\n",
      "INFO:tensorflow:depth of additional conv before box predictor: 0\n",
      "I0324 23:02:49.231105 16240 convolutional_box_predictor.py:156] depth of additional conv before box predictor: 0\n",
      "INFO:tensorflow:depth of additional conv before box predictor: 0\n",
      "I0324 23:02:49.292150 16240 convolutional_box_predictor.py:156] depth of additional conv before box predictor: 0\n",
      "INFO:tensorflow:depth of additional conv before box predictor: 0\n",
      "I0324 23:02:49.353311 16240 convolutional_box_predictor.py:156] depth of additional conv before box predictor: 0\n",
      "INFO:tensorflow:depth of additional conv before box predictor: 0\n",
      "I0324 23:02:49.414481 16240 convolutional_box_predictor.py:156] depth of additional conv before box predictor: 0\n",
      "2022-03-24 23:02:49.595172: I tensorflow/stream_executor/platform/default/dso_loader.cc:44] Successfully opened dynamic library nvcuda.dll\n",
      "2022-03-24 23:02:49.627436: I tensorflow/core/common_runtime/gpu/gpu_device.cc:1618] Found device 0 with properties: \n",
      "name: GeForce GTX 1050 major: 6 minor: 1 memoryClockRate(GHz): 1.493\n",
      "pciBusID: 0000:01:00.0\n",
      "2022-03-24 23:02:49.627460: I tensorflow/stream_executor/platform/default/dso_loader.cc:44] Successfully opened dynamic library cudart64_100.dll\n",
      "2022-03-24 23:02:49.630646: I tensorflow/stream_executor/platform/default/dso_loader.cc:44] Successfully opened dynamic library cublas64_100.dll\n",
      "2022-03-24 23:02:49.633391: I tensorflow/stream_executor/platform/default/dso_loader.cc:44] Successfully opened dynamic library cufft64_100.dll\n",
      "2022-03-24 23:02:49.635202: I tensorflow/stream_executor/platform/default/dso_loader.cc:44] Successfully opened dynamic library curand64_100.dll\n",
      "2022-03-24 23:02:49.638918: I tensorflow/stream_executor/platform/default/dso_loader.cc:44] Successfully opened dynamic library cusolver64_100.dll\n",
      "2022-03-24 23:02:49.641537: I tensorflow/stream_executor/platform/default/dso_loader.cc:44] Successfully opened dynamic library cusparse64_100.dll\n",
      "2022-03-24 23:02:49.647629: I tensorflow/stream_executor/platform/default/dso_loader.cc:44] Successfully opened dynamic library cudnn64_7.dll\n",
      "2022-03-24 23:02:49.647707: I tensorflow/core/common_runtime/gpu/gpu_device.cc:1746] Adding visible gpu devices: 0\n",
      "2022-03-24 23:02:49.647966: I tensorflow/core/platform/cpu_feature_guard.cc:142] Your CPU supports instructions that this TensorFlow binary was not compiled to use: AVX2\n",
      "2022-03-24 23:02:49.650781: I tensorflow/core/common_runtime/gpu/gpu_device.cc:1618] Found device 0 with properties: \n",
      "name: GeForce GTX 1050 major: 6 minor: 1 memoryClockRate(GHz): 1.493\n",
      "pciBusID: 0000:01:00.0\n",
      "2022-03-24 23:02:49.650796: I tensorflow/stream_executor/platform/default/dso_loader.cc:44] Successfully opened dynamic library cudart64_100.dll"
     ]
    }
   ],
   "source": [
    "!{command}"
   ]
  },
  {
   "cell_type": "code",
   "execution_count": 38,
   "metadata": {
    "id": "iJfYMbN6pfDL"
   },
   "outputs": [
    {
     "name": "stderr",
     "output_type": "stream",
     "text": [
      "\n",
      "2022-03-24 23:02:49.650804: I tensorflow/stream_executor/platform/default/dso_loader.cc:44] Successfully opened dynamic library cublas64_100.dll\n",
      "2022-03-24 23:02:49.650809: I tensorflow/stream_executor/platform/default/dso_loader.cc:44] Successfully opened dynamic library cufft64_100.dll\n",
      "2022-03-24 23:02:49.650815: I tensorflow/stream_executor/platform/default/dso_loader.cc:44] Successfully opened dynamic library curand64_100.dll\n",
      "2022-03-24 23:02:49.650820: I tensorflow/stream_executor/platform/default/dso_loader.cc:44] Successfully opened dynamic library cusolver64_100.dll\n",
      "2022-03-24 23:02:49.650825: I tensorflow/stream_executor/platform/default/dso_loader.cc:44] Successfully opened dynamic library cusparse64_100.dll\n",
      "2022-03-24 23:02:49.650830: I tensorflow/stream_executor/platform/default/dso_loader.cc:44] Successfully opened dynamic library cudnn64_7.dll\n",
      "2022-03-24 23:02:49.650863: I tensorflow/core/common_runtime/gpu/gpu_device.cc:1746] Adding visible gpu devices: 0\n",
      "2022-03-24 23:02:50.134732: I tensorflow/core/common_runtime/gpu/gpu_device.cc:1159] Device interconnect StreamExecutor with strength 1 edge matrix:\n",
      "2022-03-24 23:02:50.134749: I tensorflow/core/common_runtime/gpu/gpu_device.cc:1165]      0 \n",
      "2022-03-24 23:02:50.134754: I tensorflow/core/common_runtime/gpu/gpu_device.cc:1178] 0:   N \n",
      "2022-03-24 23:02:50.135690: I tensorflow/core/common_runtime/gpu/gpu_device.cc:1304] Created TensorFlow device (/job:localhost/replica:0/task:0/device:GPU:0 with 1337 MB memory) -> physical GPU (device: 0, name: GeForce GTX 1050, pci bus id: 0000:01:00.0, compute capability: 6.1)\n",
      "INFO:tensorflow:Skipping quant after FeatureExtractor/MobileDetEdgeTPU/Conv/add_fold\n",
      "I0324 23:02:54.328380 16240 quantize.py:299] Skipping quant after FeatureExtractor/MobileDetEdgeTPU/Conv/add_fold\n",
      "INFO:tensorflow:Skipping quant after FeatureExtractor/MobileDetEdgeTPU/TuckerConv/Conv/add_fold\n",
      "I0324 23:02:54.328380 16240 quantize.py:299] Skipping quant after FeatureExtractor/MobileDetEdgeTPU/TuckerConv/Conv/add_fold\n",
      "INFO:tensorflow:Skipping quant after FeatureExtractor/MobileDetEdgeTPU/TuckerConv/Conv_1/add_fold\n",
      "I0324 23:02:54.328380 16240 quantize.py:299] Skipping quant after FeatureExtractor/MobileDetEdgeTPU/TuckerConv/Conv_1/add_fold\n",
      "INFO:tensorflow:Skipping quant after FeatureExtractor/MobileDetEdgeTPU/FusedConv/Conv/add_fold\n",
      "I0324 23:02:54.328380 16240 quantize.py:299] Skipping quant after FeatureExtractor/MobileDetEdgeTPU/FusedConv/Conv/add_fold\n",
      "INFO:tensorflow:Skipping quant after FeatureExtractor/MobileDetEdgeTPU/FusedConv_1/Conv/add_fold\n",
      "I0324 23:02:54.328380 16240 quantize.py:299] Skipping quant after FeatureExtractor/MobileDetEdgeTPU/FusedConv_1/Conv/add_fold\n",
      "INFO:tensorflow:Skipping quant after FeatureExtractor/MobileDetEdgeTPU/FusedConv_2/Conv/add_fold\n",
      "I0324 23:02:54.328380 16240 quantize.py:299] Skipping quant after FeatureExtractor/MobileDetEdgeTPU/FusedConv_2/Conv/add_fold\n",
      "INFO:tensorflow:Skipping quant after FeatureExtractor/MobileDetEdgeTPU/FusedConv_3/Conv/add_fold\n",
      "I0324 23:02:54.328380 16240 quantize.py:299] Skipping quant after FeatureExtractor/MobileDetEdgeTPU/FusedConv_3/Conv/add_fold\n",
      "INFO:tensorflow:Skipping quant after FeatureExtractor/MobileDetEdgeTPU/FusedConv_4/Conv/add_fold\n",
      "I0324 23:02:54.328380 16240 quantize.py:299] Skipping quant after FeatureExtractor/MobileDetEdgeTPU/FusedConv_4/Conv/add_fold\n",
      "INFO:tensorflow:Skipping quant after FeatureExtractor/MobileDetEdgeTPU/FusedConv_5/Conv/add_fold\n",
      "I0324 23:02:54.328380 16240 quantize.py:299] Skipping quant after FeatureExtractor/MobileDetEdgeTPU/FusedConv_5/Conv/add_fold\n",
      "INFO:tensorflow:Skipping quant after FeatureExtractor/MobileDetEdgeTPU/FusedConv_6/Conv/add_fold\n",
      "I0324 23:02:54.328380 16240 quantize.py:299] Skipping quant after FeatureExtractor/MobileDetEdgeTPU/FusedConv_6/Conv/add_fold\n",
      "INFO:tensorflow:Skipping quant after FeatureExtractor/MobileDetEdgeTPU/FusedConv_7/Conv/add_fold\n",
      "I0324 23:02:54.328380 16240 quantize.py:299] Skipping quant after FeatureExtractor/MobileDetEdgeTPU/FusedConv_7/Conv/add_fold\n",
      "INFO:tensorflow:Skipping quant after FeatureExtractor/MobileDetEdgeTPU/IBN/Conv/add_fold\n",
      "I0324 23:02:54.328380 16240 quantize.py:299] Skipping quant after FeatureExtractor/MobileDetEdgeTPU/IBN/Conv/add_fold\n",
      "INFO:tensorflow:Skipping quant after FeatureExtractor/MobileDetEdgeTPU/IBN/SeparableConv2d/add_fold\n",
      "I0324 23:02:54.328380 16240 quantize.py:299] Skipping quant after FeatureExtractor/MobileDetEdgeTPU/IBN/SeparableConv2d/add_fold\n",
      "INFO:tensorflow:Skipping quant after FeatureExtractor/MobileDetEdgeTPU/IBN_1/Conv/add_fold\n",
      "I0324 23:02:54.328380 16240 quantize.py:299] Skipping quant after FeatureExtractor/MobileDetEdgeTPU/IBN_1/Conv/add_fold\n",
      "INFO:tensorflow:Skipping quant after FeatureExtractor/MobileDetEdgeTPU/IBN_1/SeparableConv2d/add_fold\n",
      "I0324 23:02:54.328380 16240 quantize.py:299] Skipping quant after FeatureExtractor/MobileDetEdgeTPU/IBN_1/SeparableConv2d/add_fold\n",
      "INFO:tensorflow:Skipping quant after FeatureExtractor/MobileDetEdgeTPU/FusedConv_8/Conv/add_fold\n",
      "I0324 23:02:54.328380 16240 quantize.py:299] Skipping quant after FeatureExtractor/MobileDetEdgeTPU/FusedConv_8/Conv/add_fold\n",
      "INFO:tensorflow:Skipping quant after FeatureExtractor/MobileDetEdgeTPU/FusedConv_9/Conv/add_fold\n",
      "I0324 23:02:54.328380 16240 quantize.py:299] Skipping quant after FeatureExtractor/MobileDetEdgeTPU/FusedConv_9/Conv/add_fold\n",
      "INFO:tensorflow:Skipping quant after FeatureExtractor/MobileDetEdgeTPU/IBN_2/Conv/add_fold\n",
      "I0324 23:02:54.336432 16240 quantize.py:299] Skipping quant after FeatureExtractor/MobileDetEdgeTPU/IBN_2/Conv/add_fold\n",
      "INFO:tensorflow:Skipping quant after FeatureExtractor/MobileDetEdgeTPU/IBN_2/SeparableConv2d/add_fold\n",
      "I0324 23:02:54.336432 16240 quantize.py:299] Skipping quant after FeatureExtractor/MobileDetEdgeTPU/IBN_2/SeparableConv2d/add_fold\n",
      "INFO:tensorflow:Skipping quant after FeatureExtractor/MobileDetEdgeTPU/IBN_3/Conv/add_fold\n",
      "I0324 23:02:54.336432 16240 quantize.py:299] Skipping quant after FeatureExtractor/MobileDetEdgeTPU/IBN_3/Conv/add_fold\n",
      "INFO:tensorflow:Skipping quant after FeatureExtractor/MobileDetEdgeTPU/IBN_3/SeparableConv2d/add_fold\n",
      "I0324 23:02:54.336432 16240 quantize.py:299] Skipping quant after FeatureExtractor/MobileDetEdgeTPU/IBN_3/SeparableConv2d/add_fold\n",
      "INFO:tensorflow:Skipping quant after FeatureExtractor/MobileDetEdgeTPU/IBN_4/Conv/add_fold\n",
      "I0324 23:02:54.336432 16240 quantize.py:299] Skipping quant after FeatureExtractor/MobileDetEdgeTPU/IBN_4/Conv/add_fold\n",
      "INFO:tensorflow:Skipping quant after FeatureExtractor/MobileDetEdgeTPU/IBN_4/SeparableConv2d/add_fold\n",
      "I0324 23:02:54.336432 16240 quantize.py:299] Skipping quant after FeatureExtractor/MobileDetEdgeTPU/IBN_4/SeparableConv2d/add_fold\n",
      "INFO:tensorflow:Skipping quant after FeatureExtractor/MobileDetEdgeTPU/IBN_5/Conv/add_fold\n",
      "I0324 23:02:54.336432 16240 quantize.py:299] Skipping quant after FeatureExtractor/MobileDetEdgeTPU/IBN_5/Conv/add_fold\n",
      "INFO:tensorflow:Skipping quant after FeatureExtractor/MobileDetEdgeTPU/IBN_5/SeparableConv2d/add_fold\n",
      "I0324 23:02:54.336432 16240 quantize.py:299] Skipping quant after FeatureExtractor/MobileDetEdgeTPU/IBN_5/SeparableConv2d/add_fold\n",
      "INFO:tensorflow:Skipping quant after FeatureExtractor/MobileDetEdgeTPU/IBN_6/Conv/add_fold\n",
      "I0324 23:02:54.336432 16240 quantize.py:299] Skipping quant after FeatureExtractor/MobileDetEdgeTPU/IBN_6/Conv/add_fold\n",
      "INFO:tensorflow:Skipping quant after FeatureExtractor/MobileDetEdgeTPU/IBN_6/SeparableConv2d/add_fold\n",
      "I0324 23:02:54.336432 16240 quantize.py:299] Skipping quant after FeatureExtractor/MobileDetEdgeTPU/IBN_6/SeparableConv2d/add_fold\n",
      "INFO:tensorflow:Skipping quant after FeatureExtractor/MobileDetEdgeTPU/IBN_7/Conv/add_fold\n",
      "I0324 23:02:54.336432 16240 quantize.py:299] Skipping quant after FeatureExtractor/MobileDetEdgeTPU/IBN_7/Conv/add_fold\n",
      "INFO:tensorflow:Skipping quant after FeatureExtractor/MobileDetEdgeTPU/IBN_7/SeparableConv2d/add_fold\n",
      "I0324 23:02:54.338477 16240 quantize.py:299] Skipping quant after FeatureExtractor/MobileDetEdgeTPU/IBN_7/SeparableConv2d/add_fold\n",
      "INFO:tensorflow:Skipping quant after FeatureExtractor/MobileDetEdgeTPU/IBN_8/Conv/add_fold\n",
      "I0324 23:02:54.338477 16240 quantize.py:299] Skipping quant after FeatureExtractor/MobileDetEdgeTPU/IBN_8/Conv/add_fold\n",
      "INFO:tensorflow:Skipping quant after FeatureExtractor/MobileDetEdgeTPU/IBN_8/SeparableConv2d/add_fold\n",
      "I0324 23:02:54.338477 16240 quantize.py:299] Skipping quant after FeatureExtractor/MobileDetEdgeTPU/IBN_8/SeparableConv2d/add_fold\n",
      "INFO:tensorflow:Skipping quant after FeatureExtractor/MobileDetEdgeTPU/IBN_9/Conv/add_fold\n",
      "I0324 23:02:54.338477 16240 quantize.py:299] Skipping quant after FeatureExtractor/MobileDetEdgeTPU/IBN_9/Conv/add_fold\n",
      "INFO:tensorflow:Skipping quant after FeatureExtractor/MobileDetEdgeTPU/IBN_9/SeparableConv2d/add_fold\n",
      "I0324 23:02:54.338477 16240 quantize.py:299] Skipping quant after FeatureExtractor/MobileDetEdgeTPU/IBN_9/SeparableConv2d/add_fold\n",
      "INFO:tensorflow:Skipping quant after FeatureExtractor/MobileDetEdgeTPU/IBN_10/Conv/add_fold\n",
      "I0324 23:02:54.338477 16240 quantize.py:299] Skipping quant after FeatureExtractor/MobileDetEdgeTPU/IBN_10/Conv/add_fold\n",
      "INFO:tensorflow:Skipping quant after FeatureExtractor/MobileDetEdgeTPU/IBN_10/SeparableConv2d/add_fold\n",
      "I0324 23:02:54.338477 16240 quantize.py:299] Skipping quant after FeatureExtractor/MobileDetEdgeTPU/IBN_10/SeparableConv2d/add_fold\n",
      "INFO:tensorflow:Skipping quant after FeatureExtractor/MobileDetEdgeTPU/C5_1_Conv2d_2_1x1_256/add_fold\n",
      "I0324 23:02:54.338477 16240 quantize.py:299] Skipping quant after FeatureExtractor/MobileDetEdgeTPU/C5_1_Conv2d_2_1x1_256/add_fold\n",
      "INFO:tensorflow:Skipping quant after FeatureExtractor/MobileDetEdgeTPU/C5_2_Conv2d_2_3x3_s2_512_depthwise/add_fold\n",
      "I0324 23:02:54.338477 16240 quantize.py:299] Skipping quant after FeatureExtractor/MobileDetEdgeTPU/C5_2_Conv2d_2_3x3_s2_512_depthwise/add_fold\n",
      "INFO:tensorflow:Skipping quant after FeatureExtractor/MobileDetEdgeTPU/C5_2_Conv2d_2_3x3_s2_512/add_fold\n",
      "I0324 23:02:54.338477 16240 quantize.py:299] Skipping quant after FeatureExtractor/MobileDetEdgeTPU/C5_2_Conv2d_2_3x3_s2_512/add_fold\n",
      "INFO:tensorflow:Skipping quant after FeatureExtractor/MobileDetEdgeTPU/C5_1_Conv2d_3_1x1_128/add_fold\n",
      "I0324 23:02:54.338477 16240 quantize.py:299] Skipping quant after FeatureExtractor/MobileDetEdgeTPU/C5_1_Conv2d_3_1x1_128/add_fold\n",
      "INFO:tensorflow:Skipping quant after FeatureExtractor/MobileDetEdgeTPU/C5_2_Conv2d_3_3x3_s2_256_depthwise/add_fold\n",
      "I0324 23:02:54.338477 16240 quantize.py:299] Skipping quant after FeatureExtractor/MobileDetEdgeTPU/C5_2_Conv2d_3_3x3_s2_256_depthwise/add_fold\n",
      "INFO:tensorflow:Skipping quant after FeatureExtractor/MobileDetEdgeTPU/C5_2_Conv2d_3_3x3_s2_256/add_fold\n",
      "I0324 23:02:54.338477 16240 quantize.py:299] Skipping quant after FeatureExtractor/MobileDetEdgeTPU/C5_2_Conv2d_3_3x3_s2_256/add_fold\n",
      "INFO:tensorflow:Skipping quant after FeatureExtractor/MobileDetEdgeTPU/C5_1_Conv2d_4_1x1_128/add_fold\n",
      "I0324 23:02:54.338477 16240 quantize.py:299] Skipping quant after FeatureExtractor/MobileDetEdgeTPU/C5_1_Conv2d_4_1x1_128/add_fold\n",
      "INFO:tensorflow:Skipping quant after FeatureExtractor/MobileDetEdgeTPU/C5_2_Conv2d_4_3x3_s2_256_depthwise/add_fold\n",
      "I0324 23:02:54.338477 16240 quantize.py:299] Skipping quant after FeatureExtractor/MobileDetEdgeTPU/C5_2_Conv2d_4_3x3_s2_256_depthwise/add_fold\n"
     ]
    },
    {
     "name": "stderr",
     "output_type": "stream",
     "text": [
      "INFO:tensorflow:Skipping quant after FeatureExtractor/MobileDetEdgeTPU/C5_2_Conv2d_4_3x3_s2_256/add_fold\n",
      "I0324 23:02:54.338477 16240 quantize.py:299] Skipping quant after FeatureExtractor/MobileDetEdgeTPU/C5_2_Conv2d_4_3x3_s2_256/add_fold\n",
      "INFO:tensorflow:Skipping quant after FeatureExtractor/MobileDetEdgeTPU/C5_1_Conv2d_5_1x1_64/add_fold\n",
      "I0324 23:02:54.338477 16240 quantize.py:299] Skipping quant after FeatureExtractor/MobileDetEdgeTPU/C5_1_Conv2d_5_1x1_64/add_fold\n",
      "INFO:tensorflow:Skipping quant after FeatureExtractor/MobileDetEdgeTPU/C5_2_Conv2d_5_3x3_s2_128_depthwise/add_fold\n",
      "I0324 23:02:54.338477 16240 quantize.py:299] Skipping quant after FeatureExtractor/MobileDetEdgeTPU/C5_2_Conv2d_5_3x3_s2_128_depthwise/add_fold\n",
      "INFO:tensorflow:Skipping quant after FeatureExtractor/MobileDetEdgeTPU/C5_2_Conv2d_5_3x3_s2_128/add_fold\n",
      "I0324 23:02:54.338477 16240 quantize.py:299] Skipping quant after FeatureExtractor/MobileDetEdgeTPU/C5_2_Conv2d_5_3x3_s2_128/add_fold\n",
      "INFO:tensorflow:Skipping quant after BoxPredictor_0/BoxEncodingPredictor_depthwise/add_fold\n",
      "I0324 23:02:54.338477 16240 quantize.py:299] Skipping quant after BoxPredictor_0/BoxEncodingPredictor_depthwise/add_fold\n",
      "INFO:tensorflow:Skipping quant after BoxPredictor_0/ClassPredictor_depthwise/add_fold\n",
      "I0324 23:02:54.338477 16240 quantize.py:299] Skipping quant after BoxPredictor_0/ClassPredictor_depthwise/add_fold\n",
      "INFO:tensorflow:Skipping quant after BoxPredictor_1/BoxEncodingPredictor_depthwise/add_fold\n",
      "I0324 23:02:54.338477 16240 quantize.py:299] Skipping quant after BoxPredictor_1/BoxEncodingPredictor_depthwise/add_fold\n",
      "INFO:tensorflow:Skipping quant after BoxPredictor_1/ClassPredictor_depthwise/add_fold\n",
      "I0324 23:02:54.338477 16240 quantize.py:299] Skipping quant after BoxPredictor_1/ClassPredictor_depthwise/add_fold\n",
      "INFO:tensorflow:Skipping quant after BoxPredictor_2/BoxEncodingPredictor_depthwise/add_fold\n",
      "I0324 23:02:54.338477 16240 quantize.py:299] Skipping quant after BoxPredictor_2/BoxEncodingPredictor_depthwise/add_fold\n",
      "INFO:tensorflow:Skipping quant after BoxPredictor_2/ClassPredictor_depthwise/add_fold\n",
      "I0324 23:02:54.338477 16240 quantize.py:299] Skipping quant after BoxPredictor_2/ClassPredictor_depthwise/add_fold\n",
      "INFO:tensorflow:Skipping quant after BoxPredictor_3/BoxEncodingPredictor_depthwise/add_fold\n",
      "I0324 23:02:54.338477 16240 quantize.py:299] Skipping quant after BoxPredictor_3/BoxEncodingPredictor_depthwise/add_fold\n",
      "INFO:tensorflow:Skipping quant after BoxPredictor_3/ClassPredictor_depthwise/add_fold\n",
      "I0324 23:02:54.338477 16240 quantize.py:299] Skipping quant after BoxPredictor_3/ClassPredictor_depthwise/add_fold\n",
      "INFO:tensorflow:Skipping quant after BoxPredictor_4/BoxEncodingPredictor_depthwise/add_fold\n",
      "I0324 23:02:54.338477 16240 quantize.py:299] Skipping quant after BoxPredictor_4/BoxEncodingPredictor_depthwise/add_fold\n",
      "INFO:tensorflow:Skipping quant after BoxPredictor_4/ClassPredictor_depthwise/add_fold\n",
      "I0324 23:02:54.338477 16240 quantize.py:299] Skipping quant after BoxPredictor_4/ClassPredictor_depthwise/add_fold\n",
      "INFO:tensorflow:Skipping quant after BoxPredictor_5/BoxEncodingPredictor_depthwise/add_fold\n",
      "I0324 23:02:54.338477 16240 quantize.py:299] Skipping quant after BoxPredictor_5/BoxEncodingPredictor_depthwise/add_fold\n",
      "INFO:tensorflow:Skipping quant after BoxPredictor_5/ClassPredictor_depthwise/add_fold\n",
      "I0324 23:02:54.338477 16240 quantize.py:299] Skipping quant after BoxPredictor_5/ClassPredictor_depthwise/add_fold\n",
      "WARNING:tensorflow:From D:\\antrenare_cuant\\TFODCourse\\cuant\\lib\\site-packages\\tensorflow_core\\python\\tools\\freeze_graph.py:127: checkpoint_exists (from tensorflow.python.training.checkpoint_management) is deprecated and will be removed in a future version.\n",
      "Instructions for updating:\n",
      "Use standard file APIs to check for files with this prefix.\n",
      "W0324 23:02:55.007042 16240 deprecation.py:323] From D:\\antrenare_cuant\\TFODCourse\\cuant\\lib\\site-packages\\tensorflow_core\\python\\tools\\freeze_graph.py:127: checkpoint_exists (from tensorflow.python.training.checkpoint_management) is deprecated and will be removed in a future version.\n",
      "Instructions for updating:\n",
      "Use standard file APIs to check for files with this prefix.\n",
      "2022-03-24 23:02:55.832865: I tensorflow/core/common_runtime/gpu/gpu_device.cc:1618] Found device 0 with properties: \n",
      "name: GeForce GTX 1050 major: 6 minor: 1 memoryClockRate(GHz): 1.493\n",
      "pciBusID: 0000:01:00.0\n",
      "2022-03-24 23:02:55.832894: I tensorflow/stream_executor/platform/default/dso_loader.cc:44] Successfully opened dynamic library cudart64_100.dll\n",
      "2022-03-24 23:02:55.832905: I tensorflow/stream_executor/platform/default/dso_loader.cc:44] Successfully opened dynamic library cublas64_100.dll\n",
      "2022-03-24 23:02:55.832911: I tensorflow/stream_executor/platform/default/dso_loader.cc:44] Successfully opened dynamic library cufft64_100.dll\n",
      "2022-03-24 23:02:55.832916: I tensorflow/stream_executor/platform/default/dso_loader.cc:44] Successfully opened dynamic library curand64_100.dll\n",
      "2022-03-24 23:02:55.832922: I tensorflow/stream_executor/platform/default/dso_loader.cc:44] Successfully opened dynamic library cusolver64_100.dll\n",
      "2022-03-24 23:02:55.832927: I tensorflow/stream_executor/platform/default/dso_loader.cc:44] Successfully opened dynamic library cusparse64_100.dll\n",
      "2022-03-24 23:02:55.832934: I tensorflow/stream_executor/platform/default/dso_loader.cc:44] Successfully opened dynamic library cudnn64_7.dll\n",
      "2022-03-24 23:02:55.833006: I tensorflow/core/common_runtime/gpu/gpu_device.cc:1746] Adding visible gpu devices: 0"
     ]
    }
   ],
   "source": [
    "FROZEN_TFLITE_PATH = os.path.join(paths['TFLITE_PATH'], 'tflite_graph.pb')\n",
    "TFLITE_MODEL = os.path.join(paths['TFLITE_PATH'], 'traffic.tflite')"
   ]
  },
  {
   "cell_type": "code",
   "execution_count": 39,
   "metadata": {},
   "outputs": [
    {
     "name": "stderr",
     "output_type": "stream",
     "text": [
      "\n",
      "2022-03-24 23:02:55.833066: I tensorflow/core/common_runtime/gpu/gpu_device.cc:1159] Device interconnect StreamExecutor with strength 1 edge matrix:\n",
      "2022-03-24 23:02:55.833072: I tensorflow/core/common_runtime/gpu/gpu_device.cc:1165]      0 \n",
      "2022-03-24 23:02:55.833075: I tensorflow/core/common_runtime/gpu/gpu_device.cc:1178] 0:   N \n",
      "2022-03-24 23:02:55.833153: I tensorflow/core/common_runtime/gpu/gpu_device.cc:1304] Created TensorFlow device (/job:localhost/replica:0/task:0/device:GPU:0 with 1337 MB memory) -> physical GPU (device: 0, name: GeForce GTX 1050, pci bus id: 0000:01:00.0, compute capability: 6.1)\n",
      "INFO:tensorflow:Restoring parameters from Tensorflow\\workspace\\models\\ssdlite_mobiledet_edgetpu_tuned2\\model.ckpt-20000\n",
      "I0324 23:02:55.833959 16240 saver.py:1284] Restoring parameters from Tensorflow\\workspace\\models\\ssdlite_mobiledet_edgetpu_tuned2\\model.ckpt-20000\n",
      "WARNING:tensorflow:From D:\\antrenare_cuant\\TFODCourse\\cuant\\lib\\site-packages\\tensorflow_core\\python\\tools\\freeze_graph.py:233: convert_variables_to_constants (from tensorflow.python.framework.graph_util_impl) is deprecated and will be removed in a future version.\n",
      "Instructions for updating:\n",
      "Use `tf.compat.v1.graph_util.convert_variables_to_constants`\n",
      "W0324 23:02:57.802304 16240 deprecation.py:323] From D:\\antrenare_cuant\\TFODCourse\\cuant\\lib\\site-packages\\tensorflow_core\\python\\tools\\freeze_graph.py:233: convert_variables_to_constants (from tensorflow.python.framework.graph_util_impl) is deprecated and will be removed in a future version.\n",
      "Instructions for updating:\n",
      "Use `tf.compat.v1.graph_util.convert_variables_to_constants`\n",
      "WARNING:tensorflow:From D:\\antrenare_cuant\\TFODCourse\\cuant\\lib\\site-packages\\tensorflow_core\\python\\framework\\graph_util_impl.py:277: extract_sub_graph (from tensorflow.python.framework.graph_util_impl) is deprecated and will be removed in a future version.\n",
      "Instructions for updating:\n",
      "Use `tf.compat.v1.graph_util.extract_sub_graph`\n",
      "W0324 23:02:57.802304 16240 deprecation.py:323] From D:\\antrenare_cuant\\TFODCourse\\cuant\\lib\\site-packages\\tensorflow_core\\python\\framework\\graph_util_impl.py:277: extract_sub_graph (from tensorflow.python.framework.graph_util_impl) is deprecated and will be removed in a future version.\n",
      "Instructions for updating:\n",
      "Use `tf.compat.v1.graph_util.extract_sub_graph`\n",
      "INFO:tensorflow:Froze 831 variables.\n",
      "I0324 23:02:58.433231 16240 graph_util_impl.py:334] Froze 831 variables.\n",
      "INFO:tensorflow:Converted 831 variables to const ops.\n",
      "I0324 23:02:58.517854 16240 graph_util_impl.py:394] Converted 831 variables to const ops.\n",
      "2022-03-24 23:02:58.689198: I tensorflow/tools/graph_transforms/transform_graph.cc:317] Applying strip_unused_nodes\n"
     ]
    }
   ],
   "source": [
    "command = \"tflite_convert \\\n",
    "--output_file={} \\\n",
    "--graph_def_file={} \\\n",
    "--inference_type=QUANTIZED_UINT8 \\\n",
    "--input_arrays=normalized_input_image_tensor \\\n",
    "--output_arrays=TFLite_Detection_PostProcess,TFLite_Detection_PostProcess:1,TFLite_Detection_PostProcess:2,TFLite_Detection_PostProcess:3 \\\n",
    "--mean_values=128 \\\n",
    "--std_dev_values=128 \\\n",
    "--input_shapes=1,320,320,3 \\\n",
    "--allow_custom_ops\".format(TFLITE_MODEL, FROZEN_TFLITE_PATH )"
   ]
  },
  {
   "cell_type": "code",
   "execution_count": 40,
   "metadata": {
    "colab": {
     "base_uri": "https://localhost:8080/"
    },
    "id": "E8GwUeoFpfDL",
    "outputId": "fac43ea4-cc85-471b-a362-e994b06fd583"
   },
   "outputs": [
    {
     "name": "stdout",
     "output_type": "stream",
     "text": [
      "tflite_convert --output_file=Tensorflow\\workspace\\models\\ssdlite_mobiledet_edgetpu_tuned2\\tfliteexport\\traffic.tflite --graph_def_file=Tensorflow\\workspace\\models\\ssdlite_mobiledet_edgetpu_tuned2\\tfliteexport\\tflite_graph.pb --inference_type=QUANTIZED_UINT8 --input_arrays=normalized_input_image_tensor --output_arrays=TFLite_Detection_PostProcess,TFLite_Detection_PostProcess:1,TFLite_Detection_PostProcess:2,TFLite_Detection_PostProcess:3 --mean_values=128 --std_dev_values=128 --input_shapes=1,320,320,3 --allow_custom_ops\n"
     ]
    }
   ],
   "source": [
    "print(command)"
   ]
  },
  {
   "cell_type": "code",
   "execution_count": 41,
   "metadata": {
    "colab": {
     "base_uri": "https://localhost:8080/"
    },
    "id": "Nbd7gqHMpfDL",
    "outputId": "7c8fe6d5-2415-4641-8548-39d425c202f7"
   },
   "outputs": [
    {
     "name": "stderr",
     "output_type": "stream",
     "text": [
      "2022-03-24 23:03:03.666176: I tensorflow/stream_executor/platform/default/dso_loader.cc:44] Successfully opened dynamic library cudart64_100.dll\n",
      "2022-03-24 23:03:24.108036: I tensorflow/stream_executor/platform/default/dso_loader.cc:44] Successfully opened dynamic library nvcuda.dll\n",
      "2022-03-24 23:03:24.160843: I tensorflow/core/common_runtime/gpu/gpu_device.cc:1618] Found device 0 with properties: \n",
      "name: GeForce GTX 1050 major: 6 minor: 1 memoryClockRate(GHz): 1.493\n",
      "pciBusID: 0000:01:00.0\n",
      "2022-03-24 23:03:24.160878: I tensorflow/stream_executor/platform/default/dso_loader.cc:44] Successfully opened dynamic library cudart64_100.dll\n",
      "2022-03-24 23:03:24.164771: I tensorflow/stream_executor/platform/default/dso_loader.cc:44] Successfully opened dynamic library cublas64_100.dll\n",
      "2022-03-24 23:03:24.168245: I tensorflow/stream_executor/platform/default/dso_loader.cc:44] Successfully opened dynamic library cufft64_100.dll\n",
      "2022-03-24 23:03:24.169956: I tensorflow/stream_executor/platform/default/dso_loader.cc:44] Successfully opened dynamic library curand64_100.dll\n",
      "2022-03-24 23:03:24.174996: I tensorflow/stream_executor/platform/default/dso_loader.cc:44] Successfully opened dynamic library cusolver64_100.dll\n",
      "2022-03-24 23:03:24.178203: I tensorflow/stream_executor/platform/default/dso_loader.cc:44] Successfully opened dynamic library cusparse64_100.dll\n",
      "2022-03-24 23:03:24.184808: I tensorflow/stream_executor/platform/default/dso_loader.cc:44] Successfully opened dynamic library cudnn64_7.dll\n",
      "2022-03-24 23:03:24.184900: I tensorflow/core/common_runtime/gpu/gpu_device.cc:1746] Adding visible gpu devices: 0\n",
      "2022-03-24 23:03:24.185175: I tensorflow/core/platform/cpu_feature_guard.cc:142] Your CPU supports instructions that this TensorFlow binary was not compiled to use: AVX2\n",
      "2022-03-24 23:03:24.187774: I tensorflow/core/common_runtime/gpu/gpu_device.cc:1618] Found device 0 with properties: \n",
      "name: GeForce GTX 1050 major: 6 minor: 1 memoryClockRate(GHz): 1.493\n",
      "pciBusID: 0000:01:00.0\n",
      "2022-03-24 23:03:24.187788: I tensorflow/stream_executor/platform/default/dso_loader.cc:44] Successfully opened dynamic library cudart64_100.dll\n",
      "2022-03-24 23:03:24.187795: I tensorflow/stream_executor/platform/default/dso_loader.cc:44] Successfully opened dynamic library cublas64_100.dll\n",
      "2022-03-24 23:03:24.187801: I tensorflow/stream_executor/platform/default/dso_loader.cc:44] Successfully opened dynamic library cufft64_100.dll\n",
      "2022-03-24 23:03:24.187806: I tensorflow/stream_executor/platform/default/dso_loader.cc:44] Successfully opened dynamic library curand64_100.dll\n",
      "2022-03-24 23:03:24.187811: I tensorflow/stream_executor/platform/default/dso_loader.cc:44] Successfully opened dynamic library cusolver64_100.dll\n",
      "2022-03-24 23:03:24.187816: I tensorflow/stream_executor/platform/default/dso_loader.cc:44] Successfully opened dynamic library cusparse64_100.dll\n",
      "2022-03-24 23:03:24.187821: I tensorflow/stream_executor/platform/default/dso_loader.cc:44] Successfully opened dynamic library cudnn64_7.dll\n",
      "2022-03-24 23:03:24.187855: I tensorflow/core/common_runtime/gpu/gpu_device.cc:1746] Adding visible gpu devices: 0\n",
      "2022-03-24 23:03:24.650450: I tensorflow/core/common_runtime/gpu/gpu_device.cc:1159] Device interconnect StreamExecutor with strength 1 edge matrix:\n",
      "2022-03-24 23:03:24.650467: I tensorflow/core/common_runtime/gpu/gpu_device.cc:1165]      0 \n",
      "2022-03-24 23:03:24.650472: I tensorflow/core/common_runtime/gpu/gpu_device.cc:1178] 0:   N \n",
      "2022-03-24 23:03:24.650616: I tensorflow/core/common_runtime/gpu/gpu_device.cc:1304] Created TensorFlow device (/job:localhost/replica:0/task:0/device:GPU:0 with 1343 MB memory) -> physical GPU (device: 0, name: GeForce GTX 1050, pci bus id: 0000:01:00.0, compute capability: 6.1)\n"
     ]
    }
   ],
   "source": [
    "!{command}"
   ]
  },
  {
   "cell_type": "markdown",
   "metadata": {
    "id": "5NQqZRdA21Uc"
   },
   "source": [
    "# 13. Evaluarea modelului TFLITE"
   ]
  },
  {
   "cell_type": "code",
   "execution_count": null,
   "metadata": {
    "id": "tTVTGCQp2ZJJ"
   },
   "outputs": [],
   "source": [
    "import os\n",
    "import re\n",
    "import numpy as np\n",
    "from PIL import Image\n",
    "from PIL import ImageDraw\n",
    "%matplotlib inline\n",
    "\n",
    "# Creates tflite interpreter\n",
    "interpreter = tf.lite.Interpreter(paths['TFLITE_PATH'] + '/traffic.tflite')\n",
    "interpreter.allocate_tensors()\n",
    "interpreter.invoke() # warmup\n",
    "input_details = interpreter.get_input_details()\n",
    "output_details = interpreter.get_output_details()\n",
    "width = input_details[0]['shape'][2]\n",
    "height = input_details[0]['shape'][1]\n",
    "\n",
    "def read_label_file(file_path):\n",
    "  with open(file_path, 'r', encoding='utf-8') as f:\n",
    "    lines = f.readlines()\n",
    "  ret = {}\n",
    "  for row_number, content in enumerate(lines):\n",
    "    pair = re.split(r'[:\\s]+', content.strip(), maxsplit=1)\n",
    "    if len(pair) == 2 and pair[0].strip().isdigit():\n",
    "      ret[int(pair[0])] = pair[1].strip()\n",
    "    else:\n",
    "      ret[row_number] = content.strip()\n",
    "  return ret\n",
    "\n",
    "def run_inference(interpreter, image):\n",
    "  interpreter.set_tensor(input_details[0]['index'], image)\n",
    "  interpreter.invoke()\n",
    "  boxes = interpreter.get_tensor(output_details[0]['index'])[0]\n",
    "  classes = interpreter.get_tensor(output_details[1]['index'])[0]\n",
    "  scores = interpreter.get_tensor(output_details[2]['index'])[0]\n",
    "  # num_detections = interpreter.get_tensor(output_details[3]['index'])[0]\n",
    "  return boxes, classes, scores\n",
    "\n",
    "image_path = os.path.join(paths['IMAGE_PATH'], 'test','stop-sign-road-sign-street.png')\n",
    "print('Evaluating:', image_path)\n",
    "image = Image.open(image_path)\n",
    "image_width, image_height = image.size\n",
    "draw = ImageDraw.Draw(image)\n",
    "resized_image = image.resize((width, height))\n",
    "np_image = np.asarray(resized_image)\n",
    "input_tensor = np.expand_dims(np_image, axis=0)\n",
    "# Run inference\n",
    "boxes, classes, scores = run_inference(interpreter, input_tensor)\n",
    "# Draw results on image\n",
    "colors = {0:(128, 255, 102), 1:(102, 255, 255)}\n",
    "labels = read_label_file(paths['ANNOTATIONS'] + '/labels.txt')\n",
    "for i in range(len(boxes)):\n",
    "    if scores[i] > .7:\n",
    "      ymin = int(max(1, (boxes[i][0] * image_height)))\n",
    "      xmin = int(max(1, (boxes[i][1] * image_width)))\n",
    "      ymax = int(min(image_height, (boxes[i][2] * image_height)))\n",
    "      xmax = int(min(image_width, (boxes[i][3] * image_width)))\n",
    "      draw.rectangle((xmin, ymin, xmax, ymax), width=7, outline=colors[int(classes[i])])\n",
    "      draw.rectangle((xmin, ymin, xmax, ymin-10), fill=colors[int(classes[i])])\n",
    "      text = labels[int(classes[i])] + ' ' + str(scores[i]*100) + '%'\n",
    "      draw.text((xmin+2, ymin-10), text, fill=(0,0,0), width=2)\n",
    "    display(image)"
   ]
  },
  {
   "cell_type": "markdown",
   "metadata": {
    "colab": {
     "base_uri": "https://localhost:8080/"
    },
    "id": "whShhB0x3PYJ",
    "outputId": "b773201d-35c9-46a8-b893-4a76bd4d5d97"
   },
   "source": [
    "# 14. Compilarea pentru Edge TPU"
   ]
  },
  {
   "cell_type": "code",
   "execution_count": null,
   "metadata": {},
   "outputs": [],
   "source": [
    "#instalarea compilatorului\n",
    "! curl https://packages.cloud.google.com/apt/doc/apt-key.gpg | apt-key add -\n",
    "! echo \"deb https://packages.cloud.google.com/apt coral-edgetpu-stable main\" | sudo tee /etc/apt/sources.list.d/coral-edgetpu.list\n",
    "! sudo apt-get update\n",
    "! sudo apt-get install edgetpu-compiler"
   ]
  },
  {
   "cell_type": "code",
   "execution_count": null,
   "metadata": {},
   "outputs": [],
   "source": [
    "%cd paths['TFLITE_PATH']\n",
    "\n",
    "! edgetpu_compiler -s traffic.tflite"
   ]
  },
  {
   "cell_type": "markdown",
   "metadata": {},
   "source": [
    "# 15. Rularea pe Edge TPU"
   ]
  },
  {
   "cell_type": "code",
   "execution_count": null,
   "metadata": {},
   "outputs": [],
   "source": [
    "wget https://c4.staticflickr.com/8/7580/15865399370_ffa5b49d20_z.jpg -O dog.jpg && \\\n",
    "wget https://c6.staticflickr.com/9/8534/8652503705_687d957a29_z.jpg -O cat.jpg"
   ]
  },
  {
   "cell_type": "code",
   "execution_count": null,
   "metadata": {},
   "outputs": [],
   "source": [
    "git clone https://github.com/google-coral/pycoral\n",
    "\n",
    "cd pycoral/examples/\n",
    "\n",
    "python3 detect_image.py \\\n",
    "  --model ssdlite_mobiledet_dog_vs_cat_edgetpu.tflite \\\n",
    "  --labels labels.txt \\\n",
    "  --input dog.jpg \\\n",
    "  --output dog_result.jpg"
   ]
  }
 ],
 "metadata": {
  "accelerator": "GPU",
  "colab": {
   "name": "3. Training and Detection.ipynb",
   "provenance": []
  },
  "kernelspec": {
   "display_name": "cuant",
   "language": "python",
   "name": "cuant"
  },
  "language_info": {
   "codemirror_mode": {
    "name": "ipython",
    "version": 3
   },
   "file_extension": ".py",
   "mimetype": "text/x-python",
   "name": "python",
   "nbconvert_exporter": "python",
   "pygments_lexer": "ipython3",
   "version": "3.7.10"
  }
 },
 "nbformat": 4,
 "nbformat_minor": 1
}
